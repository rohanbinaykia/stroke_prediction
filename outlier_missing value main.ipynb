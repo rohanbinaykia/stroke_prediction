{
 "cells": [
  {
   "cell_type": "code",
   "execution_count": 1,
   "id": "76ae2ca9",
   "metadata": {},
   "outputs": [],
   "source": [
    "#importing libraries \n",
    "import pandas as pd \n",
    "import numpy as np\n",
    "import matplotlib.pyplot as plt\n",
    "%matplotlib inline\n",
    "import sklearn\n",
    "import seaborn as sns\n",
    "import math\n",
    "import statsmodels.api as sm"
   ]
  },
  {
   "cell_type": "code",
   "execution_count": 2,
   "id": "7690a7e8",
   "metadata": {},
   "outputs": [],
   "source": [
    "from sklearn.metrics import f1_score as f1\n",
    "from sklearn.preprocessing import LabelEncoder\n",
    "from sklearn.preprocessing import MinMaxScaler\n",
    "from sklearn.linear_model import LogisticRegression as logreg\n",
    "from sklearn.linear_model import LinearRegression as linreg\n",
    "\n",
    "from sklearn.model_selection import train_test_split\n",
    "from sklearn.metrics import roc_auc_score as auc, accuracy_score as acc, confusion_matrix as cm \n",
    "from sklearn.metrics import precision_score as prec, recall_score as rec,average_precision_score as aps\n",
    "\n",
    "from pandas.core.common import SettingWithCopyWarning\n",
    "import warnings\n",
    "import warnings\n",
    "warnings.simplefilter(action='ignore', category=FutureWarning)\n",
    "warnings.simplefilter(action='ignore', category=UserWarning)\n",
    "warnings.simplefilter(action='ignore', category=RuntimeWarning)\n",
    "warnings.simplefilter(action='ignore', category=SettingWithCopyWarning)"
   ]
  },
  {
   "cell_type": "markdown",
   "id": "afbf3def",
   "metadata": {},
   "source": [
    "## random state"
   ]
  },
  {
   "cell_type": "code",
   "execution_count": 3,
   "id": "076846e0",
   "metadata": {},
   "outputs": [],
   "source": [
    "r=84"
   ]
  },
  {
   "cell_type": "code",
   "execution_count": 4,
   "id": "8ec35987",
   "metadata": {},
   "outputs": [
    {
     "data": {
      "text/html": [
       "<div>\n",
       "<style scoped>\n",
       "    .dataframe tbody tr th:only-of-type {\n",
       "        vertical-align: middle;\n",
       "    }\n",
       "\n",
       "    .dataframe tbody tr th {\n",
       "        vertical-align: top;\n",
       "    }\n",
       "\n",
       "    .dataframe thead th {\n",
       "        text-align: right;\n",
       "    }\n",
       "</style>\n",
       "<table border=\"1\" class=\"dataframe\">\n",
       "  <thead>\n",
       "    <tr style=\"text-align: right;\">\n",
       "      <th></th>\n",
       "      <th>id</th>\n",
       "      <th>gender</th>\n",
       "      <th>age</th>\n",
       "      <th>hypertension</th>\n",
       "      <th>heart_disease</th>\n",
       "      <th>ever_married</th>\n",
       "      <th>work_type</th>\n",
       "      <th>Residence_type</th>\n",
       "      <th>avg_glucose_level</th>\n",
       "      <th>bmi</th>\n",
       "      <th>smoking_status</th>\n",
       "      <th>stroke</th>\n",
       "    </tr>\n",
       "  </thead>\n",
       "  <tbody>\n",
       "    <tr>\n",
       "      <th>0</th>\n",
       "      <td>9046</td>\n",
       "      <td>Male</td>\n",
       "      <td>67.0</td>\n",
       "      <td>0</td>\n",
       "      <td>1</td>\n",
       "      <td>Yes</td>\n",
       "      <td>Private</td>\n",
       "      <td>Urban</td>\n",
       "      <td>228.69</td>\n",
       "      <td>36.6</td>\n",
       "      <td>formerly smoked</td>\n",
       "      <td>1</td>\n",
       "    </tr>\n",
       "    <tr>\n",
       "      <th>1</th>\n",
       "      <td>51676</td>\n",
       "      <td>Female</td>\n",
       "      <td>61.0</td>\n",
       "      <td>0</td>\n",
       "      <td>0</td>\n",
       "      <td>Yes</td>\n",
       "      <td>Self-employed</td>\n",
       "      <td>Rural</td>\n",
       "      <td>202.21</td>\n",
       "      <td>NaN</td>\n",
       "      <td>never smoked</td>\n",
       "      <td>1</td>\n",
       "    </tr>\n",
       "    <tr>\n",
       "      <th>2</th>\n",
       "      <td>31112</td>\n",
       "      <td>Male</td>\n",
       "      <td>80.0</td>\n",
       "      <td>0</td>\n",
       "      <td>1</td>\n",
       "      <td>Yes</td>\n",
       "      <td>Private</td>\n",
       "      <td>Rural</td>\n",
       "      <td>105.92</td>\n",
       "      <td>32.5</td>\n",
       "      <td>never smoked</td>\n",
       "      <td>1</td>\n",
       "    </tr>\n",
       "    <tr>\n",
       "      <th>3</th>\n",
       "      <td>60182</td>\n",
       "      <td>Female</td>\n",
       "      <td>49.0</td>\n",
       "      <td>0</td>\n",
       "      <td>0</td>\n",
       "      <td>Yes</td>\n",
       "      <td>Private</td>\n",
       "      <td>Urban</td>\n",
       "      <td>171.23</td>\n",
       "      <td>34.4</td>\n",
       "      <td>smokes</td>\n",
       "      <td>1</td>\n",
       "    </tr>\n",
       "    <tr>\n",
       "      <th>4</th>\n",
       "      <td>1665</td>\n",
       "      <td>Female</td>\n",
       "      <td>79.0</td>\n",
       "      <td>1</td>\n",
       "      <td>0</td>\n",
       "      <td>Yes</td>\n",
       "      <td>Self-employed</td>\n",
       "      <td>Rural</td>\n",
       "      <td>174.12</td>\n",
       "      <td>24.0</td>\n",
       "      <td>never smoked</td>\n",
       "      <td>1</td>\n",
       "    </tr>\n",
       "  </tbody>\n",
       "</table>\n",
       "</div>"
      ],
      "text/plain": [
       "      id  gender   age  hypertension  heart_disease ever_married  \\\n",
       "0   9046    Male  67.0             0              1          Yes   \n",
       "1  51676  Female  61.0             0              0          Yes   \n",
       "2  31112    Male  80.0             0              1          Yes   \n",
       "3  60182  Female  49.0             0              0          Yes   \n",
       "4   1665  Female  79.0             1              0          Yes   \n",
       "\n",
       "       work_type Residence_type  avg_glucose_level   bmi   smoking_status  \\\n",
       "0        Private          Urban             228.69  36.6  formerly smoked   \n",
       "1  Self-employed          Rural             202.21   NaN     never smoked   \n",
       "2        Private          Rural             105.92  32.5     never smoked   \n",
       "3        Private          Urban             171.23  34.4           smokes   \n",
       "4  Self-employed          Rural             174.12  24.0     never smoked   \n",
       "\n",
       "   stroke  \n",
       "0       1  \n",
       "1       1  \n",
       "2       1  \n",
       "3       1  \n",
       "4       1  "
      ]
     },
     "execution_count": 4,
     "metadata": {},
     "output_type": "execute_result"
    }
   ],
   "source": [
    "data = pd.read_csv('healthcare-dataset-stroke-data.csv')\n",
    "data.head()"
   ]
  },
  {
   "cell_type": "code",
   "execution_count": 5,
   "id": "16a2e90c",
   "metadata": {},
   "outputs": [
    {
     "data": {
      "text/plain": [
       "(5110, 12)"
      ]
     },
     "execution_count": 5,
     "metadata": {},
     "output_type": "execute_result"
    }
   ],
   "source": [
    "data.shape"
   ]
  },
  {
   "cell_type": "code",
   "execution_count": 6,
   "id": "e5b1160e",
   "metadata": {},
   "outputs": [],
   "source": [
    "target='stroke'         \n",
    "model= logreg()\n",
    "lr=linreg()\n",
    "scaler = MinMaxScaler()"
   ]
  },
  {
   "cell_type": "markdown",
   "id": "e822084a",
   "metadata": {},
   "source": [
    "## preprocessing"
   ]
  },
  {
   "cell_type": "code",
   "execution_count": 7,
   "id": "54011f34",
   "metadata": {},
   "outputs": [],
   "source": [
    "data=data[[z for z in data.columns.tolist() if z not in ['Unnamed: 0']]].copy()"
   ]
  },
  {
   "cell_type": "code",
   "execution_count": 8,
   "id": "cbcc8b51",
   "metadata": {},
   "outputs": [],
   "source": [
    "data=data[[z for z in data.columns.tolist() if z not in ['ID','id']]].copy()"
   ]
  },
  {
   "cell_type": "code",
   "execution_count": 9,
   "id": "d8cb9668",
   "metadata": {},
   "outputs": [],
   "source": [
    "labelencode=['gender','ever_married','work_type','Residence_type','smoking_status']\n",
    "\n",
    "for i in labelencode:\n",
    " le = LabelEncoder()\n",
    " le.fit(data[i])\n",
    " data[i]=le.transform(data[i])"
   ]
  },
  {
   "cell_type": "code",
   "execution_count": 10,
   "id": "6e4834d9",
   "metadata": {},
   "outputs": [
    {
     "data": {
      "text/html": [
       "<div>\n",
       "<style scoped>\n",
       "    .dataframe tbody tr th:only-of-type {\n",
       "        vertical-align: middle;\n",
       "    }\n",
       "\n",
       "    .dataframe tbody tr th {\n",
       "        vertical-align: top;\n",
       "    }\n",
       "\n",
       "    .dataframe thead th {\n",
       "        text-align: right;\n",
       "    }\n",
       "</style>\n",
       "<table border=\"1\" class=\"dataframe\">\n",
       "  <thead>\n",
       "    <tr style=\"text-align: right;\">\n",
       "      <th></th>\n",
       "      <th>gender</th>\n",
       "      <th>age</th>\n",
       "      <th>hypertension</th>\n",
       "      <th>heart_disease</th>\n",
       "      <th>ever_married</th>\n",
       "      <th>work_type</th>\n",
       "      <th>Residence_type</th>\n",
       "      <th>avg_glucose_level</th>\n",
       "      <th>bmi</th>\n",
       "      <th>smoking_status</th>\n",
       "      <th>stroke</th>\n",
       "    </tr>\n",
       "  </thead>\n",
       "  <tbody>\n",
       "    <tr>\n",
       "      <th>0</th>\n",
       "      <td>1</td>\n",
       "      <td>67.0</td>\n",
       "      <td>0</td>\n",
       "      <td>1</td>\n",
       "      <td>1</td>\n",
       "      <td>2</td>\n",
       "      <td>1</td>\n",
       "      <td>228.69</td>\n",
       "      <td>36.6</td>\n",
       "      <td>1</td>\n",
       "      <td>1</td>\n",
       "    </tr>\n",
       "    <tr>\n",
       "      <th>1</th>\n",
       "      <td>0</td>\n",
       "      <td>61.0</td>\n",
       "      <td>0</td>\n",
       "      <td>0</td>\n",
       "      <td>1</td>\n",
       "      <td>3</td>\n",
       "      <td>0</td>\n",
       "      <td>202.21</td>\n",
       "      <td>NaN</td>\n",
       "      <td>2</td>\n",
       "      <td>1</td>\n",
       "    </tr>\n",
       "    <tr>\n",
       "      <th>2</th>\n",
       "      <td>1</td>\n",
       "      <td>80.0</td>\n",
       "      <td>0</td>\n",
       "      <td>1</td>\n",
       "      <td>1</td>\n",
       "      <td>2</td>\n",
       "      <td>0</td>\n",
       "      <td>105.92</td>\n",
       "      <td>32.5</td>\n",
       "      <td>2</td>\n",
       "      <td>1</td>\n",
       "    </tr>\n",
       "    <tr>\n",
       "      <th>3</th>\n",
       "      <td>0</td>\n",
       "      <td>49.0</td>\n",
       "      <td>0</td>\n",
       "      <td>0</td>\n",
       "      <td>1</td>\n",
       "      <td>2</td>\n",
       "      <td>1</td>\n",
       "      <td>171.23</td>\n",
       "      <td>34.4</td>\n",
       "      <td>3</td>\n",
       "      <td>1</td>\n",
       "    </tr>\n",
       "    <tr>\n",
       "      <th>4</th>\n",
       "      <td>0</td>\n",
       "      <td>79.0</td>\n",
       "      <td>1</td>\n",
       "      <td>0</td>\n",
       "      <td>1</td>\n",
       "      <td>3</td>\n",
       "      <td>0</td>\n",
       "      <td>174.12</td>\n",
       "      <td>24.0</td>\n",
       "      <td>2</td>\n",
       "      <td>1</td>\n",
       "    </tr>\n",
       "  </tbody>\n",
       "</table>\n",
       "</div>"
      ],
      "text/plain": [
       "   gender   age  hypertension  heart_disease  ever_married  work_type  \\\n",
       "0       1  67.0             0              1             1          2   \n",
       "1       0  61.0             0              0             1          3   \n",
       "2       1  80.0             0              1             1          2   \n",
       "3       0  49.0             0              0             1          2   \n",
       "4       0  79.0             1              0             1          3   \n",
       "\n",
       "   Residence_type  avg_glucose_level   bmi  smoking_status  stroke  \n",
       "0               1             228.69  36.6               1       1  \n",
       "1               0             202.21   NaN               2       1  \n",
       "2               0             105.92  32.5               2       1  \n",
       "3               1             171.23  34.4               3       1  \n",
       "4               0             174.12  24.0               2       1  "
      ]
     },
     "execution_count": 10,
     "metadata": {},
     "output_type": "execute_result"
    }
   ],
   "source": [
    "data.head()"
   ]
  },
  {
   "cell_type": "code",
   "execution_count": 11,
   "id": "7688c258",
   "metadata": {},
   "outputs": [],
   "source": [
    "data=(data[[z for z in data.columns.tolist() if z not in ['Unnamed: 0']]]).copy()"
   ]
  },
  {
   "cell_type": "markdown",
   "id": "652d7acd",
   "metadata": {},
   "source": [
    "## missing values"
   ]
  },
  {
   "cell_type": "code",
   "execution_count": 20,
   "id": "abf061b3",
   "metadata": {},
   "outputs": [],
   "source": [
    "kval_n=2"
   ]
  },
  {
   "cell_type": "code",
   "execution_count": 21,
   "id": "aab46a41",
   "metadata": {},
   "outputs": [],
   "source": [
    "def kval(main,step,n=kval_n):\n",
    "\n",
    " klist=[]\n",
    " if (step==0):\n",
    "    step=0.0001\n",
    " i=main-step*n\n",
    " if (main>=0):\n",
    "  while (i<=main+step*n):\n",
    "    \n",
    "    klist.append(i)\n",
    "    i=i+step\n",
    "  return klist\n",
    " else:\n",
    "  while (i>=main+step*n):\n",
    "    \n",
    "    klist.append(i)\n",
    "    i=i+step\n",
    "  return klist\n",
    "  "
   ]
  },
  {
   "cell_type": "markdown",
   "id": "66c65b16",
   "metadata": {},
   "source": [
    "best way to do missing value imputation is threshholding and creating an ml model where we have to predict missing value so we have to create n models if m columns have missing values and m-t columns are dropped as their missing values cross the threshhold.t-n missing values are imputed using mean mode etc.n missing values are computed by models.the threshhold for deciding t from n can be randomly selected"
   ]
  },
  {
   "cell_type": "code",
   "execution_count": 22,
   "id": "f7a866d0",
   "metadata": {
    "scrolled": true
   },
   "outputs": [
    {
     "data": {
      "text/plain": [
       "id                     0\n",
       "gender                 0\n",
       "age                    0\n",
       "hypertension           0\n",
       "heart_disease          0\n",
       "ever_married           0\n",
       "work_type              0\n",
       "Residence_type         0\n",
       "avg_glucose_level      0\n",
       "bmi                  201\n",
       "smoking_status         0\n",
       "stroke                 0\n",
       "dtype: int64"
      ]
     },
     "execution_count": 22,
     "metadata": {},
     "output_type": "execute_result"
    }
   ],
   "source": [
    "data.isnull().sum()"
   ]
  },
  {
   "cell_type": "code",
   "execution_count": 23,
   "id": "e73360e8",
   "metadata": {},
   "outputs": [],
   "source": [
    "intlist=data.dtypes[data.dtypes=='int64'].index.tolist()\n",
    "floatlist=data.dtypes[data.dtypes=='float64'].index.tolist()"
   ]
  },
  {
   "cell_type": "code",
   "execution_count": 25,
   "id": "4d51c09f",
   "metadata": {},
   "outputs": [],
   "source": [
    "flist,ilist=[[],[]]\n",
    "for i in range(len(intlist)):\n",
    "    if len(data[intlist[i]].value_counts())>13:\n",
    "        flist.append(intlist[i])\n",
    "    else :\n",
    "        ilist.append(intlist[i])\n",
    "floatlist.extend(flist)\n",
    "intlist=ilist"
   ]
  },
  {
   "cell_type": "markdown",
   "id": "f818ddc9",
   "metadata": {},
   "source": [
    "### pls check wether missing values of all columns of intlist are to be imputed using classification and all other columns by regression"
   ]
  },
  {
   "cell_type": "markdown",
   "id": "1898e8d3",
   "metadata": {},
   "source": [
    "objcol is intlist. . .....it is actually assumed to be the columns where classification model is to be applied to impute the missing values.similarly all other columns are considered to have regression model to be applied to impute missing values"
   ]
  },
  {
   "cell_type": "code",
   "execution_count": 29,
   "id": "0197f63e",
   "metadata": {},
   "outputs": [],
   "source": [
    "objcol=intlist\n",
    "model_criteria=math.ceil(data.shape[0]/1500)\n",
    "model_criteria\n",
    "\n",
    "model_index=[i for i, j in enumerate(data.isnull().sum().values) if j >model_criteria] \n",
    "nonmodel_index=[i for i, j in enumerate(data.isnull().sum().values) if (j <= model_criteria)&(j>0)]\n",
    "for i in nonmodel_index:\n",
    " mean=np.array(data[data[i].isnull()==False][i]).mean()\n",
    " data[i]=(data[i].fillna(mean)).copy()"
   ]
  },
  {
   "cell_type": "code",
   "execution_count": 30,
   "id": "08971e0e",
   "metadata": {},
   "outputs": [],
   "source": [
    "d=data.copy()"
   ]
  },
  {
   "cell_type": "code",
   "execution_count": 31,
   "id": "17086232",
   "metadata": {},
   "outputs": [],
   "source": [
    "missing_index1=[i for i, j in enumerate(d.isnull().sum().values) if j > 0]\n",
    "missingcol1=[d.isnull().sum().index.tolist()[z] for z in missing_index1]"
   ]
  },
  {
   "cell_type": "code",
   "execution_count": 33,
   "id": "6e91e5cd",
   "metadata": {},
   "outputs": [],
   "source": [
    "modelstore=model"
   ]
  },
  {
   "cell_type": "code",
   "execution_count": 35,
   "id": "c2efac8b",
   "metadata": {},
   "outputs": [],
   "source": [
    "c=0\n",
    "testdata_index=[]\n",
    "traindata_index=[]\n",
    "for i in [data.isnull().sum().index.tolist()[z] for z in model_index]:\n",
    "   testdata_index.append([])\n",
    "   traindata_index.append([])\n",
    "   target1=i\n",
    "   missing_index=[i for i, j in enumerate(d.isnull().sum().values) if j > 0]\n",
    "   missingcol=[d.isnull().sum().index.tolist()[z] for z in missing_index]\n",
    "   d0=d[[z for z in d if z not in [t for t in missingcol if t not in target1]]].copy()\n",
    "   testdata=d0[pd.isnull(d0[target1])==True].copy()\n",
    "   testdata_index[c]=testdata.index.tolist()\n",
    "   testx = testdata[[z for z in testdata.columns.tolist() if z not in [target1]]].copy()\n",
    "   testy = testdata[target1].copy()\n",
    "   traindata=d0[pd.isnull(d0[target1])==False].copy()\n",
    "   traindata_index[c]=traindata.index.tolist()\n",
    "   trainx = traindata[[z for z in traindata.columns.tolist() if z not in [target1]]].copy()\n",
    "\n",
    "   cols=trainx.columns.tolist()\n",
    "   trainx = pd.DataFrame(scaler.fit_transform(trainx),columns=cols).copy()\n",
    "   testx = pd.DataFrame(scaler.fit_transform(testx),columns=cols).copy()\n",
    "   \n",
    "    \n",
    "   trainy = traindata[target1].copy()\n",
    "   c=c+1\n",
    "   if (target1 in objcol):\n",
    "    model=logreg\n",
    "    model.fit(trainx,trainy)\n",
    "    d.loc[d[d[target1].isnull()].index.tolist(),[target1]]=model.predict(testx).copy()\n",
    "   else:\n",
    "    model=lr\n",
    "    model.fit(trainx,trainy)\n",
    "    d.loc[d[d[target1].isnull()].index.tolist(),[target1]]=model.predict(testx).copy()"
   ]
  },
  {
   "cell_type": "code",
   "execution_count": 36,
   "id": "ffbde474",
   "metadata": {},
   "outputs": [],
   "source": [
    "model=modelstore"
   ]
  },
  {
   "cell_type": "code",
   "execution_count": 37,
   "id": "e8741cea",
   "metadata": {},
   "outputs": [],
   "source": [
    "data=d.copy()"
   ]
  },
  {
   "cell_type": "markdown",
   "id": "a078e5db",
   "metadata": {},
   "source": [
    "## outliers"
   ]
  },
  {
   "cell_type": "code",
   "execution_count": 38,
   "id": "201c2866",
   "metadata": {},
   "outputs": [],
   "source": [
    "data_outlier=data.copy()"
   ]
  },
  {
   "cell_type": "code",
   "execution_count": 39,
   "id": "9fffbe7e",
   "metadata": {},
   "outputs": [],
   "source": [
    "data_outlier_target=data.copy()"
   ]
  },
  {
   "cell_type": "code",
   "execution_count": 40,
   "id": "edf737fc",
   "metadata": {
    "scrolled": true
   },
   "outputs": [
    {
     "data": {
      "text/html": [
       "<div>\n",
       "<style scoped>\n",
       "    .dataframe tbody tr th:only-of-type {\n",
       "        vertical-align: middle;\n",
       "    }\n",
       "\n",
       "    .dataframe tbody tr th {\n",
       "        vertical-align: top;\n",
       "    }\n",
       "\n",
       "    .dataframe thead th {\n",
       "        text-align: right;\n",
       "    }\n",
       "</style>\n",
       "<table border=\"1\" class=\"dataframe\">\n",
       "  <thead>\n",
       "    <tr style=\"text-align: right;\">\n",
       "      <th></th>\n",
       "      <th>gender</th>\n",
       "      <th>age</th>\n",
       "      <th>hypertension</th>\n",
       "      <th>heart_disease</th>\n",
       "      <th>ever_married</th>\n",
       "      <th>work_type</th>\n",
       "      <th>Residence_type</th>\n",
       "      <th>avg_glucose_level</th>\n",
       "      <th>bmi</th>\n",
       "      <th>smoking_status</th>\n",
       "      <th>stroke</th>\n",
       "    </tr>\n",
       "  </thead>\n",
       "  <tbody>\n",
       "    <tr>\n",
       "      <th>0</th>\n",
       "      <td>1</td>\n",
       "      <td>67.0</td>\n",
       "      <td>0</td>\n",
       "      <td>1</td>\n",
       "      <td>1</td>\n",
       "      <td>2</td>\n",
       "      <td>1</td>\n",
       "      <td>228.69</td>\n",
       "      <td>36.600000</td>\n",
       "      <td>1</td>\n",
       "      <td>1</td>\n",
       "    </tr>\n",
       "    <tr>\n",
       "      <th>1</th>\n",
       "      <td>0</td>\n",
       "      <td>61.0</td>\n",
       "      <td>0</td>\n",
       "      <td>0</td>\n",
       "      <td>1</td>\n",
       "      <td>3</td>\n",
       "      <td>0</td>\n",
       "      <td>202.21</td>\n",
       "      <td>30.571525</td>\n",
       "      <td>2</td>\n",
       "      <td>1</td>\n",
       "    </tr>\n",
       "    <tr>\n",
       "      <th>2</th>\n",
       "      <td>1</td>\n",
       "      <td>80.0</td>\n",
       "      <td>0</td>\n",
       "      <td>1</td>\n",
       "      <td>1</td>\n",
       "      <td>2</td>\n",
       "      <td>0</td>\n",
       "      <td>105.92</td>\n",
       "      <td>32.500000</td>\n",
       "      <td>2</td>\n",
       "      <td>1</td>\n",
       "    </tr>\n",
       "    <tr>\n",
       "      <th>3</th>\n",
       "      <td>0</td>\n",
       "      <td>49.0</td>\n",
       "      <td>0</td>\n",
       "      <td>0</td>\n",
       "      <td>1</td>\n",
       "      <td>2</td>\n",
       "      <td>1</td>\n",
       "      <td>171.23</td>\n",
       "      <td>34.400000</td>\n",
       "      <td>3</td>\n",
       "      <td>1</td>\n",
       "    </tr>\n",
       "    <tr>\n",
       "      <th>4</th>\n",
       "      <td>0</td>\n",
       "      <td>79.0</td>\n",
       "      <td>1</td>\n",
       "      <td>0</td>\n",
       "      <td>1</td>\n",
       "      <td>3</td>\n",
       "      <td>0</td>\n",
       "      <td>174.12</td>\n",
       "      <td>24.000000</td>\n",
       "      <td>2</td>\n",
       "      <td>1</td>\n",
       "    </tr>\n",
       "  </tbody>\n",
       "</table>\n",
       "</div>"
      ],
      "text/plain": [
       "   gender   age  hypertension  heart_disease  ever_married  work_type  \\\n",
       "0       1  67.0             0              1             1          2   \n",
       "1       0  61.0             0              0             1          3   \n",
       "2       1  80.0             0              1             1          2   \n",
       "3       0  49.0             0              0             1          2   \n",
       "4       0  79.0             1              0             1          3   \n",
       "\n",
       "   Residence_type  avg_glucose_level        bmi  smoking_status  stroke  \n",
       "0               1             228.69  36.600000               1       1  \n",
       "1               0             202.21  30.571525               2       1  \n",
       "2               0             105.92  32.500000               2       1  \n",
       "3               1             171.23  34.400000               3       1  \n",
       "4               0             174.12  24.000000               2       1  "
      ]
     },
     "execution_count": 40,
     "metadata": {},
     "output_type": "execute_result"
    }
   ],
   "source": [
    "data.head()"
   ]
  },
  {
   "cell_type": "code",
   "execution_count": 41,
   "id": "142e1d0f",
   "metadata": {},
   "outputs": [
    {
     "data": {
      "text/plain": [
       "0.8449172325976231"
      ]
     },
     "execution_count": 41,
     "metadata": {},
     "output_type": "execute_result"
    }
   ],
   "source": [
    "#seperating independent and dependent variables\n",
    "x = (data[[z for z in data.columns.tolist() if z not in [target]]]).copy()\n",
    "y =data[target].copy()\n",
    "\n",
    "train_x,test_x,train_y,test_y = train_test_split(x,y,test_size=1/4,random_state= r,stratify=y).copy()\n",
    "train_x,val_x,train_y,val_y= train_test_split(train_x, train_y, test_size=1/3,random_state=r,stratify=train_y).copy()\n",
    "\n",
    "cols=train_x.columns.tolist()\n",
    "train_x = pd.DataFrame(scaler.fit_transform(train_x),columns=cols).copy()\n",
    "test_x = pd.DataFrame(scaler.fit_transform(test_x),columns=cols).copy()\n",
    "val_x = pd.DataFrame(scaler.fit_transform(val_x),columns=cols).copy()\n",
    "\n",
    "model.fit(train_x,train_y)\n",
    "pred=model.predict_proba(val_x)\n",
    "auc(val_y,pred[:,1])"
   ]
  },
  {
   "cell_type": "code",
   "execution_count": null,
   "id": "b98b51a5",
   "metadata": {},
   "outputs": [],
   "source": []
  },
  {
   "cell_type": "raw",
   "id": "8df506a4",
   "metadata": {},
   "source": [
    "specify noncat"
   ]
  },
  {
   "cell_type": "code",
   "execution_count": 44,
   "id": "7fc5c0d6",
   "metadata": {},
   "outputs": [],
   "source": [
    "intlist=x.dtypes[x.dtypes=='int64'].index.tolist()\n",
    "floatlist=x.dtypes[x.dtypes=='float64'].index.tolist()\n",
    "catlist=x.dtypes[x.dtypes=='category'].index.tolist()"
   ]
  },
  {
   "cell_type": "raw",
   "id": "1a1df0fc",
   "metadata": {},
   "source": [
    "all int columns which are not catlist columns and whose unique values are greater than 20 (in this case) will be considered as noncat column."
   ]
  },
  {
   "cell_type": "code",
   "execution_count": 45,
   "id": "a35b64f0",
   "metadata": {},
   "outputs": [],
   "source": [
    "noncat=[]\n",
    "for i in intlist:\n",
    "    if (len(data[i].value_counts())>20):\n",
    "        noncat.append(i)"
   ]
  },
  {
   "cell_type": "code",
   "execution_count": 46,
   "id": "e86b643a",
   "metadata": {},
   "outputs": [],
   "source": [
    "noncat.extend(floatlist)"
   ]
  },
  {
   "cell_type": "code",
   "execution_count": 47,
   "id": "8ef57988",
   "metadata": {},
   "outputs": [
    {
     "data": {
      "text/plain": [
       "['age', 'avg_glucose_level', 'bmi']"
      ]
     },
     "execution_count": 47,
     "metadata": {},
     "output_type": "execute_result"
    }
   ],
   "source": [
    "noncat"
   ]
  },
  {
   "cell_type": "code",
   "execution_count": null,
   "id": "da196f8c",
   "metadata": {},
   "outputs": [],
   "source": []
  },
  {
   "cell_type": "code",
   "execution_count": 48,
   "id": "0580d96d",
   "metadata": {},
   "outputs": [],
   "source": [
    "outlier_list,outlierhigh,outlierlow=[[],[],[]]\n",
    "for i in noncat :\n",
    "    quant25 = data[i].quantile(0.25)\n",
    "    quant75 = data[i].quantile(0.75)\n",
    "    \n",
    "    IQR = quant75 - quant25\n",
    "    med = data[i].median()\n",
    "    whis_low = quant25-(1.5*IQR)\n",
    "    whis_high = quant75+(1.5*IQR)\n",
    "    \n",
    "    outlier_high = len(data[i][data[i]>(whis_high)])\n",
    "    outlier_low = len(data[i][data[i]<(whis_low)])\n",
    "    outlier_list.append((outlier_high+outlier_low))\n",
    "    outlierhigh.append(outlier_high)\n",
    "    outlierlow.append(outlier_low)\n",
    "      \n",
    "outlier_desc=pd.DataFrame([noncat,outlier_list,outlierhigh,outlierlow],index=['columns','No of outliers','outlier high','outlier low'],).transpose()\n",
    "outlier_desc.sort_values(['No of outliers'], inplace=True ,ascending=False)\n",
    "outlier_desc.reset_index(level=None, drop=True, inplace=True, col_level=0, col_fill='')"
   ]
  },
  {
   "cell_type": "code",
   "execution_count": 49,
   "id": "efe0a228",
   "metadata": {},
   "outputs": [
    {
     "data": {
      "text/html": [
       "<div>\n",
       "<style scoped>\n",
       "    .dataframe tbody tr th:only-of-type {\n",
       "        vertical-align: middle;\n",
       "    }\n",
       "\n",
       "    .dataframe tbody tr th {\n",
       "        vertical-align: top;\n",
       "    }\n",
       "\n",
       "    .dataframe thead th {\n",
       "        text-align: right;\n",
       "    }\n",
       "</style>\n",
       "<table border=\"1\" class=\"dataframe\">\n",
       "  <thead>\n",
       "    <tr style=\"text-align: right;\">\n",
       "      <th></th>\n",
       "      <th>columns</th>\n",
       "      <th>No of outliers</th>\n",
       "      <th>outlier high</th>\n",
       "      <th>outlier low</th>\n",
       "    </tr>\n",
       "  </thead>\n",
       "  <tbody>\n",
       "    <tr>\n",
       "      <th>0</th>\n",
       "      <td>avg_glucose_level</td>\n",
       "      <td>627</td>\n",
       "      <td>627</td>\n",
       "      <td>0</td>\n",
       "    </tr>\n",
       "    <tr>\n",
       "      <th>1</th>\n",
       "      <td>bmi</td>\n",
       "      <td>117</td>\n",
       "      <td>117</td>\n",
       "      <td>0</td>\n",
       "    </tr>\n",
       "    <tr>\n",
       "      <th>2</th>\n",
       "      <td>age</td>\n",
       "      <td>0</td>\n",
       "      <td>0</td>\n",
       "      <td>0</td>\n",
       "    </tr>\n",
       "  </tbody>\n",
       "</table>\n",
       "</div>"
      ],
      "text/plain": [
       "             columns No of outliers outlier high outlier low\n",
       "0  avg_glucose_level            627          627           0\n",
       "1                bmi            117          117           0\n",
       "2                age              0            0           0"
      ]
     },
     "execution_count": 49,
     "metadata": {},
     "output_type": "execute_result"
    }
   ],
   "source": [
    "outlier_desc"
   ]
  },
  {
   "cell_type": "code",
   "execution_count": 50,
   "id": "39fb2fb9",
   "metadata": {},
   "outputs": [
    {
     "data": {
      "text/plain": [
       "0"
      ]
     },
     "execution_count": 50,
     "metadata": {},
     "output_type": "execute_result"
    }
   ],
   "source": [
    "#set minimum number of outliers wrt total no of values which is to be considered to not to set to whiskers\n",
    "outlier_min_whisker=0\n",
    "outlier_min_whisker"
   ]
  },
  {
   "cell_type": "code",
   "execution_count": 51,
   "id": "497fa868",
   "metadata": {},
   "outputs": [],
   "source": [
    "outlierlist=outlier_desc[outlier_desc['No of outliers'] > outlier_min_whisker]['columns'].tolist()"
   ]
  },
  {
   "cell_type": "code",
   "execution_count": 52,
   "id": "febcd4ff",
   "metadata": {},
   "outputs": [
    {
     "data": {
      "text/plain": [
       "['avg_glucose_level', 'bmi']"
      ]
     },
     "execution_count": 52,
     "metadata": {},
     "output_type": "execute_result"
    }
   ],
   "source": [
    "outlierlist"
   ]
  },
  {
   "cell_type": "code",
   "execution_count": 53,
   "id": "acfd9aaa",
   "metadata": {},
   "outputs": [],
   "source": [
    "data=data_outlier.copy()\n",
    "evallist=[]\n",
    "for k in outlierlist:\n",
    " data=data_outlier.copy()\n",
    " for i in data[[z for z in noncat if z not in k]]:\n",
    "     quant25 = data[i].quantile(0.25)\n",
    "     quant75 = data[i].quantile(0.75)\n",
    "     IQR = quant75 - quant25\n",
    "     med = data[i].median()\n",
    "     whis_low = quant25-(1.5*IQR)\n",
    "     whis_high = quant75+(1.5*IQR)\n",
    " \n",
    "     data[i][data[i]>whis_high] = whis_high+1\n",
    "     data[i][data[i]<whis_low] = whis_low-1\n",
    "\n",
    " #seperating independent and dependent variables\n",
    " x = (data[[z for z in data.columns.tolist() if z not in [target]]]).copy()\n",
    " y =data[target].copy() \n",
    "\n",
    " train_x,test_x,train_y,test_y = train_test_split(x,y,test_size=1/4,random_state= r,stratify=y).copy()\n",
    " train_x,val_x,train_y,val_y= train_test_split(train_x, train_y, test_size=1/3,random_state=r,stratify=train_y).copy()\n",
    "\n",
    " cols=train_x.columns.tolist()\n",
    " train_x = pd.DataFrame(scaler.fit_transform(train_x),columns=cols).copy()\n",
    " test_x = pd.DataFrame(scaler.fit_transform(test_x),columns=cols).copy()\n",
    " val_x = pd.DataFrame(scaler.fit_transform(val_x),columns=cols).copy()\n",
    "\n",
    " model.fit(train_x,train_y)\n",
    " pred=model.predict_proba(val_x)\n",
    " evallist.append(auc(val_y,pred[:,1]))"
   ]
  },
  {
   "cell_type": "code",
   "execution_count": 54,
   "id": "a6cad19a",
   "metadata": {},
   "outputs": [],
   "source": [
    "data=data_outlier_target.copy()\n",
    "evallist_target=[]\n",
    "for k in outlierlist:\n",
    " data=data_outlier_target.copy()\n",
    " for i in data[[z for z in noncat if z not in k]]:\n",
    "     quant25 = data[i].quantile(0.25)\n",
    "     quant75 = data[i].quantile(0.75)\n",
    "     IQR = quant75 - quant25\n",
    "     med = data[i].median()\n",
    "     whis_low = quant25-(1.5*IQR)\n",
    "     whis_high = quant75+(1.5*IQR)\n",
    " \n",
    "     data[i][data[i]>whis_high] = whis_high+1\n",
    "     data[i][data[i]<whis_low] = whis_low-1\n",
    "\n",
    " #seperating independent and dependent variables\n",
    " x = data[[z for z in data.columns.tolist() if z not in [target]]].copy()\n",
    " y = data[target].copy()\n",
    " x.shape, y.shape\n",
    "\n",
    " train_x,test_x,train_y,test_y = train_test_split(x,y,test_size=1/4,random_state= r,stratify=y).copy()\n",
    " train_x,val_x,train_y,val_y= train_test_split(train_x, train_y, test_size=1/3,random_state=r,stratify=train_y).copy()\n",
    "\n",
    " cols=train_x.columns.tolist()\n",
    " train_x = pd.DataFrame(scaler.fit_transform(train_x),columns=cols).copy()\n",
    " test_x = pd.DataFrame(scaler.fit_transform(test_x),columns=cols).copy()\n",
    " val_x = pd.DataFrame(scaler.fit_transform(val_x),columns=cols).copy()\n",
    "    \n",
    " model.fit(train_x,train_y)\n",
    " pred=model.predict_proba(val_x)\n",
    " evallist_target.append(auc(val_y,pred[:,1]))"
   ]
  },
  {
   "cell_type": "code",
   "execution_count": 55,
   "id": "99370a2c",
   "metadata": {},
   "outputs": [
    {
     "data": {
      "text/plain": [
       "[0.844983552631579, 0.8444132003395586]"
      ]
     },
     "execution_count": 55,
     "metadata": {},
     "output_type": "execute_result"
    }
   ],
   "source": [
    " evallist"
   ]
  },
  {
   "cell_type": "code",
   "execution_count": 56,
   "id": "04cb2314",
   "metadata": {},
   "outputs": [
    {
     "data": {
      "text/plain": [
       "[0.844983552631579, 0.8444132003395586]"
      ]
     },
     "execution_count": 56,
     "metadata": {},
     "output_type": "execute_result"
    }
   ],
   "source": [
    " evallist_target"
   ]
  },
  {
   "cell_type": "code",
   "execution_count": 57,
   "id": "c6b5d8ae",
   "metadata": {},
   "outputs": [],
   "source": [
    "data=data_outlier_target.copy()\n",
    "for i in data[[z for z in noncat if z not in k]]:\n",
    "     quant25 = data[i].quantile(0.25)\n",
    "     quant75 = data[i].quantile(0.75)\n",
    "     IQR = quant75 - quant25\n",
    "     med = data[i].median()\n",
    "     whis_low = quant25-(1.5*IQR)\n",
    "     whis_high = quant75+(1.5*IQR)\n",
    " \n",
    "     data[i][data[i]>whis_high] = whis_high+1\n",
    "     data[i][data[i]<whis_low] = whis_low-1\n",
    "#seperating independent and dependent variables\n",
    "x = data[[z for z in data.columns.tolist() if z not in [target]]].copy()\n",
    "y = data[target].copy()\n",
    "x.shape, y.shape\n",
    "\n",
    "train_x,test_x,train_y,test_y = train_test_split(x,y,test_size=1/4,random_state= r,stratify=y).copy()\n",
    "train_x,val_x,train_y,val_y= train_test_split(train_x, train_y, test_size=1/3,random_state=r,stratify=train_y).copy()\n",
    "\n",
    "cols=train_x.columns.tolist()\n",
    "train_x = pd.DataFrame(scaler.fit_transform(train_x),columns=cols).copy()\n",
    "test_x = pd.DataFrame(scaler.fit_transform(test_x),columns=cols).copy()\n",
    "val_x = pd.DataFrame(scaler.fit_transform(val_x),columns=cols).copy()\n",
    "\n",
    "model.fit(train_x,train_y)\n",
    "pred=model.predict_proba(val_x)\n",
    "eval_target=auc(val_y,pred[:,1])"
   ]
  },
  {
   "cell_type": "code",
   "execution_count": 58,
   "id": "cf7f00c1",
   "metadata": {},
   "outputs": [
    {
     "data": {
      "text/plain": [
       "0.8444132003395586"
      ]
     },
     "execution_count": 58,
     "metadata": {},
     "output_type": "execute_result"
    }
   ],
   "source": [
    "eval_target"
   ]
  },
  {
   "cell_type": "code",
   "execution_count": 59,
   "id": "50fc90a0",
   "metadata": {},
   "outputs": [],
   "source": [
    "data=data_outlier.copy()\n",
    "for i in data[[z for z in noncat if z not in k]]:\n",
    "     quant25 = data[i].quantile(0.25)\n",
    "     quant75 = data[i].quantile(0.75)\n",
    "     IQR = quant75 - quant25\n",
    "     med = data[i].median()\n",
    "     whis_low = quant25-(1.5*IQR)\n",
    "     whis_high = quant75+(1.5*IQR)\n",
    " \n",
    "     data[i][data[i]>whis_high] = whis_high+1\n",
    "     data[i][data[i]<whis_low] = whis_low-1\n",
    "#seperating independent and dependent variables\n",
    "x = data[[z for z in data.columns.tolist() if z not in [target]]].copy()\n",
    "y = data[target].copy()\n",
    "x.shape, y.shape\n",
    "\n",
    "train_x,test_x,train_y,test_y = train_test_split(x,y,test_size=1/4,random_state= r,stratify=y).copy()\n",
    "train_x,val_x,train_y,val_y= train_test_split(train_x, train_y, test_size=1/3,random_state=r,stratify=train_y).copy()\n",
    "\n",
    "cols=train_x.columns.tolist()\n",
    "train_x = pd.DataFrame(scaler.fit_transform(train_x),columns=cols).copy()\n",
    "test_x = pd.DataFrame(scaler.fit_transform(test_x),columns=cols).copy()\n",
    "val_x = pd.DataFrame(scaler.fit_transform(val_x),columns=cols).copy()\n",
    "\n",
    "\n",
    "model.fit(train_x,train_y)\n",
    "pred=model.predict_proba(val_x)\n",
    "eval=auc(val_y,pred[:,1])"
   ]
  },
  {
   "cell_type": "code",
   "execution_count": 60,
   "id": "b812d913",
   "metadata": {},
   "outputs": [
    {
     "data": {
      "text/plain": [
       "0.8444132003395586"
      ]
     },
     "execution_count": 60,
     "metadata": {},
     "output_type": "execute_result"
    }
   ],
   "source": [
    "eval"
   ]
  },
  {
   "cell_type": "code",
   "execution_count": 61,
   "id": "9a7fa176",
   "metadata": {},
   "outputs": [
    {
     "name": "stdout",
     "output_type": "stream",
     "text": [
      "the outliers from the target column will not be removed\n",
      "the outliers from  ['avg_glucose_level']  will not be removed to minimize eval metric\n"
     ]
    }
   ],
   "source": [
    "if (eval<eval_target):\n",
    "    data=data_outlier_target.copy()\n",
    "    evalvalist=[z for z in evallist_target if z>eval_target]\n",
    "    outlierlist_index=[i for i, e in enumerate(evallist_target) if e in evalvalist]\n",
    "    outliercol=[outlierlist[z] for z in outlierlist_index]\n",
    "    print(\"the outliers from the target column will be removed\")\n",
    "else:\n",
    "    data=data_outlier.copy()\n",
    "    evalvalist=[z for z in evallist if z>eval]\n",
    "    outlierlist_index=[i for i, e in enumerate(evallist) if e in evalvalist]\n",
    "    outliercol=[outlierlist[z] for z in outlierlist_index]\n",
    "    print(\"the outliers from the target column will not be removed\")\n",
    "print(\"the outliers from \" ,outliercol, \" will not be removed to minimize eval metric\")\n",
    "    "
   ]
  },
  {
   "cell_type": "markdown",
   "id": "cf913acf",
   "metadata": {},
   "source": [
    "please note if multiple columns have outliers which should not be removed to minimize eval metric then process might be complex slightly"
   ]
  },
  {
   "cell_type": "code",
   "execution_count": 62,
   "id": "c235d03a",
   "metadata": {},
   "outputs": [],
   "source": [
    "kp=[0.05,0.01,0.005]\n",
    "kn=[-0.05,-0.01,-0.005]"
   ]
  },
  {
   "cell_type": "code",
   "execution_count": 63,
   "id": "5fd129ce",
   "metadata": {},
   "outputs": [],
   "source": [
    "datak=data.copy()"
   ]
  },
  {
   "cell_type": "code",
   "execution_count": 64,
   "id": "50bb83dc",
   "metadata": {},
   "outputs": [],
   "source": [
    "k=[-0.0005,0,0.0005]\n",
    "evallistk=[]\n",
    "for j in k:\n",
    " data=datak.copy()\n",
    " for i in [h for h in outlierlist if h not in outliercol]:\n",
    "     quant25 = data[i].quantile(0.25)\n",
    "     quant75 = data[i].quantile(0.75)\n",
    "     IQR = quant75 - quant25\n",
    "     med = data[i].median()\n",
    "     whis_low = quant25-(1.5*IQR)\n",
    "     whis_high = quant75+(1.5*IQR)\n",
    "     range=np.array(data[i]).max()-np.array(data[i]).min()\n",
    "     \n",
    "     data[i][data[i]>whis_high] = whis_high+1-j*range\n",
    "     data[i][data[i]<whis_low] = whis_low-1+j*range\n",
    " #seperating independent and dependent variables\n",
    " x = data[[z for z in data.columns.tolist() if z not in [target]]].copy()\n",
    " y = data[target].copy()\n",
    " x.shape, y.shape\n",
    "    \n",
    " train_x,test_x,train_y,test_y = train_test_split(x,y,test_size=1/4,random_state= r,stratify=y).copy()\n",
    " train_x,val_x,train_y,val_y= train_test_split(train_x, train_y, test_size=1/3,random_state=r,stratify=train_y).copy()\n",
    "\n",
    " cols=train_x.columns.tolist()\n",
    " train_x = pd.DataFrame(scaler.fit_transform(train_x),columns=cols).copy()\n",
    " test_x = pd.DataFrame(scaler.fit_transform(test_x),columns=cols).copy()\n",
    " val_x = pd.DataFrame(scaler.fit_transform(val_x),columns=cols).copy()\n",
    "\n",
    " model.fit(train_x,train_y)\n",
    " pred=model.predict_proba(val_x)\n",
    " evallistk.append(auc(val_y, pred[:,1]))"
   ]
  },
  {
   "cell_type": "code",
   "execution_count": 65,
   "id": "0432c7f5",
   "metadata": {},
   "outputs": [
    {
     "data": {
      "text/plain": [
       "[0.8449968166383702, 0.844983552631579, 0.8450100806451614]"
      ]
     },
     "execution_count": 65,
     "metadata": {},
     "output_type": "execute_result"
    }
   ],
   "source": [
    "evallistk"
   ]
  },
  {
   "cell_type": "code",
   "execution_count": 66,
   "id": "db848cdc",
   "metadata": {},
   "outputs": [],
   "source": [
    "if (evallistk[2]==np.array(evallistk).max()):\n",
    "    k=kp\n",
    "elif (evallistk[0]==np.array(evallistk).max()):\n",
    "    k=kn\n",
    "else:\n",
    "    k=[0]"
   ]
  },
  {
   "cell_type": "markdown",
   "id": "e3a1a49a",
   "metadata": {},
   "source": [
    "### next 2 cells are for repititive whisker treatment of nontarget outlier columns"
   ]
  },
  {
   "cell_type": "code",
   "execution_count": 83,
   "id": "af2b92b0",
   "metadata": {},
   "outputs": [],
   "source": [
    "evallistk=[]\n",
    "for j in k:\n",
    " data=datak.copy()\n",
    " for i in [h for h in outlierlist if h not in outliercol]:\n",
    "     quant25 = data[i].quantile(0.25)\n",
    "     quant75 = data[i].quantile(0.75)\n",
    "     IQR = quant75 - quant25\n",
    "     med = data[i].median()\n",
    "     whis_low = quant25-(1.5*IQR)\n",
    "     whis_high = quant75+(1.5*IQR)\n",
    "     range=np.array(data[i]).max()-np.array(data[i]).min()\n",
    "     \n",
    "     data[i][data[i]>whis_high] = whis_high+1-j*range\n",
    "     data[i][data[i]<whis_low] = whis_low-1+j*range\n",
    " #seperating independent and dependent variables\n",
    " x = data[[z for z in data.columns.tolist() if z not in [target]]].copy()\n",
    " y = data[target].copy()\n",
    " x.shape, y.shape\n",
    " train_x,test_x,train_y,test_y = train_test_split(x,y,test_size=1/4,random_state= r,stratify=y).copy()\n",
    " train_x,val_x,train_y,val_y= train_test_split(train_x, train_y, test_size=1/3,random_state=r,stratify=train_y).copy()\n",
    "\n",
    " cols=train_x.columns.tolist()\n",
    " train_x = pd.DataFrame(scaler.fit_transform(train_x),columns=cols).copy()\n",
    " test_x = pd.DataFrame(scaler.fit_transform(test_x),columns=cols).copy()\n",
    " val_x = pd.DataFrame(scaler.fit_transform(val_x),columns=cols).copy()\n",
    "\n",
    " model.fit(train_x,train_y)\n",
    " pred=model.predict_proba(val_x)\n",
    " evallistk.append(auc(val_y, pred[:,1]))"
   ]
  },
  {
   "cell_type": "code",
   "execution_count": 84,
   "id": "3a2053db",
   "metadata": {},
   "outputs": [
    {
     "data": {
      "text/plain": [
       "[0.8450100806451614,\n",
       " 0.8450100806451614,\n",
       " 0.8450100806451614,\n",
       " 0.844983552631579,\n",
       " 0.844983552631579]"
      ]
     },
     "execution_count": 84,
     "metadata": {},
     "output_type": "execute_result"
    }
   ],
   "source": [
    " evallistk"
   ]
  },
  {
   "cell_type": "markdown",
   "id": "68d255dc",
   "metadata": {},
   "source": [
    "#### step ke value pe dhyan do"
   ]
  },
  {
   "cell_type": "code",
   "execution_count": 85,
   "id": "8e6650a5",
   "metadata": {},
   "outputs": [],
   "source": [
    "kmain=k[evallistk.index(np.array(evallistk).max())]\n",
    "\n",
    "step=kmain/(kval_n*10)\n",
    "\n",
    "k=[z for z in kval(kmain,step,kval_n)]"
   ]
  },
  {
   "cell_type": "code",
   "execution_count": 86,
   "id": "716d993d",
   "metadata": {},
   "outputs": [
    {
     "data": {
      "text/plain": [
       "[-8.1e-05, -8.55e-05, -9e-05, -9.45e-05, -9.900000000000001e-05]"
      ]
     },
     "execution_count": 86,
     "metadata": {},
     "output_type": "execute_result"
    }
   ],
   "source": [
    "k"
   ]
  },
  {
   "cell_type": "markdown",
   "id": "f3f774bb",
   "metadata": {},
   "source": [
    "keep on reducing rmse value by decreasing step whenever necassary"
   ]
  },
  {
   "cell_type": "code",
   "execution_count": 87,
   "id": "39b3cb99",
   "metadata": {},
   "outputs": [
    {
     "data": {
      "text/plain": [
       "0.8450100806451614"
      ]
     },
     "execution_count": 87,
     "metadata": {},
     "output_type": "execute_result"
    }
   ],
   "source": [
    " j= k[evallistk.index(np.array(evallistk).max())]\n",
    " data=datak.copy()\n",
    " for i in [h for h in outlierlist if h not in outliercol]:\n",
    "     quant25 = data[i].quantile(0.25)\n",
    "     quant75 = data[i].quantile(0.75)\n",
    "     IQR = quant75 - quant25\n",
    "     med = data[i].median()\n",
    "     whis_low = quant25-(1.5*IQR)\n",
    "     whis_high = quant75+(1.5*IQR)\n",
    "     range=np.array(data[i]).max()-np.array(data[i]).min()\n",
    "     \n",
    "     data[i][data[i]>whis_high] = whis_high+1-j*range\n",
    "     data[i][data[i]<whis_low] = whis_low-1+j*range\n",
    " #seperating independent and dependent variables\n",
    " x = data[[z for z in data.columns.tolist() if z not in [target]]].copy()\n",
    " y = data[target].copy()\n",
    " x.shape, y.shape\n",
    " train_x,test_x,train_y,test_y = train_test_split(x,y,test_size=1/4,random_state= r,stratify=y).copy()\n",
    " train_x,val_x,train_y,val_y= train_test_split(train_x, train_y, test_size=1/3,random_state=r,stratify=train_y).copy()\n",
    "\n",
    " cols=train_x.columns.tolist()\n",
    " train_x = pd.DataFrame(scaler.fit_transform(train_x),columns=cols).copy()\n",
    " test_x = pd.DataFrame(scaler.fit_transform(test_x),columns=cols).copy()\n",
    " val_x = pd.DataFrame(scaler.fit_transform(val_x),columns=cols).copy()\n",
    "\n",
    " model.fit(train_x,train_y)\n",
    " pred=model.predict_proba(val_x)\n",
    " auc(val_y, pred[:,1])"
   ]
  },
  {
   "cell_type": "code",
   "execution_count": 88,
   "id": "79f4dae9",
   "metadata": {},
   "outputs": [
    {
     "data": {
      "text/plain": [
       "-8.1e-05"
      ]
     },
     "execution_count": 88,
     "metadata": {},
     "output_type": "execute_result"
    }
   ],
   "source": [
    "j"
   ]
  },
  {
   "cell_type": "code",
   "execution_count": 89,
   "id": "41d903a9",
   "metadata": {},
   "outputs": [
    {
     "data": {
      "text/html": [
       "<div>\n",
       "<style scoped>\n",
       "    .dataframe tbody tr th:only-of-type {\n",
       "        vertical-align: middle;\n",
       "    }\n",
       "\n",
       "    .dataframe tbody tr th {\n",
       "        vertical-align: top;\n",
       "    }\n",
       "\n",
       "    .dataframe thead th {\n",
       "        text-align: right;\n",
       "    }\n",
       "</style>\n",
       "<table border=\"1\" class=\"dataframe\">\n",
       "  <thead>\n",
       "    <tr style=\"text-align: right;\">\n",
       "      <th></th>\n",
       "      <th>gender</th>\n",
       "      <th>age</th>\n",
       "      <th>hypertension</th>\n",
       "      <th>heart_disease</th>\n",
       "      <th>ever_married</th>\n",
       "      <th>work_type</th>\n",
       "      <th>Residence_type</th>\n",
       "      <th>avg_glucose_level</th>\n",
       "      <th>bmi</th>\n",
       "      <th>smoking_status</th>\n",
       "      <th>stroke</th>\n",
       "    </tr>\n",
       "  </thead>\n",
       "  <tbody>\n",
       "    <tr>\n",
       "      <th>0</th>\n",
       "      <td>1</td>\n",
       "      <td>67.0</td>\n",
       "      <td>0</td>\n",
       "      <td>1</td>\n",
       "      <td>1</td>\n",
       "      <td>2</td>\n",
       "      <td>1</td>\n",
       "      <td>228.69</td>\n",
       "      <td>36.600000</td>\n",
       "      <td>1</td>\n",
       "      <td>1</td>\n",
       "    </tr>\n",
       "    <tr>\n",
       "      <th>1</th>\n",
       "      <td>0</td>\n",
       "      <td>61.0</td>\n",
       "      <td>0</td>\n",
       "      <td>0</td>\n",
       "      <td>1</td>\n",
       "      <td>3</td>\n",
       "      <td>0</td>\n",
       "      <td>202.21</td>\n",
       "      <td>30.571525</td>\n",
       "      <td>2</td>\n",
       "      <td>1</td>\n",
       "    </tr>\n",
       "    <tr>\n",
       "      <th>2</th>\n",
       "      <td>1</td>\n",
       "      <td>80.0</td>\n",
       "      <td>0</td>\n",
       "      <td>1</td>\n",
       "      <td>1</td>\n",
       "      <td>2</td>\n",
       "      <td>0</td>\n",
       "      <td>105.92</td>\n",
       "      <td>32.500000</td>\n",
       "      <td>2</td>\n",
       "      <td>1</td>\n",
       "    </tr>\n",
       "    <tr>\n",
       "      <th>3</th>\n",
       "      <td>0</td>\n",
       "      <td>49.0</td>\n",
       "      <td>0</td>\n",
       "      <td>0</td>\n",
       "      <td>1</td>\n",
       "      <td>2</td>\n",
       "      <td>1</td>\n",
       "      <td>171.23</td>\n",
       "      <td>34.400000</td>\n",
       "      <td>3</td>\n",
       "      <td>1</td>\n",
       "    </tr>\n",
       "    <tr>\n",
       "      <th>4</th>\n",
       "      <td>0</td>\n",
       "      <td>79.0</td>\n",
       "      <td>1</td>\n",
       "      <td>0</td>\n",
       "      <td>1</td>\n",
       "      <td>3</td>\n",
       "      <td>0</td>\n",
       "      <td>174.12</td>\n",
       "      <td>24.000000</td>\n",
       "      <td>2</td>\n",
       "      <td>1</td>\n",
       "    </tr>\n",
       "  </tbody>\n",
       "</table>\n",
       "</div>"
      ],
      "text/plain": [
       "   gender   age  hypertension  heart_disease  ever_married  work_type  \\\n",
       "0       1  67.0             0              1             1          2   \n",
       "1       0  61.0             0              0             1          3   \n",
       "2       1  80.0             0              1             1          2   \n",
       "3       0  49.0             0              0             1          2   \n",
       "4       0  79.0             1              0             1          3   \n",
       "\n",
       "   Residence_type  avg_glucose_level        bmi  smoking_status  stroke  \n",
       "0               1             228.69  36.600000               1       1  \n",
       "1               0             202.21  30.571525               2       1  \n",
       "2               0             105.92  32.500000               2       1  \n",
       "3               1             171.23  34.400000               3       1  \n",
       "4               0             174.12  24.000000               2       1  "
      ]
     },
     "execution_count": 89,
     "metadata": {},
     "output_type": "execute_result"
    }
   ],
   "source": [
    "data.head()"
   ]
  },
  {
   "cell_type": "code",
   "execution_count": 90,
   "id": "95d3b94e",
   "metadata": {},
   "outputs": [],
   "source": [
    "data.to_csv('FILTERED[csv].csv',index=False)"
   ]
  },
  {
   "cell_type": "markdown",
   "id": "fbfcec02",
   "metadata": {},
   "source": [
    "#### after running all cells from outlier heading to here go back to outlier heading and again run the cells to gain improvement in rmse as target column will have treated columns to estimate whiskers and non target column will have doubly treated target column to estimate whiskers"
   ]
  },
  {
   "cell_type": "markdown",
   "id": "671a015b",
   "metadata": {},
   "source": [
    "ideally u can keep doing this process till in non target region, the rmse does not change at all almost ......for example in some cases even decimal figures VARY ONLY SLIGHTLY"
   ]
  },
  {
   "cell_type": "markdown",
   "id": "2e5d8389",
   "metadata": {},
   "source": [
    "ideally u can keep doing this process till in non target region the ideal whisker is 0 i.e. slightly above 0 (0.005) or below 0( -0.005) the rmse does not change much"
   ]
  },
  {
   "cell_type": "markdown",
   "id": "ee76418c",
   "metadata": {},
   "source": [
    "if target column has a huge number of outliers rmse might have massive scope of reduction by repititive process"
   ]
  },
  {
   "cell_type": "markdown",
   "id": "98357893",
   "metadata": {},
   "source": [
    "if target column has negligible outliers then rmse might have little scope of reduction by repitive process"
   ]
  }
 ],
 "metadata": {
  "kernelspec": {
   "display_name": "Python 3 (ipykernel)",
   "language": "python",
   "name": "python3"
  },
  "language_info": {
   "codemirror_mode": {
    "name": "ipython",
    "version": 3
   },
   "file_extension": ".py",
   "mimetype": "text/x-python",
   "name": "python",
   "nbconvert_exporter": "python",
   "pygments_lexer": "ipython3",
   "version": "3.8.5"
  }
 },
 "nbformat": 4,
 "nbformat_minor": 5
}
