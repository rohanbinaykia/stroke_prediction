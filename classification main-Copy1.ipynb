{
 "cells": [
  {
   "cell_type": "code",
   "execution_count": 266,
   "id": "19353f3d",
   "metadata": {},
   "outputs": [],
   "source": [
    "#importing libraries \n",
    "import pandas as pd \n",
    "import numpy as np\n",
    "import matplotlib.pyplot as plt\n",
    "import seaborn as sns\n",
    "%matplotlib inline\n",
    "import sklearn\n",
    "import math"
   ]
  },
  {
   "cell_type": "code",
   "execution_count": 267,
   "id": "eee7ec6c",
   "metadata": {},
   "outputs": [],
   "source": [
    "\n",
    "from sklearn.linear_model import Ridge\n",
    "from sklearn.metrics import f1_score as f1\n",
    "from sklearn.preprocessing import LabelEncoder\n",
    "from sklearn.preprocessing import MinMaxScaler\n",
    "from sklearn.linear_model import LogisticRegression as logreg\n",
    "from sklearn.linear_model import LinearRegression as linreg\n",
    "from sklearn.metrics import mean_squared_error as rmse\n",
    "\n",
    "from sklearn.model_selection import KFold, StratifiedKFold, train_test_split\n",
    "from sklearn.metrics import roc_auc_score ,roc_auc_score as auc, accuracy_score as acc, confusion_matrix, roc_curve, precision_score, recall_score, precision_recall_curve,average_precision_score,average_precision_score as aps,log_loss as ll,f1_score as f1\n",
    "\n",
    "from pandas.core.common import SettingWithCopyWarning\n",
    "import warnings\n",
    "warnings.simplefilter(action='ignore', category=FutureWarning)\n",
    "warnings.simplefilter(action='ignore', category=UserWarning)\n",
    "warnings.simplefilter(action='ignore', category=RuntimeWarning)\n",
    "warnings.simplefilter(action='ignore', category=SettingWithCopyWarning)"
   ]
  },
  {
   "cell_type": "code",
   "execution_count": 268,
   "id": "fc4adc0b",
   "metadata": {},
   "outputs": [],
   "source": [
    "from sklearn.tree import DecisionTreeClassifier as dtc,export_graphviz\n",
    "from sklearn.model_selection import RandomizedSearchCV as rs,GridSearchCV as gs\n",
    "from sklearn.metrics import make_scorer\n",
    "import graphviz"
   ]
  },
  {
   "cell_type": "markdown",
   "id": "c27ea89a",
   "metadata": {},
   "source": [
    "# random state"
   ]
  },
  {
   "cell_type": "code",
   "execution_count": 269,
   "id": "23b6c865",
   "metadata": {},
   "outputs": [],
   "source": [
    "r=6"
   ]
  },
  {
   "cell_type": "code",
   "execution_count": 270,
   "id": "6552e948",
   "metadata": {},
   "outputs": [
    {
     "data": {
      "text/html": [
       "<div>\n",
       "<style scoped>\n",
       "    .dataframe tbody tr th:only-of-type {\n",
       "        vertical-align: middle;\n",
       "    }\n",
       "\n",
       "    .dataframe tbody tr th {\n",
       "        vertical-align: top;\n",
       "    }\n",
       "\n",
       "    .dataframe thead th {\n",
       "        text-align: right;\n",
       "    }\n",
       "</style>\n",
       "<table border=\"1\" class=\"dataframe\">\n",
       "  <thead>\n",
       "    <tr style=\"text-align: right;\">\n",
       "      <th></th>\n",
       "      <th>Unnamed: 0</th>\n",
       "      <th>gender</th>\n",
       "      <th>age</th>\n",
       "      <th>hypertension</th>\n",
       "      <th>heart_disease</th>\n",
       "      <th>work_type</th>\n",
       "      <th>stroke</th>\n",
       "    </tr>\n",
       "  </thead>\n",
       "  <tbody>\n",
       "    <tr>\n",
       "      <th>0</th>\n",
       "      <td>0</td>\n",
       "      <td>1</td>\n",
       "      <td>67.0</td>\n",
       "      <td>0</td>\n",
       "      <td>1</td>\n",
       "      <td>2</td>\n",
       "      <td>1</td>\n",
       "    </tr>\n",
       "    <tr>\n",
       "      <th>1</th>\n",
       "      <td>1</td>\n",
       "      <td>0</td>\n",
       "      <td>61.0</td>\n",
       "      <td>0</td>\n",
       "      <td>0</td>\n",
       "      <td>3</td>\n",
       "      <td>1</td>\n",
       "    </tr>\n",
       "    <tr>\n",
       "      <th>2</th>\n",
       "      <td>2</td>\n",
       "      <td>1</td>\n",
       "      <td>80.0</td>\n",
       "      <td>0</td>\n",
       "      <td>1</td>\n",
       "      <td>2</td>\n",
       "      <td>1</td>\n",
       "    </tr>\n",
       "    <tr>\n",
       "      <th>3</th>\n",
       "      <td>3</td>\n",
       "      <td>0</td>\n",
       "      <td>49.0</td>\n",
       "      <td>0</td>\n",
       "      <td>0</td>\n",
       "      <td>2</td>\n",
       "      <td>1</td>\n",
       "    </tr>\n",
       "    <tr>\n",
       "      <th>4</th>\n",
       "      <td>4</td>\n",
       "      <td>0</td>\n",
       "      <td>79.0</td>\n",
       "      <td>1</td>\n",
       "      <td>0</td>\n",
       "      <td>3</td>\n",
       "      <td>1</td>\n",
       "    </tr>\n",
       "  </tbody>\n",
       "</table>\n",
       "</div>"
      ],
      "text/plain": [
       "   Unnamed: 0  gender   age  hypertension  heart_disease  work_type  stroke\n",
       "0           0       1  67.0             0              1          2       1\n",
       "1           1       0  61.0             0              0          3       1\n",
       "2           2       1  80.0             0              1          2       1\n",
       "3           3       0  49.0             0              0          2       1\n",
       "4           4       0  79.0             1              0          3       1"
      ]
     },
     "execution_count": 270,
     "metadata": {},
     "output_type": "execute_result"
    }
   ],
   "source": [
    "data = pd.read_csv('COLUMN FILTERED[lmain].csv')\n",
    "data.head()"
   ]
  },
  {
   "cell_type": "code",
   "execution_count": 271,
   "id": "25365f11",
   "metadata": {},
   "outputs": [],
   "source": [
    "data=(data[[z for z in data.columns.tolist() if z not in ['Unnamed: 0']]]).copy()\n",
    "\n",
    "target='stroke'         \n",
    "model= logreg()\n",
    "makescorer=make_scorer(auc, greater_is_better=True, needs_proba=True, needs_threshold=False)\n",
    "lr=linreg()\n",
    "scaler = MinMaxScaler()"
   ]
  },
  {
   "cell_type": "code",
   "execution_count": 272,
   "id": "31ae9362",
   "metadata": {},
   "outputs": [
    {
     "data": {
      "text/plain": [
       "0.8444529923599321"
      ]
     },
     "execution_count": 272,
     "metadata": {},
     "output_type": "execute_result"
    }
   ],
   "source": [
    " x = (data[[z for z in data.columns.tolist() if z not in [target]]]).copy()\n",
    " y =data[target].copy() \n",
    " x=pd.DataFrame(scaler.fit_transform(x),columns=x.columns.tolist()).copy()\n",
    "\n",
    " train_x,test_x,train_y,test_y = train_test_split(x,y,test_size=1/4,random_state= r,stratify=y).copy()\n",
    " train_x,val_x,train_y,val_y= train_test_split(train_x, train_y, test_size=1/3,random_state=r,stratify=train_y).copy()\n",
    "\n",
    " model.fit(train_x,train_y)\n",
    " pred=model.predict_proba(val_x)\n",
    " auc(val_y,pred[:,1])"
   ]
  },
  {
   "cell_type": "code",
   "execution_count": 273,
   "id": "f8893187",
   "metadata": {},
   "outputs": [
    {
     "data": {
      "text/html": [
       "<div>\n",
       "<style scoped>\n",
       "    .dataframe tbody tr th:only-of-type {\n",
       "        vertical-align: middle;\n",
       "    }\n",
       "\n",
       "    .dataframe tbody tr th {\n",
       "        vertical-align: top;\n",
       "    }\n",
       "\n",
       "    .dataframe thead th {\n",
       "        text-align: right;\n",
       "    }\n",
       "</style>\n",
       "<table border=\"1\" class=\"dataframe\">\n",
       "  <thead>\n",
       "    <tr style=\"text-align: right;\">\n",
       "      <th></th>\n",
       "      <th>gender</th>\n",
       "      <th>age</th>\n",
       "      <th>hypertension</th>\n",
       "      <th>heart_disease</th>\n",
       "      <th>work_type</th>\n",
       "      <th>stroke</th>\n",
       "    </tr>\n",
       "  </thead>\n",
       "  <tbody>\n",
       "    <tr>\n",
       "      <th>0</th>\n",
       "      <td>1</td>\n",
       "      <td>67.0</td>\n",
       "      <td>0</td>\n",
       "      <td>1</td>\n",
       "      <td>2</td>\n",
       "      <td>1</td>\n",
       "    </tr>\n",
       "    <tr>\n",
       "      <th>1</th>\n",
       "      <td>0</td>\n",
       "      <td>61.0</td>\n",
       "      <td>0</td>\n",
       "      <td>0</td>\n",
       "      <td>3</td>\n",
       "      <td>1</td>\n",
       "    </tr>\n",
       "    <tr>\n",
       "      <th>2</th>\n",
       "      <td>1</td>\n",
       "      <td>80.0</td>\n",
       "      <td>0</td>\n",
       "      <td>1</td>\n",
       "      <td>2</td>\n",
       "      <td>1</td>\n",
       "    </tr>\n",
       "    <tr>\n",
       "      <th>3</th>\n",
       "      <td>0</td>\n",
       "      <td>49.0</td>\n",
       "      <td>0</td>\n",
       "      <td>0</td>\n",
       "      <td>2</td>\n",
       "      <td>1</td>\n",
       "    </tr>\n",
       "    <tr>\n",
       "      <th>4</th>\n",
       "      <td>0</td>\n",
       "      <td>79.0</td>\n",
       "      <td>1</td>\n",
       "      <td>0</td>\n",
       "      <td>3</td>\n",
       "      <td>1</td>\n",
       "    </tr>\n",
       "  </tbody>\n",
       "</table>\n",
       "</div>"
      ],
      "text/plain": [
       "   gender   age  hypertension  heart_disease  work_type  stroke\n",
       "0       1  67.0             0              1          2       1\n",
       "1       0  61.0             0              0          3       1\n",
       "2       1  80.0             0              1          2       1\n",
       "3       0  49.0             0              0          2       1\n",
       "4       0  79.0             1              0          3       1"
      ]
     },
     "execution_count": 273,
     "metadata": {},
     "output_type": "execute_result"
    }
   ],
   "source": [
    "data.head()"
   ]
  },
  {
   "cell_type": "code",
   "execution_count": 274,
   "id": "e832c7ef",
   "metadata": {},
   "outputs": [],
   "source": [
    "kval_n=2\n",
    "def kval(main,step,n=kval_n):\n",
    "\n",
    " klist=[]\n",
    " if (step<0.0001):\n",
    "    step=0.0001\n",
    " if (step==0):\n",
    "    step=0.0001\n",
    " i=main-step*n\n",
    " if (main>=0):\n",
    "  while (i<=main+step*n):\n",
    "    \n",
    "    klist.append(i)\n",
    "    i=i+step\n",
    "  return klist\n",
    " else:\n",
    "  while (i>=main+step*n):\n",
    "    \n",
    "    klist.append(i)\n",
    "    i=i+step\n",
    "  return klist\n",
    "  "
   ]
  },
  {
   "cell_type": "code",
   "execution_count": 275,
   "id": "3237dcbd",
   "metadata": {},
   "outputs": [],
   "source": [
    "def kvall(main,step,n=kval_n):\n",
    "\n",
    " klist=[]\n",
    " if (step<0.0001):\n",
    "    step=0.0001\n",
    " if (step==0):\n",
    "    step=0.0001\n",
    " i=main-step*n\n",
    " if (main>=0):\n",
    "  while (i<=main):\n",
    "    \n",
    "    klist.append(i)\n",
    "    i=i+step\n",
    "  return klist\n",
    " else:\n",
    "  while (i>main+step*n):\n",
    "    \n",
    "    klist.append(i)\n",
    "    i=i+step\n",
    "  return klist"
   ]
  },
  {
   "cell_type": "code",
   "execution_count": 276,
   "id": "ab434ff2",
   "metadata": {},
   "outputs": [],
   "source": [
    "def kvalg(main,step,n=kval_n):\n",
    "\n",
    " klist=[]\n",
    " if (step<0.0001):\n",
    "    step=0.0001\n",
    " if (step==0):\n",
    "    step=0.0001\n",
    " i=main\n",
    " if (main>=0):\n",
    "  while (i<=main+step*n):\n",
    "    \n",
    "    klist.append(i)\n",
    "    i=i+step\n",
    "  return klist\n",
    " else:\n",
    "  while (i>=main+step*n):\n",
    "    \n",
    "    klist.append(i)\n",
    "    i=i+step\n",
    "  return klist"
   ]
  },
  {
   "cell_type": "code",
   "execution_count": 277,
   "id": "97e860b8",
   "metadata": {},
   "outputs": [],
   "source": [
    "dt=dtc(random_state=r)"
   ]
  },
  {
   "cell_type": "code",
   "execution_count": 278,
   "id": "5408f7b3",
   "metadata": {},
   "outputs": [],
   "source": [
    "depth=kval(100,10,10)\n",
    "decimal=kval(0.25,(0.25/5),4)\n",
    "subdecimal=kval(0.05,(0.05/5),4)"
   ]
  },
  {
   "cell_type": "markdown",
   "id": "4d3e609c",
   "metadata": {},
   "source": [
    "## gbm"
   ]
  },
  {
   "cell_type": "code",
   "execution_count": 279,
   "id": "1a6fcd6d",
   "metadata": {},
   "outputs": [],
   "source": [
    "#the parameters that come last are selected by default even if they have some other value previously in the method calling statement\n",
    "\n",
    "#max_depth, min_child_weight and gamma directly controls overfitting \n",
    "#so use kvall to reduce max depth and use kvalg to increase gamma and min child weight\n",
    "#also reduce learning rate max_depth and simultaenoeusly increase gamma and nestimators to remedy the damage done to model by reducing max depth \n",
    "#and also doubly attack overfitting"
   ]
  },
  {
   "cell_type": "code",
   "execution_count": 280,
   "id": "a99658cd",
   "metadata": {},
   "outputs": [],
   "source": [
    "from sklearn.ensemble import GradientBoostingClassifier as gbc"
   ]
  },
  {
   "cell_type": "code",
   "execution_count": 281,
   "id": "2f381104",
   "metadata": {},
   "outputs": [],
   "source": [
    "#xgbmdecstep steps the values of hyperparameter (which accepts float values) in kval\n",
    "gbmdecstep=3\n",
    "gbmdecbreaker=1*(gbmdecstep+1)\n",
    "\n",
    "gbmgsdecstep=int(2)\n",
    "gbmgsdecbreaker=1*(gbmgsdecstep+1)"
   ]
  },
  {
   "cell_type": "code",
   "execution_count": 282,
   "id": "bfeca923",
   "metadata": {},
   "outputs": [],
   "source": [
    "gbm=gbc(random_state=r)"
   ]
  },
  {
   "cell_type": "code",
   "execution_count": 283,
   "id": "6457b969",
   "metadata": {},
   "outputs": [],
   "source": [
    "default={'learning_rate':0.09,'subsample':0.9}"
   ]
  },
  {
   "cell_type": "raw",
   "id": "4f3e9e46",
   "metadata": {},
   "source": [
    "try both decimal and subdecimal "
   ]
  },
  {
   "cell_type": "code",
   "execution_count": 284,
   "id": "0712fa26",
   "metadata": {},
   "outputs": [],
   "source": [
    "gbmdict={'max_depth':kval(100,10,5),\n",
    "'n_estimators':kval(100,10,5),\n",
    " 'min_samples_split':decimal,\n",
    " 'min_weight_fraction_leaf':decimal,\n",
    " 'min_impurity_decrease':decimal,\n",
    "'loss':['deviance', 'exponential'],\n",
    "'learning_rate':kval(0.1,0.1/10,5),\n",
    "'n_estimators':kval(100,10,5),\n",
    "'subsample':kval(0.9,0.02,5),\n",
    "'criterion':['friedman_mse', 'mse']}"
   ]
  },
  {
   "cell_type": "code",
   "execution_count": 285,
   "id": "607694b5",
   "metadata": {},
   "outputs": [],
   "source": [
    "gbmbest=gbmdict.copy()\n",
    "gbmmodel = rs(gbm, gbmbest,random_state=r)\n",
    "gbmmodel.fit(train_x,train_y)\n",
    "gbmbest=gbmmodel.best_estimator_.get_params().copy()"
   ]
  },
  {
   "cell_type": "code",
   "execution_count": 286,
   "id": "878ce9d9",
   "metadata": {},
   "outputs": [
    {
     "data": {
      "text/plain": [
       "{'ccp_alpha': 0.0,\n",
       " 'criterion': 'friedman_mse',\n",
       " 'init': None,\n",
       " 'learning_rate': 0.09999999999999999,\n",
       " 'loss': 'deviance',\n",
       " 'max_depth': 140,\n",
       " 'max_features': None,\n",
       " 'max_leaf_nodes': None,\n",
       " 'min_impurity_decrease': 0.35,\n",
       " 'min_samples_leaf': 1,\n",
       " 'min_samples_split': 0.2,\n",
       " 'min_weight_fraction_leaf': 0.39999999999999997,\n",
       " 'n_estimators': 120,\n",
       " 'n_iter_no_change': None,\n",
       " 'random_state': 6,\n",
       " 'subsample': 0.8400000000000001,\n",
       " 'tol': 0.0001,\n",
       " 'validation_fraction': 0.1,\n",
       " 'verbose': 0,\n",
       " 'warm_start': False}"
      ]
     },
     "execution_count": 286,
     "metadata": {},
     "output_type": "execute_result"
    }
   ],
   "source": [
    "gbmbest"
   ]
  },
  {
   "cell_type": "code",
   "execution_count": 287,
   "id": "b03fd424",
   "metadata": {},
   "outputs": [
    {
     "data": {
      "text/plain": [
       "[0.7711295628183361, 0.7613805178268251, 0.7837809798270894]"
      ]
     },
     "execution_count": 287,
     "metadata": {},
     "output_type": "execute_result"
    }
   ],
   "source": [
    "gbmmodel = gbc(**gbmbest)\n",
    "gbmmodel.fit(train_x,train_y)\n",
    "pred=gbmmodel.predict_proba(val_x)\n",
    "predtr=gbmmodel.predict_proba(train_x)\n",
    "predt=gbmmodel.predict_proba(test_x)\n",
    "[auc(test_y, predt[:,1]),auc(val_y, pred[:,1]),auc(train_y, predtr[:,1])]"
   ]
  },
  {
   "cell_type": "code",
   "execution_count": 288,
   "id": "73a35d1f",
   "metadata": {},
   "outputs": [],
   "source": [
    "gbmbestgs=gbmbest.copy()\n",
    "for j in gbmbestgs:\n",
    "    gbmbestgs[j]=[gbmbestgs[j]]\n",
    "for j in [x for x in gbmbestgs if x not in gbmdict]:\n",
    "    gbmbestgs.pop(j)"
   ]
  },
  {
   "cell_type": "code",
   "execution_count": 289,
   "id": "cd0b9ac8",
   "metadata": {},
   "outputs": [],
   "source": [
    "gbmdict={'loss':['deviance', 'exponential'],\n",
    "         'criterion':['friedman_mse', 'mse'],\n",
    " 'n_estimators':kval(gbmbest['n_estimators'],5,[5 if gbmbest['n_estimators']>5 else x for x in [gbmbest['n_estimators']]][0]),\n",
    " 'max_depth':kval(gbmbest['max_depth'],5,[5 if gbmbest['max_depth']>5 else x for x in [gbmbest['max_depth']]][0]),\n",
    " 'min_samples_split':[gbmbest['min_samples_split']],\n",
    " 'min_weight_fraction_leaf':kval(gbmbest['min_weight_fraction_leaf'],gbmbest['min_weight_fraction_leaf']/gbmgsdecbreaker,gbmgsdecstep),\n",
    " 'min_impurity_decrease':[gbmbest['min_weight_fraction_leaf']],\n",
    "  'subsample':[gbmbest['subsample']],\n",
    "  'learning_rate':[gbmbest['learning_rate']]}"
   ]
  },
  {
   "cell_type": "code",
   "execution_count": 290,
   "id": "bd024a2c",
   "metadata": {},
   "outputs": [],
   "source": [
    "gmbest=gbmdict.copy()\n",
    "for j in ['loss','criterion','n_estimators','max_depth','min_weight_fraction_leaf'] :\n",
    " tree_para ={**gbmbestgs,j:gbmdict[j]}\n",
    " gbmmodel = gs(gbm, tree_para)\n",
    " gbmmodel.fit(train_x,train_y)\n",
    " gbmbest[j]=gbmmodel.best_estimator_.get_params()[j]"
   ]
  },
  {
   "cell_type": "code",
   "execution_count": 291,
   "id": "7b55adf7",
   "metadata": {},
   "outputs": [
    {
     "data": {
      "text/plain": [
       "{'ccp_alpha': 0.0,\n",
       " 'criterion': 'friedman_mse',\n",
       " 'init': None,\n",
       " 'learning_rate': 0.09999999999999999,\n",
       " 'loss': 'deviance',\n",
       " 'max_depth': 115,\n",
       " 'max_features': None,\n",
       " 'max_leaf_nodes': None,\n",
       " 'min_impurity_decrease': 0.35,\n",
       " 'min_samples_leaf': 1,\n",
       " 'min_samples_split': 0.2,\n",
       " 'min_weight_fraction_leaf': 0.1333333333333333,\n",
       " 'n_estimators': 95,\n",
       " 'n_iter_no_change': None,\n",
       " 'random_state': 6,\n",
       " 'subsample': 0.8400000000000001,\n",
       " 'tol': 0.0001,\n",
       " 'validation_fraction': 0.1,\n",
       " 'verbose': 0,\n",
       " 'warm_start': False}"
      ]
     },
     "execution_count": 291,
     "metadata": {},
     "output_type": "execute_result"
    }
   ],
   "source": [
    "gbmbest1=gbmbest.copy()\n",
    "for j in gbmbest1:\n",
    " gbmbest1[j]=[gbmbest[j][0] if type(gbmbest[j])==list else x for x in [gbmbest[j]]][0]\n",
    "gbmbest1"
   ]
  },
  {
   "cell_type": "code",
   "execution_count": 292,
   "id": "78d66250",
   "metadata": {},
   "outputs": [
    {
     "data": {
      "text/plain": [
       "[0.8347172113752123, 0.8236019736842106, 0.8373750514615068]"
      ]
     },
     "execution_count": 292,
     "metadata": {},
     "output_type": "execute_result"
    }
   ],
   "source": [
    "gbmmodel = gbc(**gbmbest1)\n",
    "gbmmodel.fit(train_x,train_y)\n",
    "pred=gbmmodel.predict_proba(val_x)\n",
    "predtr=gbmmodel.predict_proba(train_x)\n",
    "predt=gbmmodel.predict_proba(test_x)\n",
    "[auc(test_y, predt[:,1]),auc(val_y, pred[:,1]),auc(train_y, predtr[:,1])]"
   ]
  },
  {
   "cell_type": "code",
   "execution_count": 293,
   "id": "64829ab2",
   "metadata": {},
   "outputs": [],
   "source": [
    "gbmbest={'criterion':[gbmbest['criterion']],\n",
    " 'loss':[gbmbest['loss']],\n",
    "  'max_depth':[gbmbest['max_depth']],\n",
    " 'n_estimators':[gbmbest['n_estimators']],\n",
    " 'min_weight_fraction_leaf':[gbmbest['min_weight_fraction_leaf']],\n",
    " 'min_impurity_decrease':kval(gbmbest['min_impurity_decrease'],gbmbest['min_impurity_decrease']/gbmdecbreaker,gbmdecstep),\n",
    "\n",
    "  'min_samples_split':kval(gbmbest['min_samples_split'],gbmbest['min_samples_split']/gbmdecbreaker,gbmdecstep),\n",
    "  'subsample':[x for x in kval(gbmbest['subsample'],abs(gbmbest['subsample']-default['subsample'])/gbmdecbreaker,gbmdecstep) if x<1],\n",
    " 'learning_rate':kval(gbmbest['learning_rate'],abs(gbmbest['learning_rate']-default['learning_rate'])/gbmdecbreaker,gbmdecstep)}"
   ]
  },
  {
   "cell_type": "code",
   "execution_count": 294,
   "id": "118afa18",
   "metadata": {},
   "outputs": [],
   "source": [
    "for j in [x for x in [t for t in gbmbest if type(gbmbest[t][0]) !=str] if gbmbest[x][0]<0]:\n",
    "  gbmbest[j]=[x for x in gbmbest[j] if x>0] \n",
    "gbmmodel = rs(gbm, gbmbest,random_state=r)\n",
    "gbmmodel.fit(train_x,train_y)\n",
    "gbmbest=gbmmodel.best_estimator_.get_params().copy()"
   ]
  },
  {
   "cell_type": "code",
   "execution_count": 295,
   "id": "7e4a1edd",
   "metadata": {},
   "outputs": [
    {
     "data": {
      "text/plain": [
       "{'ccp_alpha': 0.0,\n",
       " 'criterion': 'friedman_mse',\n",
       " 'init': None,\n",
       " 'learning_rate': 0.1,\n",
       " 'loss': 'deviance',\n",
       " 'max_depth': 115,\n",
       " 'max_features': None,\n",
       " 'max_leaf_nodes': None,\n",
       " 'min_impurity_decrease': 0.35,\n",
       " 'min_samples_leaf': 1,\n",
       " 'min_samples_split': 0.25,\n",
       " 'min_weight_fraction_leaf': 0.1333333333333333,\n",
       " 'n_estimators': 95,\n",
       " 'n_iter_no_change': None,\n",
       " 'random_state': 6,\n",
       " 'subsample': 0.7950000000000002,\n",
       " 'tol': 0.0001,\n",
       " 'validation_fraction': 0.1,\n",
       " 'verbose': 0,\n",
       " 'warm_start': False}"
      ]
     },
     "execution_count": 295,
     "metadata": {},
     "output_type": "execute_result"
    }
   ],
   "source": [
    "gbmbest"
   ]
  },
  {
   "cell_type": "code",
   "execution_count": 296,
   "id": "601b1d0d",
   "metadata": {},
   "outputs": [
    {
     "data": {
      "text/plain": [
       "[0.8323893781833617, 0.822759709252971, 0.8382643062988885]"
      ]
     },
     "execution_count": 296,
     "metadata": {},
     "output_type": "execute_result"
    }
   ],
   "source": [
    "gbmmodel = gbc(**gbmbest)\n",
    "gbmmodel.fit(train_x,train_y)\n",
    "pred=gbmmodel.predict_proba(val_x)\n",
    "predtr=gbmmodel.predict_proba(train_x)\n",
    "predt=gbmmodel.predict_proba(test_x)\n",
    "[auc(test_y, predt[:,1]),auc(val_y, pred[:,1]),auc(train_y, predtr[:,1])]"
   ]
  },
  {
   "cell_type": "raw",
   "id": "81564e89",
   "metadata": {},
   "source": [
    "a"
   ]
  },
  {
   "cell_type": "code",
   "execution_count": 297,
   "id": "152dc99b",
   "metadata": {},
   "outputs": [
    {
     "name": "stdout",
     "output_type": "stream",
     "text": [
      "[0.0]\n",
      "[None]\n",
      "[None]\n",
      "[None]\n",
      "[1]\n",
      "[None]\n",
      "[6]\n",
      "[0.0001]\n",
      "[0.1]\n",
      "[0]\n",
      "[False]\n"
     ]
    }
   ],
   "source": [
    "for j in gbmbest:\n",
    " gbmbest[j]=[gbmbest[j]]\n",
    "gbmbestgs=gbmbest.copy()\n",
    "for j in [x for x in gbmbestgs if x not in gbmdict]:\n",
    " print(gbmbestgs.pop(j))"
   ]
  },
  {
   "cell_type": "raw",
   "id": "1271065d",
   "metadata": {},
   "source": [
    "to control overfitting we are using kvall and kvalg"
   ]
  },
  {
   "cell_type": "code",
   "execution_count": 298,
   "id": "4eeb6f73",
   "metadata": {},
   "outputs": [],
   "source": [
    "gbmbest={'loss':gbmbest['loss'],\n",
    "         'criterion':gbmbest['criterion'],\n",
    " 'n_estimators':kvalg(gbmbest['n_estimators'][0],2,[5 if gbmbest['n_estimators'][0]>5 else x for x in [gbmbest['n_estimators']][0]][0]),\n",
    " 'max_depth':kvall(gbmbest['max_depth'][0],2,[5 if gbmbest['max_depth'][0]>5 else x for x in [gbmbest['max_depth']][0]][0]),\n",
    " 'min_samples_split':gbmbest['min_samples_split'],\n",
    " 'min_weight_fraction_leaf':kvalg(gbmbest['min_weight_fraction_leaf'][0],gbmbest['min_weight_fraction_leaf'][0]/gbmgsdecbreaker,gbmgsdecstep),\n",
    " 'min_impurity_decrease':gbmbest['min_weight_fraction_leaf'],\n",
    "  'subsample':gbmbest['subsample'],\n",
    "  'learning_rate':gbmbest['learning_rate']}"
   ]
  },
  {
   "cell_type": "raw",
   "id": "137bbfcf",
   "metadata": {},
   "source": [
    "decide wether you want to keep **xgbmbest1 in tree_para"
   ]
  },
  {
   "cell_type": "code",
   "execution_count": 299,
   "id": "d60c429f",
   "metadata": {},
   "outputs": [],
   "source": [
    "for j in ['n_estimators','max_depth','min_weight_fraction_leaf'] :\n",
    " tree_para ={**gbmbestgs,j:gbmbest[j]}\n",
    " gbmmodel = gs(gbm, tree_para)\n",
    " gbmmodel.fit(train_x,train_y)\n",
    " gbmbest[j]=[gbmmodel.best_estimator_.get_params()[j]]"
   ]
  },
  {
   "cell_type": "code",
   "execution_count": 300,
   "id": "687c3f7e",
   "metadata": {},
   "outputs": [
    {
     "data": {
      "text/plain": [
       "{'loss': 'deviance',\n",
       " 'criterion': 'friedman_mse',\n",
       " 'n_estimators': 95,\n",
       " 'max_depth': 105,\n",
       " 'min_samples_split': 0.25,\n",
       " 'min_weight_fraction_leaf': 0.1333333333333333,\n",
       " 'min_impurity_decrease': 0.1333333333333333,\n",
       " 'subsample': 0.7950000000000002,\n",
       " 'learning_rate': 0.1}"
      ]
     },
     "execution_count": 300,
     "metadata": {},
     "output_type": "execute_result"
    }
   ],
   "source": [
    "gbmbest1=gbmbest.copy()\n",
    "gbmbest1['eval_metric']=\"auc\"\n",
    "gbmbest1=gbmbest.copy()\n",
    "for j in gbmbest1:\n",
    " gbmbest1[j]=[gbmbest[j][0] if type(gbmbest[j])==list else x for x in [gbmbest[j]]][0]\n",
    "gbmbest1"
   ]
  },
  {
   "cell_type": "code",
   "execution_count": 301,
   "id": "b3afaa65",
   "metadata": {},
   "outputs": [
    {
     "data": {
      "text/plain": [
       "[0.836739972410866, 0.8296039367572157, 0.8485335529024289]"
      ]
     },
     "execution_count": 301,
     "metadata": {},
     "output_type": "execute_result"
    }
   ],
   "source": [
    "gbmmodel = gbc(**gbmbest1)\n",
    "gbmmodel.fit(train_x,train_y)\n",
    "pred=gbmmodel.predict_proba(val_x)\n",
    "predtr=gbmmodel.predict_proba(train_x)\n",
    "predt=gbmmodel.predict_proba(test_x)\n",
    "[auc(test_y, predt[:,1]),auc(val_y, pred[:,1]),auc(train_y, predtr[:,1])]"
   ]
  },
  {
   "cell_type": "raw",
   "id": "db79cccd",
   "metadata": {},
   "source": [
    "repeat next 4 steps and goto a to control overfitting else repeat 5 steps and go to b ,dont go to a if there is no overfitting"
   ]
  },
  {
   "cell_type": "raw",
   "id": "46beadc7",
   "metadata": {},
   "source": [
    "b"
   ]
  },
  {
   "cell_type": "code",
   "execution_count": 302,
   "id": "b09e5af2",
   "metadata": {},
   "outputs": [],
   "source": [
    "gbmbest={'criterion':gbmbest['criterion'],\n",
    " 'loss':gbmbest['loss'],\n",
    "  'max_depth':gbmbest['max_depth'],\n",
    " 'n_estimators':gbmbest['n_estimators'],\n",
    " 'min_weight_fraction_leaf':gbmbest['min_weight_fraction_leaf'],\n",
    " 'min_impurity_decrease':kval(gbmbest['min_impurity_decrease'][0],gbmbest['min_impurity_decrease'][0]/gbmdecbreaker,gbmdecstep),\n",
    "\n",
    "  'min_samples_split':kval(gbmbest['min_samples_split'][0],gbmbest['min_samples_split'][0]/gbmdecbreaker,gbmdecstep),\n",
    "   'subsample':[x for x in kval(gbmbest['subsample'][0],abs(gbmbest['subsample'][0]-default['subsample'])/gbmdecbreaker,gbmdecstep) if x<1],\n",
    " 'learning_rate':kval(gbmbest['learning_rate'][0],abs(gbmbest['learning_rate'][0]-default['learning_rate'])/gbmdecbreaker,gbmdecstep)}"
   ]
  },
  {
   "cell_type": "code",
   "execution_count": 303,
   "id": "aeb37f8d",
   "metadata": {},
   "outputs": [],
   "source": [
    "for j in [x for x in [t for t in gbmbest if type(gbmbest[t][0]) !=str] if gbmbest[x][0]<0]:\n",
    "  gbmbest[j]=[x for x in gbmbest[j] if x>0] \n",
    "gbmmodel = rs(gbm, gbmbest,random_state=r)\n",
    "gbmmodel.fit(train_x,train_y)\n",
    "gbmbest=gbmmodel.best_estimator_.get_params().copy()"
   ]
  },
  {
   "cell_type": "code",
   "execution_count": 304,
   "id": "20f4f929",
   "metadata": {},
   "outputs": [
    {
     "data": {
      "text/plain": [
       "{'ccp_alpha': 0.0,\n",
       " 'criterion': 'friedman_mse',\n",
       " 'init': None,\n",
       " 'learning_rate': 0.0925,\n",
       " 'loss': 'deviance',\n",
       " 'max_depth': 105,\n",
       " 'max_features': None,\n",
       " 'max_leaf_nodes': None,\n",
       " 'min_impurity_decrease': 0.19999999999999996,\n",
       " 'min_samples_leaf': 1,\n",
       " 'min_samples_split': 0.1875,\n",
       " 'min_weight_fraction_leaf': 0.1333333333333333,\n",
       " 'n_estimators': 95,\n",
       " 'n_iter_no_change': None,\n",
       " 'random_state': 6,\n",
       " 'subsample': 0.8475000000000003,\n",
       " 'tol': 0.0001,\n",
       " 'validation_fraction': 0.1,\n",
       " 'verbose': 0,\n",
       " 'warm_start': False}"
      ]
     },
     "execution_count": 304,
     "metadata": {},
     "output_type": "execute_result"
    }
   ],
   "source": [
    "gbmbest"
   ]
  },
  {
   "cell_type": "code",
   "execution_count": 305,
   "id": "f7c9f49d",
   "metadata": {},
   "outputs": [
    {
     "data": {
      "text/plain": [
       "[0.837648556876061, 0.8329066744482173, 0.8402931247426925]"
      ]
     },
     "execution_count": 305,
     "metadata": {},
     "output_type": "execute_result"
    }
   ],
   "source": [
    "gbmmodel = gbc(**gbmbest)\n",
    "gbmmodel.fit(train_x,train_y)\n",
    "pred=gbmmodel.predict_proba(val_x)\n",
    "predtr=gbmmodel.predict_proba(train_x)\n",
    "predt=gbmmodel.predict_proba(test_x)\n",
    "[auc(test_y, predt[:,1]),auc(val_y, pred[:,1]),auc(train_y, predtr[:,1])]"
   ]
  },
  {
   "cell_type": "code",
   "execution_count": 306,
   "id": "c0e0665e",
   "metadata": {},
   "outputs": [],
   "source": [
    "for j in gbmbest:\n",
    "    gbmbest[j]=[gbmbest[j]]"
   ]
  },
  {
   "cell_type": "code",
   "execution_count": 307,
   "id": "8ca1b280",
   "metadata": {},
   "outputs": [
    {
     "data": {
      "text/plain": [
       "gender           0.000000\n",
       "age              0.966525\n",
       "hypertension     0.000000\n",
       "heart_disease    0.000000\n",
       "work_type        0.033475\n",
       "dtype: float64"
      ]
     },
     "execution_count": 307,
     "metadata": {},
     "output_type": "execute_result"
    }
   ],
   "source": [
    "#feature importance against each variable\n",
    "pd.Series(gbmmodel.feature_importances_, index=train_x.columns)"
   ]
  },
  {
   "cell_type": "raw",
   "id": "d3ebc010",
   "metadata": {},
   "source": [
    "age is of absolute importance according to gbm"
   ]
  },
  {
   "cell_type": "markdown",
   "id": "d83694e7",
   "metadata": {},
   "source": [
    "## xgbm"
   ]
  },
  {
   "cell_type": "code",
   "execution_count": 308,
   "id": "90239653",
   "metadata": {},
   "outputs": [],
   "source": [
    "#the parameters that come last are selected by default even if they have some other value previously in the method calling statement\n",
    "\n",
    "#max_depth, min_child_weight and gamma directly controls overfitting \n",
    "#so use kvall to reduce max depth and use kvalg to increase gamma and min child weight\n",
    "#also reduce learning rate max_depth and simultaenoeusly increase gamma and nestimators to remedy the damage done to model by reducing max depth \n",
    "#and also doubly attack overfitting"
   ]
  },
  {
   "cell_type": "code",
   "execution_count": 309,
   "id": "083a595c",
   "metadata": {},
   "outputs": [],
   "source": [
    "import xgboost as xgb\n",
    "from xgboost import XGBClassifier as xgbc"
   ]
  },
  {
   "cell_type": "code",
   "execution_count": 310,
   "id": "37f03093",
   "metadata": {},
   "outputs": [],
   "source": [
    "#xgbmdecstep steps the values of hyperparameter (which accepts float values) in kval\n",
    "xgbmdecstep=3\n",
    "xgbmdecbreaker=2*(xgbmdecstep+1)\n",
    "\n",
    "xgbmgsdecstep=int(2)\n",
    "xgbmgsdecbreaker=1*(xgbmgsdecstep+1)\n",
    "\n",
    "earlystopping=1"
   ]
  },
  {
   "cell_type": "code",
   "execution_count": 311,
   "id": "95c1ff90",
   "metadata": {},
   "outputs": [],
   "source": [
    "xgbm=xgbc(random_state=r,verbosity=0)"
   ]
  },
  {
   "cell_type": "code",
   "execution_count": 312,
   "id": "77286049",
   "metadata": {},
   "outputs": [],
   "source": [
    "default={'learning_rate':0.03,'subsample':1,'colsample_bylevel':0.9,'colsample_bynode':0.9,'colsample_bytree':0.9}"
   ]
  },
  {
   "cell_type": "raw",
   "id": "ed53761a",
   "metadata": {},
   "source": [
    "try both decimal and subdecimal"
   ]
  },
  {
   "cell_type": "code",
   "execution_count": 313,
   "id": "31b37080",
   "metadata": {},
   "outputs": [],
   "source": [
    "xgbmdict={'max_depth':kval(100,5,10),\n",
    "'n_estimators':kval(100,5,10),\n",
    " 'min_samples_split':decimal,\n",
    " 'min_weight_fraction_leaf':decimal,\n",
    " 'min_impurity_decrease':decimal,\n",
    " 'min_impurity_split':decimal,\n",
    "'loss':['deviance', 'exponential'],\n",
    "'learning_rate':kval(0.1,0.1/10,5),\n",
    "'n_estimators':kval(100,10,5),\n",
    "'subsample':kval(0.9,0.02,5),\n",
    "'criterion':['friedman_mse', 'mse'],\n",
    "'colsample_bylevel':kval(0.75,0.05,4),\n",
    "'colsample_bynode':kval(0.75,0.05,4),\n",
    "'colsample_bytree':kval(0.75,0.05,4),\n",
    "'gamma':kval(0.2,0.05,5),\n",
    "'reg_alpha':kval(0.2,0.05,5),\n",
    "'reg_lambda':kval(0.2,0.05,5)}"
   ]
  },
  {
   "cell_type": "code",
   "execution_count": 314,
   "id": "10c337c3",
   "metadata": {},
   "outputs": [],
   "source": [
    "xgbmbest=xgbmdict.copy()\n",
    "xgbmmodel = rs(xgbm, xgbmbest,random_state=r)\n",
    "xgbmmodel.fit(train_x,train_y)\n",
    "xgbmbest=xgbmmodel.best_estimator_.get_params().copy()"
   ]
  },
  {
   "cell_type": "code",
   "execution_count": 315,
   "id": "c3510007",
   "metadata": {},
   "outputs": [
    {
     "data": {
      "text/plain": [
       "{'objective': 'binary:logistic',\n",
       " 'use_label_encoder': True,\n",
       " 'base_score': 0.5,\n",
       " 'booster': 'gbtree',\n",
       " 'colsample_bylevel': 0.7000000000000002,\n",
       " 'colsample_bynode': 0.55,\n",
       " 'colsample_bytree': 0.9000000000000004,\n",
       " 'gamma': 0.3,\n",
       " 'gpu_id': -1,\n",
       " 'importance_type': 'gain',\n",
       " 'interaction_constraints': '',\n",
       " 'learning_rate': 0.060000000000000005,\n",
       " 'max_delta_step': 0,\n",
       " 'max_depth': 150,\n",
       " 'min_child_weight': 1,\n",
       " 'missing': nan,\n",
       " 'monotone_constraints': '()',\n",
       " 'n_estimators': 120,\n",
       " 'n_jobs': 8,\n",
       " 'num_parallel_tree': 1,\n",
       " 'random_state': 6,\n",
       " 'reg_alpha': 0.2,\n",
       " 'reg_lambda': 0.2,\n",
       " 'scale_pos_weight': 1,\n",
       " 'subsample': 0.9200000000000002,\n",
       " 'tree_method': 'exact',\n",
       " 'validate_parameters': 1,\n",
       " 'verbosity': 0,\n",
       " 'min_weight_fraction_leaf': 0.39999999999999997,\n",
       " 'min_samples_split': 0.44999999999999996,\n",
       " 'min_impurity_split': 0.44999999999999996,\n",
       " 'min_impurity_decrease': 0.44999999999999996,\n",
       " 'loss': 'deviance',\n",
       " 'criterion': 'mse'}"
      ]
     },
     "execution_count": 315,
     "metadata": {},
     "output_type": "execute_result"
    }
   ],
   "source": [
    "xgbmbest"
   ]
  },
  {
   "cell_type": "code",
   "execution_count": 316,
   "id": "af15d2e8",
   "metadata": {},
   "outputs": [
    {
     "name": "stdout",
     "output_type": "stream",
     "text": [
      "[0]\ttrain-logloss:0.64579\tval-logloss:0.64574\n",
      "[10]\ttrain-logloss:0.36923\tval-logloss:0.36870\n",
      "[20]\ttrain-logloss:0.26049\tval-logloss:0.25985\n",
      "[30]\ttrain-logloss:0.21132\tval-logloss:0.21117\n",
      "[40]\ttrain-logloss:0.19050\tval-logloss:0.19062\n",
      "[50]\ttrain-logloss:0.17352\tval-logloss:0.17549\n",
      "[60]\ttrain-logloss:0.16663\tval-logloss:0.16916\n",
      "[70]\ttrain-logloss:0.15980\tval-logloss:0.16405\n",
      "[80]\ttrain-logloss:0.15717\tval-logloss:0.16174\n",
      "[90]\ttrain-logloss:0.15411\tval-logloss:0.15950\n",
      "[98]\ttrain-logloss:0.15333\tval-logloss:0.15881\n",
      "Modeling logloss 0.15881\n"
     ]
    }
   ],
   "source": [
    "dtrain = xgb.DMatrix(train_x, label=train_y)\n",
    "dval = xgb.DMatrix(val_x, label=val_y)\n",
    "watchlist = [(dtrain, 'train'), (dval, 'val')]\n",
    "xgbmodel = xgb.train(dtrain=dtrain,num_boost_round=10000,evals=watchlist, early_stopping_rounds=earlystopping,\n",
    "      maximize=False, verbose_eval=10 ,params=xgbmbest)\n",
    "xbgmpredict={'ntree_limit':xgbmodel.best_ntree_limit}\n",
    "print('Modeling logloss %.5f' % xgbmodel.best_score)"
   ]
  },
  {
   "cell_type": "code",
   "execution_count": 317,
   "id": "2a9b1d39",
   "metadata": {},
   "outputs": [
    {
     "data": {
      "text/plain": [
       "[0.8527363646010185, 0.8424037033106961, 0.8666348291477974]"
      ]
     },
     "execution_count": 317,
     "metadata": {},
     "output_type": "execute_result"
    }
   ],
   "source": [
    "xgbmmodel = xgbc(**xgbmbest)\n",
    "xgbmmodel.fit(train_x,train_y)\n",
    "pred=xgbmmodel.predict_proba(val_x,**xbgmpredict)\n",
    "predtr=xgbmmodel.predict_proba(train_x,**xbgmpredict)\n",
    "predt=xgbmmodel.predict_proba(test_x,**xbgmpredict)\n",
    "[auc(test_y, predt[:,1]),auc(val_y, pred[:,1]),auc(train_y, predtr[:,1])]"
   ]
  },
  {
   "cell_type": "code",
   "execution_count": 318,
   "id": "7918788f",
   "metadata": {},
   "outputs": [],
   "source": [
    "xgbmbestgs=xgbmbest.copy()\n",
    "for j in xgbmbestgs:\n",
    "    xgbmbestgs[j]=[xgbmbestgs[j]]\n",
    "for j in [x for x in xgbmbestgs if x not in xgbmdict]:\n",
    "    xgbmbestgs.pop(j)"
   ]
  },
  {
   "cell_type": "code",
   "execution_count": 319,
   "id": "ac0c9b74",
   "metadata": {},
   "outputs": [],
   "source": [
    "xgbmdict={'loss':['deviance', 'exponential'],\n",
    "         'criterion':['friedman_mse', 'mse'],\n",
    " 'n_estimators':kval(xgbmbest['n_estimators'],5,[5 if xgbmbest['n_estimators']>5 else x for x in [xgbmbest['n_estimators']]][0]),\n",
    " 'max_depth':kval(xgbmbest['max_depth'],5,[5 if xgbmbest['max_depth']>5 else x for x in [xgbmbest['max_depth']]][0]),\n",
    " 'min_samples_split':[xgbmbest['min_samples_split']],\n",
    " 'min_weight_fraction_leaf':kval(xgbmbest['min_weight_fraction_leaf'],xgbmbest['min_weight_fraction_leaf']/xgbmgsdecbreaker,xgbmgsdecstep),\n",
    " 'min_impurity_decrease':[xgbmbest['min_weight_fraction_leaf']],\n",
    " 'min_impurity_split':[xgbmbest['min_impurity_split']],\n",
    "  'subsample':[xgbmbest['subsample']],\n",
    "  'learning_rate':[xgbmbest['learning_rate']],\n",
    "  'colsample_bylevel':[xgbmbest['colsample_bylevel']] ,\n",
    "'colsample_bytree':[xgbmbest['colsample_bytree']],\n",
    "'colsample_bynode':[xgbmbest['colsample_bynode']],\n",
    "'gamma':kval(xgbmbest['gamma'],xgbmbest['gamma']/xgbmgsdecbreaker,xgbmgsdecstep),\n",
    "'reg_alpha':[xgbmbest['reg_alpha']],\n",
    "'reg_lambda':[xgbmbest['reg_lambda']],\n",
    "'objective':[xgbmbest['objective']]}"
   ]
  },
  {
   "cell_type": "code",
   "execution_count": 320,
   "id": "cecb937a",
   "metadata": {},
   "outputs": [],
   "source": [
    "xgmbest=xgbmdict.copy()\n",
    "for j in ['loss','criterion','n_estimators','max_depth','gamma','min_weight_fraction_leaf'] :\n",
    " tree_para ={**xgbmbestgs,j:xgbmdict[j]}\n",
    " xgbmmodel = gs(xgbm, tree_para)\n",
    " xgbmmodel.fit(train_x,train_y)\n",
    " xgbmbest[j]=xgbmmodel.best_estimator_.get_params()[j]"
   ]
  },
  {
   "cell_type": "code",
   "execution_count": 321,
   "id": "8a39a87b",
   "metadata": {},
   "outputs": [
    {
     "data": {
      "text/plain": [
       "{'objective': 'binary:logistic',\n",
       " 'use_label_encoder': True,\n",
       " 'base_score': 0.5,\n",
       " 'booster': 'gbtree',\n",
       " 'colsample_bylevel': 0.7000000000000002,\n",
       " 'colsample_bynode': 0.55,\n",
       " 'colsample_bytree': 0.9000000000000004,\n",
       " 'gamma': 0.1,\n",
       " 'gpu_id': -1,\n",
       " 'importance_type': 'gain',\n",
       " 'interaction_constraints': '',\n",
       " 'learning_rate': 0.060000000000000005,\n",
       " 'max_delta_step': 0,\n",
       " 'max_depth': 125,\n",
       " 'min_child_weight': 1,\n",
       " 'missing': nan,\n",
       " 'monotone_constraints': '()',\n",
       " 'n_estimators': 95,\n",
       " 'n_jobs': 8,\n",
       " 'num_parallel_tree': 1,\n",
       " 'random_state': 6,\n",
       " 'reg_alpha': 0.2,\n",
       " 'reg_lambda': 0.2,\n",
       " 'scale_pos_weight': 1,\n",
       " 'subsample': 0.9200000000000002,\n",
       " 'tree_method': 'exact',\n",
       " 'validate_parameters': 1,\n",
       " 'verbosity': 0,\n",
       " 'min_weight_fraction_leaf': 0.1333333333333333,\n",
       " 'min_samples_split': 0.44999999999999996,\n",
       " 'min_impurity_split': 0.44999999999999996,\n",
       " 'min_impurity_decrease': 0.44999999999999996,\n",
       " 'loss': 'deviance',\n",
       " 'criterion': 'friedman_mse'}"
      ]
     },
     "execution_count": 321,
     "metadata": {},
     "output_type": "execute_result"
    }
   ],
   "source": [
    "xgbmbest1=xgbmbest.copy()\n",
    "for j in xgbmbest1:\n",
    " xgbmbest1[j]=[xgbmbest[j][0] if type(xgbmbest[j])==list else x for x in [xgbmbest[j]]][0]\n",
    "xgbmbest1"
   ]
  },
  {
   "cell_type": "code",
   "execution_count": 322,
   "id": "16810c14",
   "metadata": {},
   "outputs": [
    {
     "name": "stdout",
     "output_type": "stream",
     "text": [
      "[0]\ttrain-logloss:0.64579\tval-logloss:0.64574\n",
      "[10]\ttrain-logloss:0.36921\tval-logloss:0.36872\n",
      "[20]\ttrain-logloss:0.26046\tval-logloss:0.25986\n",
      "[30]\ttrain-logloss:0.21129\tval-logloss:0.21116\n",
      "[40]\ttrain-logloss:0.19046\tval-logloss:0.19060\n",
      "[50]\ttrain-logloss:0.17343\tval-logloss:0.17542\n",
      "[60]\ttrain-logloss:0.16653\tval-logloss:0.16909\n",
      "[70]\ttrain-logloss:0.15972\tval-logloss:0.16404\n",
      "[80]\ttrain-logloss:0.15706\tval-logloss:0.16170\n",
      "[90]\ttrain-logloss:0.15400\tval-logloss:0.15944\n",
      "[100]\ttrain-logloss:0.15315\tval-logloss:0.15872\n",
      "Modeling logloss 0.15872\n"
     ]
    }
   ],
   "source": [
    "dtrain = xgb.DMatrix(train_x, label=train_y)\n",
    "dval = xgb.DMatrix(val_x, label=val_y)\n",
    "watchlist = [(dtrain, 'train'), (dval, 'val')]\n",
    "xgbmodel = xgb.train(dtrain=dtrain,num_boost_round=10000,evals=watchlist, early_stopping_rounds=earlystopping,\n",
    "      maximize=False, verbose_eval=10 ,params=xgbmbest)\n",
    "xbgmpredict={'ntree_limit':xgbmodel.best_ntree_limit}\n",
    "print('Modeling logloss %.5f' % xgbmodel.best_score)"
   ]
  },
  {
   "cell_type": "code",
   "execution_count": 323,
   "id": "b1a27dab",
   "metadata": {},
   "outputs": [
    {
     "data": {
      "text/plain": [
       "[0.8513038518675721, 0.8426623514431238, 0.8674516261836147]"
      ]
     },
     "execution_count": 323,
     "metadata": {},
     "output_type": "execute_result"
    }
   ],
   "source": [
    "xgbmmodel = xgbc(**xgbmbest)\n",
    "xgbmmodel.fit(train_x,train_y)\n",
    "pred=xgbmmodel.predict_proba(val_x,**xbgmpredict)\n",
    "predtr=xgbmmodel.predict_proba(train_x,**xbgmpredict)\n",
    "predt=xgbmmodel.predict_proba(test_x,**xbgmpredict)\n",
    "[auc(test_y, predt[:,1]),auc(val_y, pred[:,1]),auc(train_y, predtr[:,1])]"
   ]
  },
  {
   "cell_type": "code",
   "execution_count": 324,
   "id": "f659e2ac",
   "metadata": {},
   "outputs": [
    {
     "data": {
      "text/plain": [
       "{'objective': 'binary:logistic',\n",
       " 'use_label_encoder': True,\n",
       " 'base_score': 0.5,\n",
       " 'booster': 'gbtree',\n",
       " 'colsample_bylevel': 0.7000000000000002,\n",
       " 'colsample_bynode': 0.55,\n",
       " 'colsample_bytree': 0.9000000000000004,\n",
       " 'gamma': 0.1,\n",
       " 'gpu_id': -1,\n",
       " 'importance_type': 'gain',\n",
       " 'interaction_constraints': '',\n",
       " 'learning_rate': 0.060000000000000005,\n",
       " 'max_delta_step': 0,\n",
       " 'max_depth': 125,\n",
       " 'min_child_weight': 1,\n",
       " 'missing': nan,\n",
       " 'monotone_constraints': '()',\n",
       " 'n_estimators': 95,\n",
       " 'n_jobs': 8,\n",
       " 'num_parallel_tree': 1,\n",
       " 'random_state': 6,\n",
       " 'reg_alpha': 0.2,\n",
       " 'reg_lambda': 0.2,\n",
       " 'scale_pos_weight': 1,\n",
       " 'subsample': 0.9200000000000002,\n",
       " 'tree_method': 'exact',\n",
       " 'validate_parameters': 1,\n",
       " 'verbosity': 0,\n",
       " 'min_weight_fraction_leaf': 0.1333333333333333,\n",
       " 'min_samples_split': 0.44999999999999996,\n",
       " 'min_impurity_split': 0.44999999999999996,\n",
       " 'min_impurity_decrease': 0.44999999999999996,\n",
       " 'loss': 'deviance',\n",
       " 'criterion': 'friedman_mse'}"
      ]
     },
     "execution_count": 324,
     "metadata": {},
     "output_type": "execute_result"
    }
   ],
   "source": [
    "xgbmbest"
   ]
  },
  {
   "cell_type": "code",
   "execution_count": 325,
   "id": "f73ce225",
   "metadata": {},
   "outputs": [],
   "source": [
    "xgbmbest={'criterion':[xgbmbest['criterion']],\n",
    " 'loss':[xgbmbest['loss']],\n",
    "  'max_depth':[xgbmbest['max_depth']],\n",
    " 'n_estimators':[xgbmbest['n_estimators']],\n",
    " 'min_weight_fraction_leaf':[xgbmbest['min_weight_fraction_leaf']],\n",
    " 'min_impurity_decrease':kval(xgbmbest['min_impurity_decrease'],xgbmbest['min_impurity_decrease']/xgbmdecbreaker,xgbmdecstep),\n",
    " 'min_impurity_split':kval(xgbmbest['min_impurity_split'],xgbmbest['min_impurity_split']/xgbmdecbreaker,xgbmdecstep),\n",
    "  'min_samples_split':kval(xgbmbest['min_samples_split'],xgbmbest['min_samples_split']/xgbmdecbreaker,xgbmdecstep),\n",
    "  'subsample':[x for x in kval(xgbmbest['subsample'],abs(xgbmbest['subsample']-default['subsample'])/xgbmdecbreaker,xgbmdecstep) if x<1],\n",
    " 'learning_rate':[xgbmbest['learning_rate']],\n",
    "'colsample_bylevel':[x for x in kval(xgbmbest['colsample_bylevel'],abs(xgbmbest[ 'colsample_bylevel']-default[ 'colsample_bylevel'])/xgbmdecbreaker,xgbmdecstep) if x<1] ,\n",
    "'colsample_bytree':[x for x in kval(xgbmbest['colsample_bytree'],abs(xgbmbest['colsample_bytree']-default['colsample_bytree'])/xgbmdecbreaker,xgbmdecstep) if x<1],\n",
    "'colsample_bynode':[x for x in kval(xgbmbest['colsample_bynode'],abs(xgbmbest[ 'colsample_bynode']-default['colsample_bynode'])/xgbmdecbreaker,xgbmdecstep) if x<1],\n",
    "'gamma':[xgbmbest['gamma']],\n",
    "'reg_alpha':kval(xgbmbest['reg_alpha'],xgbmbest['reg_alpha']/xgbmdecbreaker,xgbmdecstep),\n",
    "'reg_lambda':kval(xgbmbest['reg_lambda'],xgbmbest['reg_lambda']/xgbmdecbreaker,xgbmdecstep)}"
   ]
  },
  {
   "cell_type": "code",
   "execution_count": 326,
   "id": "7d6d11e8",
   "metadata": {},
   "outputs": [],
   "source": [
    "for j in [x for x in [t for t in xgbmbest if type(xgbmbest[t][0]) !=str] if xgbmbest[x][0]<0]:\n",
    "  xgbmbest[j]=[x for x in xgbmbest[j] if x>0] \n",
    "xgbmmodel = rs(xgbm, xgbmbest,random_state=r)\n",
    "xgbmmodel.fit(train_x,train_y)\n",
    "xgbmbest=xgbmmodel.best_estimator_.get_params().copy()"
   ]
  },
  {
   "cell_type": "code",
   "execution_count": 327,
   "id": "9807fba7",
   "metadata": {},
   "outputs": [
    {
     "data": {
      "text/plain": [
       "{'objective': 'binary:logistic',\n",
       " 'use_label_encoder': True,\n",
       " 'base_score': 0.5,\n",
       " 'booster': 'gbtree',\n",
       " 'colsample_bylevel': 0.7000000000000003,\n",
       " 'colsample_bynode': 0.41875000000000007,\n",
       " 'colsample_bytree': 0.9001000000000003,\n",
       " 'gamma': 0.1,\n",
       " 'gpu_id': -1,\n",
       " 'importance_type': 'gain',\n",
       " 'interaction_constraints': '',\n",
       " 'learning_rate': 0.060000000000000005,\n",
       " 'max_delta_step': 0,\n",
       " 'max_depth': 125,\n",
       " 'min_child_weight': 1,\n",
       " 'missing': nan,\n",
       " 'monotone_constraints': '()',\n",
       " 'n_estimators': 95,\n",
       " 'n_jobs': 8,\n",
       " 'num_parallel_tree': 1,\n",
       " 'random_state': 6,\n",
       " 'reg_alpha': 0.22499999999999998,\n",
       " 'reg_lambda': 0.22499999999999998,\n",
       " 'scale_pos_weight': 1,\n",
       " 'subsample': 0.9100000000000003,\n",
       " 'tree_method': 'exact',\n",
       " 'validate_parameters': 1,\n",
       " 'verbosity': 0,\n",
       " 'min_weight_fraction_leaf': 0.1333333333333333,\n",
       " 'min_samples_split': 0.28125,\n",
       " 'min_impurity_split': 0.28125,\n",
       " 'min_impurity_decrease': 0.3375,\n",
       " 'loss': 'deviance',\n",
       " 'criterion': 'friedman_mse'}"
      ]
     },
     "execution_count": 327,
     "metadata": {},
     "output_type": "execute_result"
    }
   ],
   "source": [
    "xgbmbest1=xgbmbest.copy()\n",
    "for j in xgbmbest1:\n",
    " xgbmbest1[j]=[xgbmbest[j][0] if type(xgbmbest[j])==list else x for x in [xgbmbest[j]]][0]\n",
    "xgbmbest1"
   ]
  },
  {
   "cell_type": "code",
   "execution_count": 328,
   "id": "ce451a5c",
   "metadata": {},
   "outputs": [
    {
     "name": "stdout",
     "output_type": "stream",
     "text": [
      "[0]\ttrain-logloss:0.64585\tval-logloss:0.64581\n",
      "[10]\ttrain-logloss:0.36932\tval-logloss:0.36894\n",
      "[20]\ttrain-logloss:0.26074\tval-logloss:0.26022\n",
      "[30]\ttrain-logloss:0.21149\tval-logloss:0.21137\n",
      "[40]\ttrain-logloss:0.19066\tval-logloss:0.19078\n",
      "[50]\ttrain-logloss:0.17355\tval-logloss:0.17564\n",
      "[60]\ttrain-logloss:0.16659\tval-logloss:0.16936\n",
      "[70]\ttrain-logloss:0.15986\tval-logloss:0.16411\n",
      "[80]\ttrain-logloss:0.15731\tval-logloss:0.16187\n",
      "[88]\ttrain-logloss:0.15454\tval-logloss:0.15974\n",
      "Modeling logloss 0.15974\n"
     ]
    }
   ],
   "source": [
    "dtrain = xgb.DMatrix(train_x, label=train_y)\n",
    "dval = xgb.DMatrix(val_x, label=val_y)\n",
    "watchlist = [(dtrain, 'train'), (dval, 'val')]\n",
    "xgbmodel = xgb.train(dtrain=dtrain,num_boost_round=10000,evals=watchlist, early_stopping_rounds=earlystopping,\n",
    "      maximize=False, verbose_eval=10 ,params=xgbmbest1)\n",
    "xbgmpredict={'ntree_limit':xgbmodel.best_ntree_limit}\n",
    "print('Modeling logloss %.5f' % xgbmodel.best_score)"
   ]
  },
  {
   "cell_type": "code",
   "execution_count": 329,
   "id": "03e1b4db",
   "metadata": {},
   "outputs": [
    {
     "data": {
      "text/plain": [
       "[0.8528225806451613, 0.8433852398132428, 0.8671387402223137]"
      ]
     },
     "execution_count": 329,
     "metadata": {},
     "output_type": "execute_result"
    }
   ],
   "source": [
    "xgbmmodel = xgbc(**xgbmbest1)\n",
    "xgbmmodel.fit(train_x,train_y)\n",
    "pred=xgbmmodel.predict_proba(val_x,**xbgmpredict)\n",
    "predtr=xgbmmodel.predict_proba(train_x,**xbgmpredict)\n",
    "predt=xgbmmodel.predict_proba(test_x,**xbgmpredict)\n",
    "[auc(test_y, predt[:,1]),auc(val_y, pred[:,1]),auc(train_y, predtr[:,1])]"
   ]
  },
  {
   "cell_type": "raw",
   "id": "6bf8a1a3",
   "metadata": {},
   "source": [
    "a"
   ]
  },
  {
   "cell_type": "code",
   "execution_count": 330,
   "id": "b7866830",
   "metadata": {},
   "outputs": [
    {
     "name": "stdout",
     "output_type": "stream",
     "text": [
      "[True]\n",
      "[0.5]\n",
      "['gbtree']\n",
      "[-1]\n",
      "['gain']\n",
      "['']\n",
      "[0]\n",
      "[1]\n",
      "[nan]\n",
      "['()']\n",
      "[8]\n",
      "[1]\n",
      "[6]\n",
      "[1]\n",
      "['exact']\n",
      "[1]\n",
      "[0]\n"
     ]
    }
   ],
   "source": [
    "for j in xgbmbest:\n",
    " xgbmbest[j]=[xgbmbest[j]]\n",
    "xgbmbestgs=xgbmbest.copy()\n",
    "for j in [x for x in xgbmbestgs if x not in xgbmdict]:\n",
    " print(xgbmbestgs.pop(j))"
   ]
  },
  {
   "cell_type": "raw",
   "id": "6d48c4d8",
   "metadata": {},
   "source": [
    "to control overfitting we are using kvall and kvalg"
   ]
  },
  {
   "cell_type": "code",
   "execution_count": 331,
   "id": "3beb7463",
   "metadata": {},
   "outputs": [],
   "source": [
    "xgbmbest={'loss':xgbmbest['loss'],\n",
    "         'criterion':xgbmbest['criterion'],\n",
    " 'n_estimators':kvalg(xgbmbest['n_estimators'][0],2,[5 if xgbmbest['n_estimators'][0]>5 else x for x in [xgbmbest['n_estimators']][0]][0]),\n",
    " 'max_depth':kvall(xgbmbest['max_depth'][0],2,[5 if xgbmbest['max_depth'][0]>5 else x for x in [xgbmbest['max_depth']][0]][0]),\n",
    " 'min_samples_split':xgbmbest['min_samples_split'],\n",
    " 'min_weight_fraction_leaf':kvalg(xgbmbest['min_weight_fraction_leaf'][0],xgbmbest['min_weight_fraction_leaf'][0]/xgbmgsdecbreaker,xgbmgsdecstep),\n",
    " 'min_impurity_decrease':xgbmbest['min_weight_fraction_leaf'],\n",
    " 'min_impurity_split':xgbmbest['min_impurity_split'],\n",
    "  'subsample':xgbmbest['subsample'],\n",
    "  'learning_rate':xgbmbest['learning_rate'],\n",
    "  'colsample_bylevel':xgbmbest['colsample_bylevel'],\n",
    "'colsample_bytree':xgbmbest['colsample_bytree'],\n",
    "'colsample_bynode':xgbmbest['colsample_bynode'],\n",
    "'gamma':kvalg(xgbmbest['gamma'][0],xgbmbest['gamma'][0]/xgbmgsdecbreaker,xgbmgsdecstep),\n",
    "'reg_alpha':xgbmbest['reg_alpha'],\n",
    "'reg_lambda':xgbmbest['reg_lambda'],\n",
    "'objective':xgbmbest['objective']}"
   ]
  },
  {
   "cell_type": "raw",
   "id": "86ab5dc7",
   "metadata": {},
   "source": [
    "decide wether you want to keep **xgbmbest1 in tree_para"
   ]
  },
  {
   "cell_type": "code",
   "execution_count": 332,
   "id": "86960a27",
   "metadata": {},
   "outputs": [],
   "source": [
    "for j in ['n_estimators','max_depth','gamma','min_weight_fraction_leaf'] :\n",
    " tree_para ={**xgbmbestgs,j:xgbmbest[j]}\n",
    " xgbmmodel = gs(xgbm, tree_para)\n",
    " xgbmmodel.fit(train_x,train_y)\n",
    " xgbmbest[j]=[xgbmmodel.best_estimator_.get_params()[j]]"
   ]
  },
  {
   "cell_type": "code",
   "execution_count": 333,
   "id": "1b0a1c66",
   "metadata": {},
   "outputs": [
    {
     "data": {
      "text/plain": [
       "{'loss': 'deviance',\n",
       " 'criterion': 'friedman_mse',\n",
       " 'n_estimators': 95,\n",
       " 'max_depth': 115,\n",
       " 'min_samples_split': 0.28125,\n",
       " 'min_weight_fraction_leaf': 0.1333333333333333,\n",
       " 'min_impurity_decrease': 0.1333333333333333,\n",
       " 'min_impurity_split': 0.28125,\n",
       " 'subsample': 0.9100000000000003,\n",
       " 'learning_rate': 0.060000000000000005,\n",
       " 'colsample_bylevel': 0.7000000000000003,\n",
       " 'colsample_bytree': 0.9001000000000003,\n",
       " 'colsample_bynode': 0.41875000000000007,\n",
       " 'gamma': 0.1,\n",
       " 'reg_alpha': 0.22499999999999998,\n",
       " 'reg_lambda': 0.22499999999999998,\n",
       " 'objective': 'binary:logistic'}"
      ]
     },
     "execution_count": 333,
     "metadata": {},
     "output_type": "execute_result"
    }
   ],
   "source": [
    "xgbmbest1=xgbmbest.copy()\n",
    "for j in xgbmbest1:\n",
    " xgbmbest1[j]=[xgbmbest[j][0] if type(xgbmbest[j])==list else x for x in [xgbmbest[j]]][0]\n",
    "xgbmbest1"
   ]
  },
  {
   "cell_type": "code",
   "execution_count": 334,
   "id": "7b48d093",
   "metadata": {},
   "outputs": [
    {
     "name": "stdout",
     "output_type": "stream",
     "text": [
      "[0]\ttrain-logloss:0.64566\tval-logloss:0.64555\n",
      "[10]\ttrain-logloss:0.37033\tval-logloss:0.37002\n",
      "[20]\ttrain-logloss:0.26014\tval-logloss:0.25971\n",
      "[30]\ttrain-logloss:0.20823\tval-logloss:0.20842\n",
      "[40]\ttrain-logloss:0.18419\tval-logloss:0.18554\n",
      "[50]\ttrain-logloss:0.17494\tval-logloss:0.17650\n",
      "[60]\ttrain-logloss:0.16759\tval-logloss:0.17035\n",
      "[70]\ttrain-logloss:0.16203\tval-logloss:0.16521\n",
      "[80]\ttrain-logloss:0.15893\tval-logloss:0.16303\n",
      "[89]\ttrain-logloss:0.15578\tval-logloss:0.16085\n",
      "Modeling logloss 0.16085\n"
     ]
    }
   ],
   "source": [
    " dtrain = xgb.DMatrix(train_x, label=train_y)\n",
    "dval = xgb.DMatrix(val_x, label=val_y)\n",
    "watchlist = [(dtrain, 'train'), (dval, 'val')]\n",
    "xgbmodel = xgb.train(dtrain=dtrain,num_boost_round=10000,evals=watchlist, early_stopping_rounds=earlystopping,\n",
    "      maximize=False, verbose_eval=10 ,params=xgbmbest1)\n",
    "xbgmpredict={'ntree_limit':xgbmodel.best_ntree_limit}\n",
    "print('Modeling logloss %.5f' % xgbmodel.best_score)"
   ]
  },
  {
   "cell_type": "code",
   "execution_count": 335,
   "id": "a5e29cb4",
   "metadata": {},
   "outputs": [
    {
     "data": {
      "text/plain": [
       "[0.8582011353989811, 0.8370052525466893, 0.8620979827089338]"
      ]
     },
     "execution_count": 335,
     "metadata": {},
     "output_type": "execute_result"
    }
   ],
   "source": [
    "xgbmmodel = xgbc(**xgbmbest1)\n",
    "xgbmmodel.fit(train_x,train_y)\n",
    "pred=xgbmmodel.predict_proba(val_x,**xbgmpredict)\n",
    "predtr=xgbmmodel.predict_proba(train_x,**xbgmpredict)\n",
    "predt=xgbmmodel.predict_proba(test_x,**xbgmpredict)\n",
    "[auc(test_y, predt[:,1]),auc(val_y, pred[:,1]),auc(train_y, predtr[:,1])]"
   ]
  },
  {
   "cell_type": "raw",
   "id": "1452689b",
   "metadata": {},
   "source": [
    "repeat next 6 steps and goto a to control overfitting else repeat 7 steps and go to b ,dont go to a if there is no overfitting"
   ]
  },
  {
   "cell_type": "raw",
   "id": "0a524788",
   "metadata": {},
   "source": [
    "b"
   ]
  },
  {
   "cell_type": "code",
   "execution_count": 336,
   "id": "684f48d6",
   "metadata": {},
   "outputs": [],
   "source": [
    "xgbmbest={'criterion':xgbmbest['criterion'],\n",
    " 'loss':xgbmbest['loss'],\n",
    "  'max_depth':xgbmbest['max_depth'],\n",
    " 'n_estimators':xgbmbest['n_estimators'],\n",
    " 'min_weight_fraction_leaf':xgbmbest['min_weight_fraction_leaf'],\n",
    " 'min_impurity_decrease':kval(xgbmbest['min_impurity_decrease'][0],xgbmbest['min_impurity_decrease'][0]/xgbmdecbreaker,xgbmdecstep),\n",
    " 'min_impurity_split':kval(xgbmbest['min_impurity_split'][0],xgbmbest['min_impurity_split'][0]/xgbmdecbreaker,xgbmdecstep),\n",
    "  'min_samples_split':kval(xgbmbest['min_samples_split'][0],xgbmbest['min_samples_split'][0]/xgbmdecbreaker,xgbmdecstep),\n",
    "  'subsample':[x for x in kval(xgbmbest['subsample'][0],abs(xgbmbest['subsample'][0]-default['subsample'])/xgbmdecbreaker,xgbmdecstep) if x<1],\n",
    " 'learning_rate':kval(xgbmbest['learning_rate'][0],xgbmbest['learning_rate'][0]/xgbmdecbreaker,xgbmdecstep),\n",
    "'colsample_bylevel':[x for x in kval(xgbmbest['colsample_bylevel'][0],abs(xgbmbest[ 'colsample_bylevel'][0]-default[ 'colsample_bylevel'])/xgbmdecbreaker,xgbmdecstep) if x<1] ,\n",
    "'colsample_bytree':[x for x in kval(xgbmbest['colsample_bytree'][0],abs(xgbmbest['colsample_bytree'][0]-default['colsample_bytree'])/xgbmdecbreaker,xgbmdecstep) if x<1],\n",
    "'colsample_bynode':[x for x in kval(xgbmbest['colsample_bynode'][0],abs(xgbmbest[ 'colsample_bynode'][0]-default['colsample_bynode'])/xgbmdecbreaker,xgbmdecstep) if x<1],\n",
    "'gamma':xgbmbest['gamma'],\n",
    "'reg_alpha':kval(xgbmbest['reg_alpha'][0],xgbmbest['reg_alpha'][0]/xgbmdecbreaker,xgbmdecstep),\n",
    "'reg_lambda':kval(xgbmbest['reg_lambda'][0],xgbmbest['reg_lambda'][0]/xgbmdecbreaker,xgbmdecstep)}"
   ]
  },
  {
   "cell_type": "code",
   "execution_count": 337,
   "id": "0e10fefc",
   "metadata": {},
   "outputs": [],
   "source": [
    "for j in [x for x in [t for t in xgbmbest if type(xgbmbest[t][0]) !=str] if xgbmbest[x][0]<0]:\n",
    "  xgbmbest[j]=[x for x in xgbmbest[j] if x>0] "
   ]
  },
  {
   "cell_type": "code",
   "execution_count": 338,
   "id": "2973f010",
   "metadata": {},
   "outputs": [],
   "source": [
    "xgbmmodel = rs(xgbm, xgbmbest,random_state=r)\n",
    "xgbmmodel.fit(train_x,train_y)\n",
    "xgbmbest=xgbmmodel.best_estimator_.get_params().copy()"
   ]
  },
  {
   "cell_type": "code",
   "execution_count": 339,
   "id": "98ea4582",
   "metadata": {},
   "outputs": [
    {
     "data": {
      "text/plain": [
       "{'objective': 'binary:logistic',\n",
       " 'use_label_encoder': True,\n",
       " 'base_score': 0.5,\n",
       " 'booster': 'gbtree',\n",
       " 'colsample_bylevel': 0.7000000000000002,\n",
       " 'colsample_bynode': 0.41875000000000007,\n",
       " 'colsample_bytree': 0.8998000000000004,\n",
       " 'gamma': 0.1,\n",
       " 'gpu_id': -1,\n",
       " 'importance_type': 'gain',\n",
       " 'interaction_constraints': '',\n",
       " 'learning_rate': 0.07500000000000001,\n",
       " 'max_delta_step': 0,\n",
       " 'max_depth': 115,\n",
       " 'min_child_weight': 1,\n",
       " 'missing': nan,\n",
       " 'monotone_constraints': '()',\n",
       " 'n_estimators': 95,\n",
       " 'n_jobs': 8,\n",
       " 'num_parallel_tree': 1,\n",
       " 'random_state': 6,\n",
       " 'reg_alpha': 0.25312500000000004,\n",
       " 'reg_lambda': 0.25312500000000004,\n",
       " 'scale_pos_weight': 1,\n",
       " 'subsample': 0.8987500000000003,\n",
       " 'tree_method': 'exact',\n",
       " 'validate_parameters': 1,\n",
       " 'verbosity': 0,\n",
       " 'min_weight_fraction_leaf': 0.1333333333333333,\n",
       " 'min_samples_split': 0.31640625,\n",
       " 'min_impurity_split': 0.2109375,\n",
       " 'min_impurity_decrease': 0.1333333333333333,\n",
       " 'loss': 'deviance',\n",
       " 'criterion': 'friedman_mse'}"
      ]
     },
     "execution_count": 339,
     "metadata": {},
     "output_type": "execute_result"
    }
   ],
   "source": [
    "xgbmbest1=xgbmbest.copy()\n",
    "for j in xgbmbest1:\n",
    " xgbmbest1[j]=[xgbmbest[j][0] if type(xgbmbest[j])==list else x for x in [xgbmbest[j]]][0]\n",
    "xgbmbest1"
   ]
  },
  {
   "cell_type": "code",
   "execution_count": 340,
   "id": "5dfcbfa3",
   "metadata": {},
   "outputs": [
    {
     "name": "stdout",
     "output_type": "stream",
     "text": [
      "[0]\ttrain-logloss:0.63446\tval-logloss:0.63440\n",
      "[10]\ttrain-logloss:0.32865\tval-logloss:0.32801\n",
      "[20]\ttrain-logloss:0.23027\tval-logloss:0.22961\n",
      "[30]\ttrain-logloss:0.19207\tval-logloss:0.19228\n",
      "[40]\ttrain-logloss:0.17905\tval-logloss:0.17965\n",
      "[50]\ttrain-logloss:0.16620\tval-logloss:0.16824\n",
      "[60]\ttrain-logloss:0.16089\tval-logloss:0.16379\n",
      "[70]\ttrain-logloss:0.15617\tval-logloss:0.16015\n",
      "[79]\ttrain-logloss:0.15374\tval-logloss:0.15849\n",
      "Modeling logloss 0.15849\n"
     ]
    }
   ],
   "source": [
    " dtrain = xgb.DMatrix(train_x, label=train_y)\n",
    "dval = xgb.DMatrix(val_x, label=val_y)\n",
    "watchlist = [(dtrain, 'train'), (dval, 'val')]\n",
    "xgbmodel = xgb.train(dtrain=dtrain,num_boost_round=10000,evals=watchlist, early_stopping_rounds=earlystopping,\n",
    "      maximize=False, verbose_eval=10 ,params=xgbmbest1)\n",
    "xbgmpredict={'ntree_limit':xgbmodel.best_ntree_limit}\n",
    "print('Modeling logloss %.5f' % xgbmodel.best_score)"
   ]
  },
  {
   "cell_type": "code",
   "execution_count": 341,
   "id": "e080b8c0",
   "metadata": {},
   "outputs": [
    {
     "data": {
      "text/plain": [
       "[0.8519935802207129, 0.8415614388794567, 0.8653783449979415]"
      ]
     },
     "execution_count": 341,
     "metadata": {},
     "output_type": "execute_result"
    }
   ],
   "source": [
    "xgbmmodel = xgbc(**xgbmbest1)\n",
    "xgbmmodel.fit(train_x,train_y)\n",
    "pred=xgbmmodel.predict_proba(val_x,**xbgmpredict)\n",
    "predtr=xgbmmodel.predict_proba(train_x,**xbgmpredict)\n",
    "predt=xgbmmodel.predict_proba(test_x,**xbgmpredict)\n",
    "[auc(test_y, predt[:,1]),auc(val_y, pred[:,1]),auc(train_y, predtr[:,1])]"
   ]
  },
  {
   "cell_type": "code",
   "execution_count": 342,
   "id": "57d8ff9b",
   "metadata": {},
   "outputs": [],
   "source": [
    "for j in xgbmbest:\n",
    "    xgbmbest[j]=[xgbmbest[j]]"
   ]
  },
  {
   "cell_type": "code",
   "execution_count": 343,
   "id": "15c05d19",
   "metadata": {},
   "outputs": [
    {
     "data": {
      "text/plain": [
       "gender           0.044221\n",
       "age              0.513074\n",
       "hypertension     0.124705\n",
       "heart_disease    0.182833\n",
       "work_type        0.135167\n",
       "dtype: float32"
      ]
     },
     "execution_count": 343,
     "metadata": {},
     "output_type": "execute_result"
    }
   ],
   "source": [
    "#feature importance against each variable\n",
    "pd.Series(xgbmmodel.feature_importances_, index=train_x.columns)"
   ]
  },
  {
   "cell_type": "raw",
   "id": "b04dc25c",
   "metadata": {},
   "source": [
    "age has the majority say but not absolute importance\n",
    "heart disease work type and hypertension also have significant contribution according to xgboost"
   ]
  },
  {
   "cell_type": "markdown",
   "id": "885c610a",
   "metadata": {},
   "source": [
    "## adaptive boosting"
   ]
  },
  {
   "cell_type": "code",
   "execution_count": 344,
   "id": "d206500e",
   "metadata": {},
   "outputs": [],
   "source": [
    "#Importing AdaBoost Classifier \n",
    "from sklearn.ensemble import AdaBoostClassifier as adac"
   ]
  },
  {
   "cell_type": "code",
   "execution_count": 345,
   "id": "86b54adf",
   "metadata": {},
   "outputs": [],
   "source": [
    "#xgbmdecstep steps the values of hyperparameter (which accepts float values) in kval\n",
    "adadecstep=5\n",
    "adadecbreaker=1*adadecstep"
   ]
  },
  {
   "cell_type": "code",
   "execution_count": 346,
   "id": "02ad4bf7",
   "metadata": {},
   "outputs": [],
   "source": [
    "for j in rfbest:\n",
    "    rfbest[j]=[rfbest[j][0] if type(rfbest[j])==list else x for x in [rfbest[j]]][0]"
   ]
  },
  {
   "cell_type": "code",
   "execution_count": 347,
   "id": "bc9ac8dd",
   "metadata": {},
   "outputs": [
    {
     "data": {
      "text/plain": [
       "{'criterion': 'gini',\n",
       " 'max_depth': 130,\n",
       " 'n_estimators': 130,\n",
       " 'min_samples_split': 0.022500000000000006,\n",
       " 'min_weight_fraction_leaf': 0.042000000000000016}"
      ]
     },
     "execution_count": 347,
     "metadata": {},
     "output_type": "execute_result"
    }
   ],
   "source": [
    "rfbest"
   ]
  },
  {
   "cell_type": "code",
   "execution_count": 348,
   "id": "039fd6ce",
   "metadata": {},
   "outputs": [],
   "source": [
    "adabase=dtc()"
   ]
  },
  {
   "cell_type": "code",
   "execution_count": 349,
   "id": "748b70f5",
   "metadata": {},
   "outputs": [],
   "source": [
    "ada=adac(random_state=r,base_estimator=adabase)"
   ]
  },
  {
   "cell_type": "code",
   "execution_count": 350,
   "id": "abb044e8",
   "metadata": {},
   "outputs": [],
   "source": [
    "adadict={\n",
    "    'n_estimators':kval(100,10,5),\n",
    "'learning_rate':kvall(0.1,(0.1-0.3)/adadecbreaker,adadecstep)}\n",
    "adabest=adadict.copy()"
   ]
  },
  {
   "cell_type": "code",
   "execution_count": 351,
   "id": "c029c3e5",
   "metadata": {},
   "outputs": [],
   "source": [
    "adamodel = rs(ada, adabest,random_state=r)\n",
    "adamodel.fit(train_x,train_y)\n",
    "adabest=adamodel.best_estimator_.get_params().copy()"
   ]
  },
  {
   "cell_type": "code",
   "execution_count": 352,
   "id": "f2f968b6",
   "metadata": {},
   "outputs": [],
   "source": [
    "adabest1={}\n",
    "for j in ['learning_rate','n_estimators']:\n",
    "    adabest1[j]=[adabest[j]]\n",
    "adabest=adabest1.copy()   "
   ]
  },
  {
   "cell_type": "code",
   "execution_count": 353,
   "id": "1b069fef",
   "metadata": {},
   "outputs": [
    {
     "data": {
      "text/plain": [
       "{'learning_rate': [0.0995], 'n_estimators': [50]}"
      ]
     },
     "execution_count": 353,
     "metadata": {},
     "output_type": "execute_result"
    }
   ],
   "source": [
    "adabest"
   ]
  },
  {
   "cell_type": "code",
   "execution_count": 354,
   "id": "c4d16d25",
   "metadata": {},
   "outputs": [
    {
     "data": {
      "text/plain": [
       "[0.8535852610356537, 0.832608234295416, 0.847850144092219]"
      ]
     },
     "execution_count": 354,
     "metadata": {},
     "output_type": "execute_result"
    }
   ],
   "source": [
    "adabest1=adabest.copy()\n",
    "for j in adabest1:\n",
    " adabest1[j]=[adabest1[j][0] if type(adabest1[j])==list else x for x in [adabest1[j]]][0]\n",
    "adamodel = adac(**adabest1)\n",
    "adamodel.fit(train_x,train_y)\n",
    "pred=adamodel.predict_proba(val_x)[:,1]\n",
    "predtr=adamodel.predict_proba(train_x)[:,1]\n",
    "predt=adamodel.predict_proba(test_x)[:,1]\n",
    "[auc(test_y, predt),auc(val_y, pred),auc(train_y, predtr)]"
   ]
  },
  {
   "cell_type": "raw",
   "id": "2c0a6bab",
   "metadata": {},
   "source": [
    "repeat next 6 steps"
   ]
  },
  {
   "cell_type": "code",
   "execution_count": 355,
   "id": "3604398d",
   "metadata": {},
   "outputs": [
    {
     "data": {
      "text/plain": [
       "[0.0399, 0.0548, 0.0697, 0.0846, 0.09949999999999999]"
      ]
     },
     "execution_count": 355,
     "metadata": {},
     "output_type": "execute_result"
    }
   ],
   "source": [
    "#learning rate between 0.03 and 1\n",
    "[x for x in kval([0.03 if x<0.03 else x for x in adabest['learning_rate']][0],([0.03 if x<0.03 else x for x in adabest['learning_rate']][0]-0.025)/adadecbreaker,adadecstep) if ((x>0.03) & (x<0.1))]"
   ]
  },
  {
   "cell_type": "code",
   "execution_count": 356,
   "id": "43ab703a",
   "metadata": {},
   "outputs": [],
   "source": [
    "adadict={\n",
    "'n_estimators':kval(adabest['n_estimators'][0],4,5),\n",
    "'learning_rate':[x for x in kval([0.03 if x<0.03 else x for x in adabest['learning_rate']][0],([0.03 if x<0.03 else x for x in adabest['learning_rate']][0]-0.025)/adadecbreaker,adadecstep) if ((x>0.03) & (x<0.1))]}"
   ]
  },
  {
   "cell_type": "code",
   "execution_count": 357,
   "id": "d770921c",
   "metadata": {},
   "outputs": [],
   "source": [
    "adabestgs=adabest.copy()"
   ]
  },
  {
   "cell_type": "raw",
   "id": "69ef74f7",
   "metadata": {},
   "source": [
    "decide wether you want to keep **adabestg1 in tree_para"
   ]
  },
  {
   "cell_type": "code",
   "execution_count": 358,
   "id": "1b31486f",
   "metadata": {},
   "outputs": [],
   "source": [
    "for j in adabestgs :\n",
    " adabest1=adabestgs.copy()\n",
    " adabest1.pop(j)\n",
    " tree_para ={j:adadict[j],**adabest1}\n",
    " adamodel = gs(ada, tree_para)\n",
    " adamodel.fit(train_x,train_y)\n",
    " adabest[j]=[adamodel.best_estimator_.get_params()[j]]"
   ]
  },
  {
   "cell_type": "code",
   "execution_count": 359,
   "id": "c95bd964",
   "metadata": {},
   "outputs": [
    {
     "data": {
      "text/plain": [
       "{'learning_rate': [0.0399], 'n_estimators': [30]}"
      ]
     },
     "execution_count": 359,
     "metadata": {},
     "output_type": "execute_result"
    }
   ],
   "source": [
    "adabest"
   ]
  },
  {
   "cell_type": "code",
   "execution_count": 360,
   "id": "f667531e",
   "metadata": {},
   "outputs": [
    {
     "data": {
      "text/plain": [
       "[0.8404936863327674, 0.8278729838709677, 0.8365384932070812]"
      ]
     },
     "execution_count": 360,
     "metadata": {},
     "output_type": "execute_result"
    }
   ],
   "source": [
    "adabest1=adabest.copy()\n",
    "for j in adabest1:\n",
    " adabest1[j]=adabest1[j][0]\n",
    "adamodel = adac(**adabest1)\n",
    "adamodel.fit(train_x,train_y)\n",
    "pred=adamodel.predict_proba(val_x)[:,1]\n",
    "predtr=adamodel.predict_proba(train_x)[:,1]\n",
    "predt=adamodel.predict_proba(test_x)[:,1]\n",
    "[auc(test_y, predt),auc(val_y, pred),auc(train_y, predtr)]"
   ]
  },
  {
   "cell_type": "code",
   "execution_count": 361,
   "id": "1310f7d9",
   "metadata": {},
   "outputs": [
    {
     "data": {
      "text/plain": [
       "gender           0.0\n",
       "age              1.0\n",
       "hypertension     0.0\n",
       "heart_disease    0.0\n",
       "work_type        0.0\n",
       "dtype: float64"
      ]
     },
     "execution_count": 361,
     "metadata": {},
     "output_type": "execute_result"
    }
   ],
   "source": [
    "#feature importance against each variable\n",
    "pd.Series(adamodel.feature_importances_, index=train_x.columns)"
   ]
  },
  {
   "cell_type": "raw",
   "id": "e39ec532",
   "metadata": {},
   "source": [
    "like gbm adaboost puts absolute importance on age,adaboost also puts absolute emphasis on it"
   ]
  },
  {
   "cell_type": "markdown",
   "id": "11dd1fbe",
   "metadata": {},
   "source": [
    "## Ensembling"
   ]
  },
  {
   "cell_type": "raw",
   "id": "48ca8837",
   "metadata": {},
   "source": [
    "we will try some ensembling where m2 will be our xgbm model and m1 will be adaboost model"
   ]
  },
  {
   "cell_type": "code",
   "execution_count": 362,
   "id": "771afc60",
   "metadata": {},
   "outputs": [],
   "source": [
    "m_main=xgbmmodel\n",
    "m1=adamodel\n",
    "m2=gbmmodel"
   ]
  },
  {
   "cell_type": "code",
   "execution_count": 363,
   "id": "318ee131",
   "metadata": {},
   "outputs": [
    {
     "data": {
      "text/plain": [
       "(0.8329066744482173, 0.837648556876061)"
      ]
     },
     "execution_count": 363,
     "metadata": {},
     "output_type": "execute_result"
    }
   ],
   "source": [
    "\n",
    "m2.fit(train_x,train_y)\n",
    "preddt=m2.predict_proba(val_x)[:,1]\n",
    "preddttest=m2.predict_proba(test_x)[:,1]\n",
    "evdt=auc(val_y, preddt)\n",
    "evdttest=auc(test_y, preddttest)\n",
    "evdt,evdttest"
   ]
  },
  {
   "cell_type": "code",
   "execution_count": 364,
   "id": "c4c7e510",
   "metadata": {},
   "outputs": [
    {
     "data": {
      "text/plain": [
       "(0.8278729838709677, 0.8404936863327674)"
      ]
     },
     "execution_count": 364,
     "metadata": {},
     "output_type": "execute_result"
    }
   ],
   "source": [
    "m1.fit(train_x,train_y)\n",
    "pred=m1.predict_proba(val_x)[:,1]\n",
    "predtest=m1.predict_proba(test_x)[:,1]\n",
    "ev=auc(val_y, pred)\n",
    "evtest=auc(test_y, predtest)\n",
    "ev,evtest"
   ]
  },
  {
   "cell_type": "markdown",
   "id": "1ba446f3",
   "metadata": {},
   "source": [
    "### blending"
   ]
  },
  {
   "cell_type": "raw",
   "id": "6f212973",
   "metadata": {},
   "source": [
    "backward feature elimination on blending"
   ]
  },
  {
   "cell_type": "code",
   "execution_count": 365,
   "id": "acf0bcf5",
   "metadata": {},
   "outputs": [
    {
     "data": {
      "text/html": [
       "<div>\n",
       "<style scoped>\n",
       "    .dataframe tbody tr th:only-of-type {\n",
       "        vertical-align: middle;\n",
       "    }\n",
       "\n",
       "    .dataframe tbody tr th {\n",
       "        vertical-align: top;\n",
       "    }\n",
       "\n",
       "    .dataframe thead th {\n",
       "        text-align: right;\n",
       "    }\n",
       "</style>\n",
       "<table border=\"1\" class=\"dataframe\">\n",
       "  <thead>\n",
       "    <tr style=\"text-align: right;\">\n",
       "      <th></th>\n",
       "      <th>gender</th>\n",
       "      <th>age</th>\n",
       "      <th>hypertension</th>\n",
       "      <th>heart_disease</th>\n",
       "      <th>work_type</th>\n",
       "      <th>m1</th>\n",
       "      <th>m2</th>\n",
       "    </tr>\n",
       "  </thead>\n",
       "  <tbody>\n",
       "    <tr>\n",
       "      <th>1013</th>\n",
       "      <td>0.0</td>\n",
       "      <td>0.938965</td>\n",
       "      <td>1.0</td>\n",
       "      <td>0.0</td>\n",
       "      <td>0.75</td>\n",
       "      <td>0.258215</td>\n",
       "      <td>0.136378</td>\n",
       "    </tr>\n",
       "    <tr>\n",
       "      <th>498</th>\n",
       "      <td>0.0</td>\n",
       "      <td>0.182129</td>\n",
       "      <td>0.0</td>\n",
       "      <td>0.0</td>\n",
       "      <td>1.00</td>\n",
       "      <td>0.002020</td>\n",
       "      <td>0.007286</td>\n",
       "    </tr>\n",
       "    <tr>\n",
       "      <th>770</th>\n",
       "      <td>0.5</td>\n",
       "      <td>0.243164</td>\n",
       "      <td>0.0</td>\n",
       "      <td>0.0</td>\n",
       "      <td>0.50</td>\n",
       "      <td>0.002020</td>\n",
       "      <td>0.007310</td>\n",
       "    </tr>\n",
       "    <tr>\n",
       "      <th>3941</th>\n",
       "      <td>0.0</td>\n",
       "      <td>0.389648</td>\n",
       "      <td>0.0</td>\n",
       "      <td>0.0</td>\n",
       "      <td>0.50</td>\n",
       "      <td>0.002020</td>\n",
       "      <td>0.007310</td>\n",
       "    </tr>\n",
       "    <tr>\n",
       "      <th>4144</th>\n",
       "      <td>0.5</td>\n",
       "      <td>0.658203</td>\n",
       "      <td>0.0</td>\n",
       "      <td>0.0</td>\n",
       "      <td>0.75</td>\n",
       "      <td>0.188865</td>\n",
       "      <td>0.052162</td>\n",
       "    </tr>\n",
       "  </tbody>\n",
       "</table>\n",
       "</div>"
      ],
      "text/plain": [
       "      gender       age  hypertension  heart_disease  work_type        m1  \\\n",
       "1013     0.0  0.938965           1.0            0.0       0.75  0.258215   \n",
       "498      0.0  0.182129           0.0            0.0       1.00  0.002020   \n",
       "770      0.5  0.243164           0.0            0.0       0.50  0.002020   \n",
       "3941     0.0  0.389648           0.0            0.0       0.50  0.002020   \n",
       "4144     0.5  0.658203           0.0            0.0       0.75  0.188865   \n",
       "\n",
       "            m2  \n",
       "1013  0.136378  \n",
       "498   0.007286  \n",
       "770   0.007310  \n",
       "3941  0.007310  \n",
       "4144  0.052162  "
      ]
     },
     "execution_count": 365,
     "metadata": {},
     "output_type": "execute_result"
    }
   ],
   "source": [
    "valx=val_x.copy()\n",
    "valx['m1']=pred\n",
    "valx['m2']=preddt\n",
    "valx.head()"
   ]
  },
  {
   "cell_type": "code",
   "execution_count": 366,
   "id": "3c2ff81a",
   "metadata": {},
   "outputs": [
    {
     "data": {
      "text/plain": [
       "(0.8262955948950186, 0.837648556876061)"
      ]
     },
     "execution_count": 366,
     "metadata": {},
     "output_type": "execute_result"
    }
   ],
   "source": [
    "\n",
    "m2.fit(val_x,val_y)\n",
    "preddttr=m2.predict_proba(train_x)[:,1]\n",
    "m2.fit(train_x,train_y)\n",
    "preddtt=m2.predict_proba(test_x)[:,1]\n",
    "evdttr=auc(train_y, preddttr)\n",
    "evdtt=auc(test_y, preddtt)\n",
    "evdttr,evdtt"
   ]
  },
  {
   "cell_type": "code",
   "execution_count": 367,
   "id": "a39cb249",
   "metadata": {},
   "outputs": [
    {
     "data": {
      "text/plain": [
       "(0.8253207081103335, 0.8404936863327674)"
      ]
     },
     "execution_count": 367,
     "metadata": {},
     "output_type": "execute_result"
    }
   ],
   "source": [
    "m1.fit(val_x,val_y)\n",
    "predtr=m1.predict_proba(train_x)[:,1]\n",
    "m1.fit(train_x,train_y)\n",
    "predt=m1.predict_proba(test_x)[:,1]\n",
    "evtr=auc(train_y, predtr)\n",
    "evt=auc(test_y, predt)\n",
    "evtr,evt"
   ]
  },
  {
   "cell_type": "code",
   "execution_count": 368,
   "id": "caf79e72",
   "metadata": {},
   "outputs": [
    {
     "data": {
      "text/html": [
       "<div>\n",
       "<style scoped>\n",
       "    .dataframe tbody tr th:only-of-type {\n",
       "        vertical-align: middle;\n",
       "    }\n",
       "\n",
       "    .dataframe tbody tr th {\n",
       "        vertical-align: top;\n",
       "    }\n",
       "\n",
       "    .dataframe thead th {\n",
       "        text-align: right;\n",
       "    }\n",
       "</style>\n",
       "<table border=\"1\" class=\"dataframe\">\n",
       "  <thead>\n",
       "    <tr style=\"text-align: right;\">\n",
       "      <th></th>\n",
       "      <th>gender</th>\n",
       "      <th>age</th>\n",
       "      <th>hypertension</th>\n",
       "      <th>heart_disease</th>\n",
       "      <th>work_type</th>\n",
       "      <th>m1</th>\n",
       "      <th>m2</th>\n",
       "    </tr>\n",
       "  </thead>\n",
       "  <tbody>\n",
       "    <tr>\n",
       "      <th>3463</th>\n",
       "      <td>0.5</td>\n",
       "      <td>0.414062</td>\n",
       "      <td>0.0</td>\n",
       "      <td>0.0</td>\n",
       "      <td>0.50</td>\n",
       "      <td>0.003097</td>\n",
       "      <td>0.010928</td>\n",
       "    </tr>\n",
       "    <tr>\n",
       "      <th>404</th>\n",
       "      <td>0.0</td>\n",
       "      <td>0.743652</td>\n",
       "      <td>0.0</td>\n",
       "      <td>0.0</td>\n",
       "      <td>0.75</td>\n",
       "      <td>0.155981</td>\n",
       "      <td>0.056894</td>\n",
       "    </tr>\n",
       "    <tr>\n",
       "      <th>1680</th>\n",
       "      <td>0.5</td>\n",
       "      <td>0.450684</td>\n",
       "      <td>0.0</td>\n",
       "      <td>0.0</td>\n",
       "      <td>0.50</td>\n",
       "      <td>0.003097</td>\n",
       "      <td>0.010928</td>\n",
       "    </tr>\n",
       "    <tr>\n",
       "      <th>2102</th>\n",
       "      <td>0.5</td>\n",
       "      <td>0.951172</td>\n",
       "      <td>1.0</td>\n",
       "      <td>1.0</td>\n",
       "      <td>0.75</td>\n",
       "      <td>0.285291</td>\n",
       "      <td>0.176639</td>\n",
       "    </tr>\n",
       "    <tr>\n",
       "      <th>4269</th>\n",
       "      <td>0.5</td>\n",
       "      <td>0.377441</td>\n",
       "      <td>0.0</td>\n",
       "      <td>0.0</td>\n",
       "      <td>0.50</td>\n",
       "      <td>0.003097</td>\n",
       "      <td>0.010928</td>\n",
       "    </tr>\n",
       "  </tbody>\n",
       "</table>\n",
       "</div>"
      ],
      "text/plain": [
       "      gender       age  hypertension  heart_disease  work_type        m1  \\\n",
       "3463     0.5  0.414062           0.0            0.0       0.50  0.003097   \n",
       "404      0.0  0.743652           0.0            0.0       0.75  0.155981   \n",
       "1680     0.5  0.450684           0.0            0.0       0.50  0.003097   \n",
       "2102     0.5  0.951172           1.0            1.0       0.75  0.285291   \n",
       "4269     0.5  0.377441           0.0            0.0       0.50  0.003097   \n",
       "\n",
       "            m2  \n",
       "3463  0.010928  \n",
       "404   0.056894  \n",
       "1680  0.010928  \n",
       "2102  0.176639  \n",
       "4269  0.010928  "
      ]
     },
     "execution_count": 368,
     "metadata": {},
     "output_type": "execute_result"
    }
   ],
   "source": [
    "trainx=train_x.copy()\n",
    "trainx['m1']=predtr\n",
    "trainx['m2']=preddttr\n",
    "trainx.head()"
   ]
  },
  {
   "cell_type": "code",
   "execution_count": 369,
   "id": "a58af347",
   "metadata": {},
   "outputs": [
    {
     "data": {
      "text/html": [
       "<div>\n",
       "<style scoped>\n",
       "    .dataframe tbody tr th:only-of-type {\n",
       "        vertical-align: middle;\n",
       "    }\n",
       "\n",
       "    .dataframe tbody tr th {\n",
       "        vertical-align: top;\n",
       "    }\n",
       "\n",
       "    .dataframe thead th {\n",
       "        text-align: right;\n",
       "    }\n",
       "</style>\n",
       "<table border=\"1\" class=\"dataframe\">\n",
       "  <thead>\n",
       "    <tr style=\"text-align: right;\">\n",
       "      <th></th>\n",
       "      <th>gender</th>\n",
       "      <th>age</th>\n",
       "      <th>hypertension</th>\n",
       "      <th>heart_disease</th>\n",
       "      <th>work_type</th>\n",
       "      <th>m1</th>\n",
       "      <th>m2</th>\n",
       "    </tr>\n",
       "  </thead>\n",
       "  <tbody>\n",
       "    <tr>\n",
       "      <th>673</th>\n",
       "      <td>0.0</td>\n",
       "      <td>0.707031</td>\n",
       "      <td>0.0</td>\n",
       "      <td>0.0</td>\n",
       "      <td>0.0</td>\n",
       "      <td>0.188865</td>\n",
       "      <td>0.076678</td>\n",
       "    </tr>\n",
       "    <tr>\n",
       "      <th>4351</th>\n",
       "      <td>0.0</td>\n",
       "      <td>0.475098</td>\n",
       "      <td>0.0</td>\n",
       "      <td>0.0</td>\n",
       "      <td>0.5</td>\n",
       "      <td>0.063289</td>\n",
       "      <td>0.009963</td>\n",
       "    </tr>\n",
       "    <tr>\n",
       "      <th>2891</th>\n",
       "      <td>0.5</td>\n",
       "      <td>0.877930</td>\n",
       "      <td>0.0</td>\n",
       "      <td>1.0</td>\n",
       "      <td>0.5</td>\n",
       "      <td>0.248851</td>\n",
       "      <td>0.180881</td>\n",
       "    </tr>\n",
       "    <tr>\n",
       "      <th>479</th>\n",
       "      <td>0.5</td>\n",
       "      <td>0.658203</td>\n",
       "      <td>1.0</td>\n",
       "      <td>0.0</td>\n",
       "      <td>0.5</td>\n",
       "      <td>0.188865</td>\n",
       "      <td>0.066449</td>\n",
       "    </tr>\n",
       "    <tr>\n",
       "      <th>2623</th>\n",
       "      <td>0.0</td>\n",
       "      <td>0.792480</td>\n",
       "      <td>0.0</td>\n",
       "      <td>0.0</td>\n",
       "      <td>0.5</td>\n",
       "      <td>0.188865</td>\n",
       "      <td>0.082390</td>\n",
       "    </tr>\n",
       "  </tbody>\n",
       "</table>\n",
       "</div>"
      ],
      "text/plain": [
       "      gender       age  hypertension  heart_disease  work_type        m1  \\\n",
       "673      0.0  0.707031           0.0            0.0        0.0  0.188865   \n",
       "4351     0.0  0.475098           0.0            0.0        0.5  0.063289   \n",
       "2891     0.5  0.877930           0.0            1.0        0.5  0.248851   \n",
       "479      0.5  0.658203           1.0            0.0        0.5  0.188865   \n",
       "2623     0.0  0.792480           0.0            0.0        0.5  0.188865   \n",
       "\n",
       "            m2  \n",
       "673   0.076678  \n",
       "4351  0.009963  \n",
       "2891  0.180881  \n",
       "479   0.066449  \n",
       "2623  0.082390  "
      ]
     },
     "execution_count": 369,
     "metadata": {},
     "output_type": "execute_result"
    }
   ],
   "source": [
    "testx=test_x.copy()\n",
    "testx['m1']=predt\n",
    "testx['m2']=preddtt\n",
    "testx.head()"
   ]
  },
  {
   "cell_type": "markdown",
   "id": "0f377b72",
   "metadata": {},
   "source": [
    "### backward feature elimination on blending"
   ]
  },
  {
   "cell_type": "code",
   "execution_count": 370,
   "id": "0ab99cf6",
   "metadata": {},
   "outputs": [],
   "source": [
    "valxtrx,valxtx,valxtry,valxty = train_test_split(valx,val_y,test_size=1/4,random_state= r,stratify=val_y).copy()"
   ]
  },
  {
   "cell_type": "code",
   "execution_count": 371,
   "id": "e0996aca",
   "metadata": {},
   "outputs": [],
   "source": [
    "from mlxtend.feature_selection import SequentialFeatureSelector as sfs\n",
    "from sklearn.metrics import make_scorer\n",
    "def backfeat(nfeat):\n",
    " sfs1 = sfs(model, k_features=nfeat, forward=False)\n",
    " sfs0 = sfs1.fit(valxtrx, valxtry)\n",
    " featlist = list(sfs0.k_feature_names_)\n",
    " featlist\n",
    " \n",
    " return featlist"
   ]
  },
  {
   "cell_type": "code",
   "execution_count": 372,
   "id": "e10e9747",
   "metadata": {},
   "outputs": [],
   "source": [
    "#LARGE EXECUTION TIME ESPECIALLY TO REDUCE TO SMALLER NO OF COLUMNS\n",
    "#increase step to divide code execution on the next block\n",
    "backcollist,backfeatlist=[[],[]]\n",
    "step=1\n",
    "for i in range(4,(len(valx.columns.tolist())),step):\n",
    "   backfeatlist.append(backfeat(i))\n",
    "   backcollist.append(i)"
   ]
  },
  {
   "cell_type": "code",
   "execution_count": 373,
   "id": "5e99d47f",
   "metadata": {},
   "outputs": [
    {
     "data": {
      "text/plain": [
       "[['gender', 'age', 'hypertension', 'heart_disease'],\n",
       " ['gender', 'age', 'hypertension', 'heart_disease', 'work_type'],\n",
       " ['gender', 'age', 'hypertension', 'heart_disease', 'work_type', 'm1']]"
      ]
     },
     "execution_count": 373,
     "metadata": {},
     "output_type": "execute_result"
    }
   ],
   "source": [
    "backfeatlist"
   ]
  },
  {
   "cell_type": "code",
   "execution_count": 374,
   "id": "cb5c003e",
   "metadata": {},
   "outputs": [],
   "source": [
    "\n",
    " topfeatlist=[]\n",
    " topfeatscorelist=[]\n",
    " score=0\n",
    " max_=0\n",
    " for j in backcollist:\n",
    "  valx1=valx[backfeatlist[backcollist.index(j)]].copy()\n",
    "  trx,vlx,trry,vly = train_test_split(valx1,val_y,test_size=1/4,random_state= r,stratify=val_y).copy()\n",
    "    \n",
    "  model.fit(trx,trry)\n",
    "  pred= model.predict_proba(vlx).copy()\n",
    "  score=auc(vly,pred[:,1])\n",
    "  if(score>max_):\n",
    "    max_=score\n",
    "    topn_feat=j\n",
    " topfeatlist.append(topn_feat)\n",
    " topfeatscorelist.append(max_) "
   ]
  },
  {
   "cell_type": "code",
   "execution_count": 375,
   "id": "44a3515c",
   "metadata": {},
   "outputs": [],
   "source": [
    "#LARGE EXECUTION TIME ESPECIALLY TO REDUCE TO SMALLER NO OF COLUMNS\n",
    "backcollist,backfeatlist=[[],[]]\n",
    "if (topn_feat+step)>len(valx.columns):\n",
    " upperlimit=len(valx.columns)\n",
    "else:\n",
    " upperlimit=(topn_feat+step)\n",
    "for i in range((topn_feat-step+1),upperlimit):\n",
    "    backfeatlist.append(backfeat(i))\n",
    "    backcollist.append(i)"
   ]
  },
  {
   "cell_type": "code",
   "execution_count": 376,
   "id": "6e724182",
   "metadata": {},
   "outputs": [],
   "source": [
    "\n",
    " topfeatlist=[]\n",
    " topfeatscorelist=[]\n",
    " score=0\n",
    " max_=0\n",
    " for j in backcollist:\n",
    "  valx1=valx[backfeatlist[backcollist.index(j)]].copy()\n",
    "  trx,vlx,trry,vly = train_test_split(valx1,val_y,test_size=1/4,random_state= r,stratify=val_y).copy()\n",
    " \n",
    "  model.fit(trx,trry)\n",
    "  pred= model.predict_proba(vlx).copy()\n",
    "  score=auc(vly,pred[:,1])\n",
    "  if(score>max_):\n",
    "    max_=score\n",
    "    topn_feat_back=j\n",
    " topfeatlist.append(topn_feat_back)\n",
    " topfeatscorelist.append(max_)  "
   ]
  },
  {
   "cell_type": "code",
   "execution_count": 377,
   "id": "53db4334",
   "metadata": {},
   "outputs": [
    {
     "data": {
      "text/plain": [
       "([4], [0.8614309210526316])"
      ]
     },
     "execution_count": 377,
     "metadata": {},
     "output_type": "execute_result"
    }
   ],
   "source": [
    "topfeatlist,topfeatscorelist"
   ]
  },
  {
   "cell_type": "code",
   "execution_count": 378,
   "id": "c983876e",
   "metadata": {},
   "outputs": [
    {
     "data": {
      "text/plain": [
       "4"
      ]
     },
     "execution_count": 378,
     "metadata": {},
     "output_type": "execute_result"
    }
   ],
   "source": [
    "backfeatcol=(topfeatlist[0])\n",
    "backfeatcol"
   ]
  },
  {
   "cell_type": "raw",
   "id": "c139a725",
   "metadata": {},
   "source": [
    "please note according to backward feature elimination we should not add m1 and m2 rows to our dataframe as it will not enhance the model so we will not add them so the net result of applying blending is zero but our aim was to see if we could use blending to our advantage or not"
   ]
  },
  {
   "cell_type": "code",
   "execution_count": 379,
   "id": "490cf554",
   "metadata": {},
   "outputs": [
    {
     "data": {
      "text/plain": [
       "['gender', 'age', 'hypertension', 'heart_disease']"
      ]
     },
     "execution_count": 379,
     "metadata": {},
     "output_type": "execute_result"
    }
   ],
   "source": [
    "backfeatcols=backfeatlist[backcollist.index(topn_feat_back)]\n",
    "backfeatcols"
   ]
  },
  {
   "cell_type": "code",
   "execution_count": 380,
   "id": "807b681e",
   "metadata": {},
   "outputs": [
    {
     "data": {
      "text/plain": [
       "0.8426490874363328"
      ]
     },
     "execution_count": 380,
     "metadata": {},
     "output_type": "execute_result"
    }
   ],
   "source": [
    "m_main.fit(vlx[backfeatcols],vly)\n",
    "blendpred1=model.predict_proba(testx[backfeatcols])[:,1]\n",
    "evblend1=auc(test_y,blendpred1)\n",
    "evblend1"
   ]
  },
  {
   "cell_type": "code",
   "execution_count": null,
   "id": "c8871e4d",
   "metadata": {},
   "outputs": [],
   "source": []
  },
  {
   "cell_type": "code",
   "execution_count": 381,
   "id": "7ebe5949",
   "metadata": {},
   "outputs": [],
   "source": [
    "x=pd.concat([trainx,valx,testx],ignore_index=True).copy()"
   ]
  },
  {
   "cell_type": "code",
   "execution_count": 389,
   "id": "d4dfaa9b",
   "metadata": {},
   "outputs": [
    {
     "data": {
      "text/html": [
       "<div>\n",
       "<style scoped>\n",
       "    .dataframe tbody tr th:only-of-type {\n",
       "        vertical-align: middle;\n",
       "    }\n",
       "\n",
       "    .dataframe tbody tr th {\n",
       "        vertical-align: top;\n",
       "    }\n",
       "\n",
       "    .dataframe thead th {\n",
       "        text-align: right;\n",
       "    }\n",
       "</style>\n",
       "<table border=\"1\" class=\"dataframe\">\n",
       "  <thead>\n",
       "    <tr style=\"text-align: right;\">\n",
       "      <th></th>\n",
       "      <th>gender</th>\n",
       "      <th>age</th>\n",
       "      <th>hypertension</th>\n",
       "      <th>heart_disease</th>\n",
       "    </tr>\n",
       "  </thead>\n",
       "  <tbody>\n",
       "    <tr>\n",
       "      <th>0</th>\n",
       "      <td>0.5</td>\n",
       "      <td>0.414062</td>\n",
       "      <td>0.0</td>\n",
       "      <td>0.0</td>\n",
       "    </tr>\n",
       "    <tr>\n",
       "      <th>1</th>\n",
       "      <td>0.0</td>\n",
       "      <td>0.743652</td>\n",
       "      <td>0.0</td>\n",
       "      <td>0.0</td>\n",
       "    </tr>\n",
       "    <tr>\n",
       "      <th>2</th>\n",
       "      <td>0.5</td>\n",
       "      <td>0.450684</td>\n",
       "      <td>0.0</td>\n",
       "      <td>0.0</td>\n",
       "    </tr>\n",
       "    <tr>\n",
       "      <th>3</th>\n",
       "      <td>0.5</td>\n",
       "      <td>0.951172</td>\n",
       "      <td>1.0</td>\n",
       "      <td>1.0</td>\n",
       "    </tr>\n",
       "    <tr>\n",
       "      <th>4</th>\n",
       "      <td>0.5</td>\n",
       "      <td>0.377441</td>\n",
       "      <td>0.0</td>\n",
       "      <td>0.0</td>\n",
       "    </tr>\n",
       "  </tbody>\n",
       "</table>\n",
       "</div>"
      ],
      "text/plain": [
       "   gender       age  hypertension  heart_disease\n",
       "0     0.5  0.414062           0.0            0.0\n",
       "1     0.0  0.743652           0.0            0.0\n",
       "2     0.5  0.450684           0.0            0.0\n",
       "3     0.5  0.951172           1.0            1.0\n",
       "4     0.5  0.377441           0.0            0.0"
      ]
     },
     "execution_count": 389,
     "metadata": {},
     "output_type": "execute_result"
    }
   ],
   "source": [
    "x.head()"
   ]
  },
  {
   "cell_type": "code",
   "execution_count": 383,
   "id": "caa740e6",
   "metadata": {},
   "outputs": [],
   "source": [
    "y=pd.concat([train_y,val_y,test_y],ignore_index=True).copy()"
   ]
  },
  {
   "cell_type": "code",
   "execution_count": 384,
   "id": "34fc458f",
   "metadata": {},
   "outputs": [
    {
     "data": {
      "text/plain": [
       "0    0\n",
       "1    0\n",
       "2    0\n",
       "3    0\n",
       "4    0\n",
       "Name: stroke, dtype: int64"
      ]
     },
     "execution_count": 384,
     "metadata": {},
     "output_type": "execute_result"
    }
   ],
   "source": [
    "y.head()"
   ]
  },
  {
   "cell_type": "code",
   "execution_count": 385,
   "id": "d9b8dcba",
   "metadata": {},
   "outputs": [],
   "source": [
    "x=x[backfeatcols].copy()"
   ]
  },
  {
   "cell_type": "code",
   "execution_count": 386,
   "id": "9cbc9c2e",
   "metadata": {},
   "outputs": [],
   "source": [
    "train_x,test_x,train_y,test_y = train_test_split(x,y,test_size=1/4,random_state= r,stratify=y).copy()\n",
    "train_x,val_x,train_y,val_y= train_test_split(train_x, train_y, test_size=1/3,random_state=r,stratify=train_y).copy()"
   ]
  },
  {
   "cell_type": "code",
   "execution_count": null,
   "id": "59fabe40",
   "metadata": {},
   "outputs": [],
   "source": []
  },
  {
   "cell_type": "code",
   "execution_count": 387,
   "id": "6d4728bf",
   "metadata": {},
   "outputs": [
    {
     "data": {
      "text/plain": [
       "0.8543612054329371"
      ]
     },
     "execution_count": 387,
     "metadata": {},
     "output_type": "execute_result"
    }
   ],
   "source": [
    "m_main.fit(train_x,train_y)\n",
    "blendpred1=m_main.predict_proba(val_x)[:,1]\n",
    "evblend1=auc(val_y,blendpred1)\n",
    "evblend1"
   ]
  },
  {
   "cell_type": "code",
   "execution_count": 388,
   "id": "9aa04c5c",
   "metadata": {},
   "outputs": [
    {
     "data": {
      "text/plain": [
       "0.8324822262308998"
      ]
     },
     "execution_count": 388,
     "metadata": {},
     "output_type": "execute_result"
    }
   ],
   "source": [
    "m_main.fit(train_x,train_y)\n",
    "blendpredt=m_main.predict_proba(test_x)[:,1]\n",
    "evtest=auc(test_y,blendpredt)\n",
    "evtest"
   ]
  }
 ],
 "metadata": {
  "kernelspec": {
   "display_name": "Python 3 (ipykernel)",
   "language": "python",
   "name": "python3"
  },
  "language_info": {
   "codemirror_mode": {
    "name": "ipython",
    "version": 3
   },
   "file_extension": ".py",
   "mimetype": "text/x-python",
   "name": "python",
   "nbconvert_exporter": "python",
   "pygments_lexer": "ipython3",
   "version": "3.8.5"
  }
 },
 "nbformat": 4,
 "nbformat_minor": 5
}
