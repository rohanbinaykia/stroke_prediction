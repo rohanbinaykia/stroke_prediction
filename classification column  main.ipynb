{
 "cells": [
  {
   "cell_type": "markdown",
   "metadata": {},
   "source": [
    "# LOGISTIC REGRESSION"
   ]
  },
  {
   "cell_type": "markdown",
   "metadata": {},
   "source": [
    "### importing libraries"
   ]
  },
  {
   "cell_type": "code",
   "execution_count": 209,
   "metadata": {
    "colab": {},
    "colab_type": "code",
    "id": "eWchGPfa9xW9"
   },
   "outputs": [],
   "source": [
    "#importing libraries \n",
    "import pandas as pd \n",
    "import numpy as np\n",
    "import matplotlib.pyplot as plt\n",
    "import seaborn as sns\n",
    "%matplotlib inline\n",
    "import sklearn\n",
    "import math"
   ]
  },
  {
   "cell_type": "code",
   "execution_count": 210,
   "metadata": {},
   "outputs": [],
   "source": [
    "\n",
    "from sklearn.linear_model import Ridge\n",
    "from sklearn.metrics import f1_score as f1\n",
    "from sklearn.preprocessing import LabelEncoder\n",
    "from sklearn.preprocessing import MinMaxScaler\n",
    "from sklearn.linear_model import LogisticRegression as logreg\n",
    "from sklearn.linear_model import LinearRegression as linreg\n",
    "from sklearn.metrics import mean_squared_error as rmse\n",
    "\n",
    "from sklearn.model_selection import KFold, StratifiedKFold, train_test_split\n",
    "from sklearn.metrics import roc_auc_score ,roc_auc_score as auc, accuracy_score as acc, confusion_matrix, roc_curve, precision_score, recall_score, precision_recall_curve,average_precision_score,average_precision_score as aps,log_loss as ll\n",
    "\n",
    "from pandas.core.common import SettingWithCopyWarning\n",
    "from sklearn.exceptions import FitFailedWarning\n",
    "import warnings\n",
    "warnings.simplefilter(action='ignore', category=FitFailedWarning)\n",
    "warnings.simplefilter(action='ignore', category=FutureWarning)\n",
    "warnings.simplefilter(action='ignore', category=UserWarning)\n",
    "warnings.simplefilter(action='ignore', category=RuntimeWarning)\n",
    "warnings.simplefilter(action='ignore', category=SettingWithCopyWarning)"
   ]
  },
  {
   "cell_type": "code",
   "execution_count": 211,
   "metadata": {},
   "outputs": [],
   "source": [
    "from sklearn.metrics import make_scorer"
   ]
  },
  {
   "cell_type": "markdown",
   "metadata": {},
   "source": [
    "# random state"
   ]
  },
  {
   "cell_type": "code",
   "execution_count": 212,
   "metadata": {},
   "outputs": [],
   "source": [
    "r=6"
   ]
  },
  {
   "cell_type": "markdown",
   "metadata": {},
   "source": [
    "### importing data"
   ]
  },
  {
   "cell_type": "code",
   "execution_count": 213,
   "metadata": {},
   "outputs": [
    {
     "data": {
      "text/plain": [
       "'1.0.1'"
      ]
     },
     "execution_count": 213,
     "metadata": {},
     "output_type": "execute_result"
    }
   ],
   "source": [
    "sklearn.__version__"
   ]
  },
  {
   "cell_type": "code",
   "execution_count": 214,
   "metadata": {
    "colab": {
     "base_uri": "https://localhost:8080/",
     "height": 226
    },
    "colab_type": "code",
    "executionInfo": {
     "elapsed": 3051,
     "status": "ok",
     "timestamp": 1559907752330,
     "user": {
      "displayName": "Aishwarya Singh",
      "photoUrl": "https://lh5.googleusercontent.com/-72ZtNB76Qxg/AAAAAAAAAAI/AAAAAAAAAAc/Nsa5vQruND0/s64/photo.jpg",
      "userId": "01105858832371513140"
     },
     "user_tz": -330
    },
    "id": "NB5xYyHg9xXA",
    "outputId": "7eaac4d1-42cd-4178-96e1-e9ccabc75020",
    "scrolled": false
   },
   "outputs": [
    {
     "data": {
      "text/html": [
       "<div>\n",
       "<style scoped>\n",
       "    .dataframe tbody tr th:only-of-type {\n",
       "        vertical-align: middle;\n",
       "    }\n",
       "\n",
       "    .dataframe tbody tr th {\n",
       "        vertical-align: top;\n",
       "    }\n",
       "\n",
       "    .dataframe thead th {\n",
       "        text-align: right;\n",
       "    }\n",
       "</style>\n",
       "<table border=\"1\" class=\"dataframe\">\n",
       "  <thead>\n",
       "    <tr style=\"text-align: right;\">\n",
       "      <th></th>\n",
       "      <th>gender</th>\n",
       "      <th>age</th>\n",
       "      <th>hypertension</th>\n",
       "      <th>heart_disease</th>\n",
       "      <th>ever_married</th>\n",
       "      <th>work_type</th>\n",
       "      <th>Residence_type</th>\n",
       "      <th>avg_glucose_level</th>\n",
       "      <th>bmi</th>\n",
       "      <th>smoking_status</th>\n",
       "      <th>stroke</th>\n",
       "    </tr>\n",
       "  </thead>\n",
       "  <tbody>\n",
       "    <tr>\n",
       "      <th>0</th>\n",
       "      <td>1</td>\n",
       "      <td>67.0</td>\n",
       "      <td>0</td>\n",
       "      <td>1</td>\n",
       "      <td>1</td>\n",
       "      <td>2</td>\n",
       "      <td>1</td>\n",
       "      <td>228.69</td>\n",
       "      <td>36.600000</td>\n",
       "      <td>1</td>\n",
       "      <td>1</td>\n",
       "    </tr>\n",
       "    <tr>\n",
       "      <th>1</th>\n",
       "      <td>0</td>\n",
       "      <td>61.0</td>\n",
       "      <td>0</td>\n",
       "      <td>0</td>\n",
       "      <td>1</td>\n",
       "      <td>3</td>\n",
       "      <td>0</td>\n",
       "      <td>202.21</td>\n",
       "      <td>30.571525</td>\n",
       "      <td>2</td>\n",
       "      <td>1</td>\n",
       "    </tr>\n",
       "    <tr>\n",
       "      <th>2</th>\n",
       "      <td>1</td>\n",
       "      <td>80.0</td>\n",
       "      <td>0</td>\n",
       "      <td>1</td>\n",
       "      <td>1</td>\n",
       "      <td>2</td>\n",
       "      <td>0</td>\n",
       "      <td>105.92</td>\n",
       "      <td>32.500000</td>\n",
       "      <td>2</td>\n",
       "      <td>1</td>\n",
       "    </tr>\n",
       "    <tr>\n",
       "      <th>3</th>\n",
       "      <td>0</td>\n",
       "      <td>49.0</td>\n",
       "      <td>0</td>\n",
       "      <td>0</td>\n",
       "      <td>1</td>\n",
       "      <td>2</td>\n",
       "      <td>1</td>\n",
       "      <td>171.23</td>\n",
       "      <td>34.400000</td>\n",
       "      <td>3</td>\n",
       "      <td>1</td>\n",
       "    </tr>\n",
       "    <tr>\n",
       "      <th>4</th>\n",
       "      <td>0</td>\n",
       "      <td>79.0</td>\n",
       "      <td>1</td>\n",
       "      <td>0</td>\n",
       "      <td>1</td>\n",
       "      <td>3</td>\n",
       "      <td>0</td>\n",
       "      <td>174.12</td>\n",
       "      <td>24.000000</td>\n",
       "      <td>2</td>\n",
       "      <td>1</td>\n",
       "    </tr>\n",
       "  </tbody>\n",
       "</table>\n",
       "</div>"
      ],
      "text/plain": [
       "   gender   age  hypertension  heart_disease  ever_married  work_type  \\\n",
       "0       1  67.0             0              1             1          2   \n",
       "1       0  61.0             0              0             1          3   \n",
       "2       1  80.0             0              1             1          2   \n",
       "3       0  49.0             0              0             1          2   \n",
       "4       0  79.0             1              0             1          3   \n",
       "\n",
       "   Residence_type  avg_glucose_level        bmi  smoking_status  stroke  \n",
       "0               1             228.69  36.600000               1       1  \n",
       "1               0             202.21  30.571525               2       1  \n",
       "2               0             105.92  32.500000               2       1  \n",
       "3               1             171.23  34.400000               3       1  \n",
       "4               0             174.12  24.000000               2       1  "
      ]
     },
     "execution_count": 214,
     "metadata": {},
     "output_type": "execute_result"
    }
   ],
   "source": [
    "data = pd.read_csv('FILTERED[csv].csv')\n",
    "data.head()"
   ]
  },
  {
   "cell_type": "code",
   "execution_count": 215,
   "metadata": {},
   "outputs": [],
   "source": [
    "data=(data[[z for z in data.columns.tolist() if z not in ['Unnamed: 0']]]).copy()"
   ]
  },
  {
   "cell_type": "code",
   "execution_count": 216,
   "metadata": {},
   "outputs": [],
   "source": [
    "target='stroke'   \n",
    "makescorer=make_scorer(auc, greater_is_better=True, needs_proba=True, needs_threshold=False)\n",
    "model= logreg()\n",
    "lr=linreg()\n",
    "scaler = MinMaxScaler()"
   ]
  },
  {
   "cell_type": "code",
   "execution_count": 217,
   "metadata": {},
   "outputs": [
    {
     "data": {
      "text/plain": [
       "(5110, 11)"
      ]
     },
     "execution_count": 217,
     "metadata": {},
     "output_type": "execute_result"
    }
   ],
   "source": [
    "data.shape"
   ]
  },
  {
   "cell_type": "code",
   "execution_count": 218,
   "metadata": {},
   "outputs": [],
   "source": [
    " x = (data[[z for z in data.columns.tolist() if z not in [target]]]).copy()\n",
    " y =data[target].copy() \n",
    " x=pd.DataFrame(scaler.fit_transform(x),columns=x.columns.tolist()).copy()\n",
    "\n",
    " train_x,test_x,train_y,test_y = train_test_split(x,y,test_size=1/4,random_state= r,stratify=y).copy()\n",
    " train_x,val_x,train_y,val_y= train_test_split(train_x, train_y, test_size=1/3,random_state=r,stratify=train_y).copy()\n",
    "\n",
    " model.fit(train_x,train_y)\n",
    " pred=model.predict_proba(val_x)[:,1]"
   ]
  },
  {
   "cell_type": "code",
   "execution_count": 219,
   "metadata": {},
   "outputs": [
    {
     "data": {
      "text/html": [
       "<div>\n",
       "<style scoped>\n",
       "    .dataframe tbody tr th:only-of-type {\n",
       "        vertical-align: middle;\n",
       "    }\n",
       "\n",
       "    .dataframe tbody tr th {\n",
       "        vertical-align: top;\n",
       "    }\n",
       "\n",
       "    .dataframe thead th {\n",
       "        text-align: right;\n",
       "    }\n",
       "</style>\n",
       "<table border=\"1\" class=\"dataframe\">\n",
       "  <thead>\n",
       "    <tr style=\"text-align: right;\">\n",
       "      <th></th>\n",
       "      <th>gender</th>\n",
       "      <th>age</th>\n",
       "      <th>hypertension</th>\n",
       "      <th>heart_disease</th>\n",
       "      <th>ever_married</th>\n",
       "      <th>work_type</th>\n",
       "      <th>Residence_type</th>\n",
       "      <th>avg_glucose_level</th>\n",
       "      <th>bmi</th>\n",
       "      <th>smoking_status</th>\n",
       "      <th>stroke</th>\n",
       "    </tr>\n",
       "  </thead>\n",
       "  <tbody>\n",
       "    <tr>\n",
       "      <th>0</th>\n",
       "      <td>1</td>\n",
       "      <td>67.0</td>\n",
       "      <td>0</td>\n",
       "      <td>1</td>\n",
       "      <td>1</td>\n",
       "      <td>2</td>\n",
       "      <td>1</td>\n",
       "      <td>228.69</td>\n",
       "      <td>36.600000</td>\n",
       "      <td>1</td>\n",
       "      <td>1</td>\n",
       "    </tr>\n",
       "    <tr>\n",
       "      <th>1</th>\n",
       "      <td>0</td>\n",
       "      <td>61.0</td>\n",
       "      <td>0</td>\n",
       "      <td>0</td>\n",
       "      <td>1</td>\n",
       "      <td>3</td>\n",
       "      <td>0</td>\n",
       "      <td>202.21</td>\n",
       "      <td>30.571525</td>\n",
       "      <td>2</td>\n",
       "      <td>1</td>\n",
       "    </tr>\n",
       "    <tr>\n",
       "      <th>2</th>\n",
       "      <td>1</td>\n",
       "      <td>80.0</td>\n",
       "      <td>0</td>\n",
       "      <td>1</td>\n",
       "      <td>1</td>\n",
       "      <td>2</td>\n",
       "      <td>0</td>\n",
       "      <td>105.92</td>\n",
       "      <td>32.500000</td>\n",
       "      <td>2</td>\n",
       "      <td>1</td>\n",
       "    </tr>\n",
       "    <tr>\n",
       "      <th>3</th>\n",
       "      <td>0</td>\n",
       "      <td>49.0</td>\n",
       "      <td>0</td>\n",
       "      <td>0</td>\n",
       "      <td>1</td>\n",
       "      <td>2</td>\n",
       "      <td>1</td>\n",
       "      <td>171.23</td>\n",
       "      <td>34.400000</td>\n",
       "      <td>3</td>\n",
       "      <td>1</td>\n",
       "    </tr>\n",
       "    <tr>\n",
       "      <th>4</th>\n",
       "      <td>0</td>\n",
       "      <td>79.0</td>\n",
       "      <td>1</td>\n",
       "      <td>0</td>\n",
       "      <td>1</td>\n",
       "      <td>3</td>\n",
       "      <td>0</td>\n",
       "      <td>174.12</td>\n",
       "      <td>24.000000</td>\n",
       "      <td>2</td>\n",
       "      <td>1</td>\n",
       "    </tr>\n",
       "  </tbody>\n",
       "</table>\n",
       "</div>"
      ],
      "text/plain": [
       "   gender   age  hypertension  heart_disease  ever_married  work_type  \\\n",
       "0       1  67.0             0              1             1          2   \n",
       "1       0  61.0             0              0             1          3   \n",
       "2       1  80.0             0              1             1          2   \n",
       "3       0  49.0             0              0             1          2   \n",
       "4       0  79.0             1              0             1          3   \n",
       "\n",
       "   Residence_type  avg_glucose_level        bmi  smoking_status  stroke  \n",
       "0               1             228.69  36.600000               1       1  \n",
       "1               0             202.21  30.571525               2       1  \n",
       "2               0             105.92  32.500000               2       1  \n",
       "3               1             171.23  34.400000               3       1  \n",
       "4               0             174.12  24.000000               2       1  "
      ]
     },
     "execution_count": 219,
     "metadata": {},
     "output_type": "execute_result"
    }
   ],
   "source": [
    "data.head()"
   ]
  },
  {
   "cell_type": "code",
   "execution_count": 220,
   "metadata": {},
   "outputs": [],
   "source": [
    "kval_n=2\n",
    "def kval(main,step,n=kval_n):\n",
    "\n",
    " klist=[]\n",
    " if (step==0):\n",
    "    step=0.0001\n",
    " i=main-step*n\n",
    " if (main>=0):\n",
    "  while (i<=main+step*n):\n",
    "    \n",
    "    klist.append(i)\n",
    "    i=i+step\n",
    "  return klist\n",
    " else:\n",
    "  while (i>=main+step*n):\n",
    "    \n",
    "    klist.append(i)\n",
    "    i=i+step\n",
    "  return klist\n",
    "  "
   ]
  },
  {
   "cell_type": "markdown",
   "metadata": {},
   "source": [
    "## N FOLD CROSS VALIDATION"
   ]
  },
  {
   "cell_type": "markdown",
   "metadata": {},
   "source": [
    "### to change eval metric throughout the code make corresponding changes in the eval_metric and cv_score() and eval_score()"
   ]
  },
  {
   "cell_type": "code",
   "execution_count": 221,
   "metadata": {},
   "outputs": [],
   "source": [
    "\n",
    "nfold=9\n",
    "eval_metric=['AUC']"
   ]
  },
  {
   "cell_type": "markdown",
   "metadata": {},
   "source": [
    "the function takes the ml algorithm,columns of datatable and the break value as parameter . function randomly chooses nfold sets of train and validation sets where in each fold val set is complement of train set and the union of validation sets in all folds gives the dataset itself . each fold is trained on train set and tested on validation set and gives a set of evaluation metric scores"
   ]
  },
  {
   "cell_type": "code",
   "execution_count": 222,
   "metadata": {},
   "outputs": [],
   "source": [
    "evallist=[]\n",
    "def cv_score(ml_model=model, rstate = r, cols = x.columns.tolist()):\n",
    "    i = 1\n",
    "    cv_scores = []\n",
    "    df1 = data.copy()\n",
    "    df1 = data[cols]\n",
    "    f1list=[]\n",
    "    indexlist=[]\n",
    "    \n",
    "    # 5 Fold cross validation stratified on the basis of target\n",
    "    kf = StratifiedKFold(n_splits=nfold,random_state=rstate,shuffle=True)\n",
    "    for df_index,test_index in kf.split(df1,y):\n",
    "        \n",
    "        xtr,xvl = [df1.loc[df_index],df1.loc[test_index]]\n",
    "        ytr,yvl = [y.loc[df_index],y.loc[test_index]]\n",
    "        \n",
    "        xtr =pd.DataFrame(scaler.fit_transform(xtr),columns=cols)\n",
    "        xvl = pd.DataFrame(scaler.fit_transform(xvl),columns=cols)\n",
    "            \n",
    "        # Define model for fitting on the training set for each fold\n",
    "        model = ml_model\n",
    "        model.fit(xtr, ytr)\n",
    "        pred_probs = model.predict_proba(xvl)\n",
    "\n",
    "        evalscore=auc(yvl,pred_probs[:,1])\n",
    "        evallist.append(evalscore)\n",
    "        \n",
    "         # Save scores\n",
    "        indexlist.append((\"kfold \"+str((i))))\n",
    "        i=i+1\n",
    "        \n",
    "    cv_score=pd.DataFrame(evallist,columns=eval_metric,index=indexlist)\n",
    "    return cv_score"
   ]
  },
  {
   "cell_type": "code",
   "execution_count": 223,
   "metadata": {},
   "outputs": [
    {
     "data": {
      "text/html": [
       "<div>\n",
       "<style scoped>\n",
       "    .dataframe tbody tr th:only-of-type {\n",
       "        vertical-align: middle;\n",
       "    }\n",
       "\n",
       "    .dataframe tbody tr th {\n",
       "        vertical-align: top;\n",
       "    }\n",
       "\n",
       "    .dataframe thead th {\n",
       "        text-align: right;\n",
       "    }\n",
       "</style>\n",
       "<table border=\"1\" class=\"dataframe\">\n",
       "  <thead>\n",
       "    <tr style=\"text-align: right;\">\n",
       "      <th></th>\n",
       "      <th>AUC</th>\n",
       "    </tr>\n",
       "  </thead>\n",
       "  <tbody>\n",
       "    <tr>\n",
       "      <th>kfold 1</th>\n",
       "      <td>0.848082</td>\n",
       "    </tr>\n",
       "    <tr>\n",
       "      <th>kfold 2</th>\n",
       "      <td>0.862434</td>\n",
       "    </tr>\n",
       "    <tr>\n",
       "      <th>kfold 3</th>\n",
       "      <td>0.849735</td>\n",
       "    </tr>\n",
       "    <tr>\n",
       "      <th>kfold 4</th>\n",
       "      <td>0.820767</td>\n",
       "    </tr>\n",
       "    <tr>\n",
       "      <th>kfold 5</th>\n",
       "      <td>0.835582</td>\n",
       "    </tr>\n",
       "    <tr>\n",
       "      <th>kfold 6</th>\n",
       "      <td>0.868585</td>\n",
       "    </tr>\n",
       "    <tr>\n",
       "      <th>kfold 7</th>\n",
       "      <td>0.828301</td>\n",
       "    </tr>\n",
       "    <tr>\n",
       "      <th>kfold 8</th>\n",
       "      <td>0.803909</td>\n",
       "    </tr>\n",
       "    <tr>\n",
       "      <th>kfold 9</th>\n",
       "      <td>0.852263</td>\n",
       "    </tr>\n",
       "  </tbody>\n",
       "</table>\n",
       "</div>"
      ],
      "text/plain": [
       "              AUC\n",
       "kfold 1  0.848082\n",
       "kfold 2  0.862434\n",
       "kfold 3  0.849735\n",
       "kfold 4  0.820767\n",
       "kfold 5  0.835582\n",
       "kfold 6  0.868585\n",
       "kfold 7  0.828301\n",
       "kfold 8  0.803909\n",
       "kfold 9  0.852263"
      ]
     },
     "execution_count": 223,
     "metadata": {},
     "output_type": "execute_result"
    }
   ],
   "source": [
    "cv_score()"
   ]
  },
  {
   "cell_type": "code",
   "execution_count": 224,
   "metadata": {},
   "outputs": [],
   "source": [
    "     def eval_score(ml_model=model, rstate = r, cols =x.columns.tolist()):\n",
    "        i = 1\n",
    "        indexlist=[]\n",
    "    \n",
    "        # Define model for fitting on the training set for each fold\n",
    "        model = ml_model\n",
    "        model.fit(train_x[cols],train_y)\n",
    "        pred = model.predict_proba(val_x[cols])\n",
    "         \n",
    "        evalscore=auc(val_y,pred[:,1])\n",
    "        return evalscore"
   ]
  },
  {
   "cell_type": "code",
   "execution_count": 225,
   "metadata": {},
   "outputs": [
    {
     "data": {
      "text/plain": [
       "0.8305390492359932"
      ]
     },
     "execution_count": 225,
     "metadata": {},
     "output_type": "execute_result"
    }
   ],
   "source": [
    "eval_score()"
   ]
  },
  {
   "cell_type": "markdown",
   "metadata": {},
   "source": [
    "## rfe"
   ]
  },
  {
   "cell_type": "markdown",
   "metadata": {},
   "source": [
    "this is a ranking of features based on how significant they are to our analysis according to RFE"
   ]
  },
  {
   "cell_type": "code",
   "execution_count": 226,
   "metadata": {},
   "outputs": [],
   "source": [
    "from sklearn.feature_selection import RFE\n",
    "\n",
    "# Create the RFE object and rank each feature\n",
    "\n",
    "rfe = RFE(estimator=model, n_features_to_select=1, step=1)\n",
    "rfe.fit(train_x, train_y)\n",
    "ranking_df = pd.DataFrame()\n",
    "ranking_df['Feature_name'] = x.iloc[0,].index\n",
    "ranking_df['Rank'] = rfe.ranking_\n",
    "ranked = ranking_df.sort_values(by=['Rank']).copy()"
   ]
  },
  {
   "cell_type": "code",
   "execution_count": 227,
   "metadata": {},
   "outputs": [
    {
     "data": {
      "text/html": [
       "<div>\n",
       "<style scoped>\n",
       "    .dataframe tbody tr th:only-of-type {\n",
       "        vertical-align: middle;\n",
       "    }\n",
       "\n",
       "    .dataframe tbody tr th {\n",
       "        vertical-align: top;\n",
       "    }\n",
       "\n",
       "    .dataframe thead th {\n",
       "        text-align: right;\n",
       "    }\n",
       "</style>\n",
       "<table border=\"1\" class=\"dataframe\">\n",
       "  <thead>\n",
       "    <tr style=\"text-align: right;\">\n",
       "      <th></th>\n",
       "      <th>Feature_name</th>\n",
       "      <th>Rank</th>\n",
       "    </tr>\n",
       "  </thead>\n",
       "  <tbody>\n",
       "    <tr>\n",
       "      <th>1</th>\n",
       "      <td>age</td>\n",
       "      <td>1</td>\n",
       "    </tr>\n",
       "    <tr>\n",
       "      <th>7</th>\n",
       "      <td>avg_glucose_level</td>\n",
       "      <td>2</td>\n",
       "    </tr>\n",
       "    <tr>\n",
       "      <th>3</th>\n",
       "      <td>heart_disease</td>\n",
       "      <td>3</td>\n",
       "    </tr>\n",
       "    <tr>\n",
       "      <th>4</th>\n",
       "      <td>ever_married</td>\n",
       "      <td>4</td>\n",
       "    </tr>\n",
       "    <tr>\n",
       "      <th>2</th>\n",
       "      <td>hypertension</td>\n",
       "      <td>5</td>\n",
       "    </tr>\n",
       "    <tr>\n",
       "      <th>5</th>\n",
       "      <td>work_type</td>\n",
       "      <td>6</td>\n",
       "    </tr>\n",
       "    <tr>\n",
       "      <th>9</th>\n",
       "      <td>smoking_status</td>\n",
       "      <td>7</td>\n",
       "    </tr>\n",
       "    <tr>\n",
       "      <th>6</th>\n",
       "      <td>Residence_type</td>\n",
       "      <td>8</td>\n",
       "    </tr>\n",
       "    <tr>\n",
       "      <th>0</th>\n",
       "      <td>gender</td>\n",
       "      <td>9</td>\n",
       "    </tr>\n",
       "    <tr>\n",
       "      <th>8</th>\n",
       "      <td>bmi</td>\n",
       "      <td>10</td>\n",
       "    </tr>\n",
       "  </tbody>\n",
       "</table>\n",
       "</div>"
      ],
      "text/plain": [
       "        Feature_name  Rank\n",
       "1                age     1\n",
       "7  avg_glucose_level     2\n",
       "3      heart_disease     3\n",
       "4       ever_married     4\n",
       "2       hypertension     5\n",
       "5          work_type     6\n",
       "9     smoking_status     7\n",
       "6     Residence_type     8\n",
       "0             gender     9\n",
       "8                bmi    10"
      ]
     },
     "execution_count": 227,
     "metadata": {},
     "output_type": "execute_result"
    }
   ],
   "source": [
    "ranked"
   ]
  },
  {
   "cell_type": "markdown",
   "metadata": {},
   "source": [
    "## clustering"
   ]
  },
  {
   "cell_type": "code",
   "execution_count": 228,
   "metadata": {},
   "outputs": [],
   "source": [
    "from sklearn.cluster import AgglomerativeClustering"
   ]
  },
  {
   "cell_type": "code",
   "execution_count": 229,
   "metadata": {},
   "outputs": [],
   "source": [
    "from sklearn.preprocessing import StandardScaler\n",
    "scaler = StandardScaler()\n",
    "data_scaled = scaler.fit_transform(data)"
   ]
  },
  {
   "cell_type": "code",
   "execution_count": 230,
   "metadata": {},
   "outputs": [],
   "source": [
    "ac = AgglomerativeClustering(n_clusters=5)\n",
    "clusters = ac.fit(pd.DataFrame(data_scaled))"
   ]
  },
  {
   "cell_type": "code",
   "execution_count": 231,
   "metadata": {},
   "outputs": [
    {
     "data": {
      "text/plain": [
       "array([1, 1, 1, 1, 1, 1, 1, 1, 1, 1, 1, 1, 1, 1, 1, 1, 1, 1, 1, 1, 1, 1,\n",
       "       1, 1, 1, 1, 1, 1, 1, 1, 1, 1, 1, 1, 1, 1, 1, 1, 1, 1, 1, 1, 1, 1,\n",
       "       1, 1, 1, 1, 1, 1, 1, 1, 1, 1, 1, 1, 1, 1, 1, 1, 1, 1, 1, 1, 1, 1,\n",
       "       1, 1, 1, 1, 1, 1, 1, 1, 1, 1, 1, 1, 1, 1, 1, 1, 1, 1, 1, 1, 1, 1,\n",
       "       1, 1, 1, 1, 1, 1, 1, 1, 1, 1, 1, 1])"
      ]
     },
     "execution_count": 231,
     "metadata": {},
     "output_type": "execute_result"
    }
   ],
   "source": [
    "clusters.labels_[:100]"
   ]
  },
  {
   "cell_type": "code",
   "execution_count": 232,
   "metadata": {},
   "outputs": [
    {
     "data": {
      "text/plain": [
       "2    2606\n",
       "0    1645\n",
       "3     381\n",
       "1     249\n",
       "4     229\n",
       "dtype: int64"
      ]
     },
     "execution_count": 232,
     "metadata": {},
     "output_type": "execute_result"
    }
   ],
   "source": [
    "pd.Series(clusters.labels_).value_counts()"
   ]
  },
  {
   "cell_type": "code",
   "execution_count": 233,
   "metadata": {},
   "outputs": [
    {
     "data": {
      "text/plain": [
       "array([1, 1, 1, ..., 2, 2, 2])"
      ]
     },
     "execution_count": 233,
     "metadata": {},
     "output_type": "execute_result"
    }
   ],
   "source": [
    "clusters.labels_"
   ]
  },
  {
   "cell_type": "code",
   "execution_count": 234,
   "metadata": {},
   "outputs": [],
   "source": [
    "data['cluster']=clusters.labels_"
   ]
  },
  {
   "cell_type": "code",
   "execution_count": 235,
   "metadata": {},
   "outputs": [
    {
     "data": {
      "text/html": [
       "<div>\n",
       "<style scoped>\n",
       "    .dataframe tbody tr th:only-of-type {\n",
       "        vertical-align: middle;\n",
       "    }\n",
       "\n",
       "    .dataframe tbody tr th {\n",
       "        vertical-align: top;\n",
       "    }\n",
       "\n",
       "    .dataframe thead th {\n",
       "        text-align: right;\n",
       "    }\n",
       "</style>\n",
       "<table border=\"1\" class=\"dataframe\">\n",
       "  <thead>\n",
       "    <tr style=\"text-align: right;\">\n",
       "      <th></th>\n",
       "      <th>gender</th>\n",
       "      <th>age</th>\n",
       "      <th>hypertension</th>\n",
       "      <th>heart_disease</th>\n",
       "      <th>ever_married</th>\n",
       "      <th>work_type</th>\n",
       "      <th>Residence_type</th>\n",
       "      <th>avg_glucose_level</th>\n",
       "      <th>bmi</th>\n",
       "      <th>smoking_status</th>\n",
       "      <th>stroke</th>\n",
       "      <th>cluster</th>\n",
       "    </tr>\n",
       "  </thead>\n",
       "  <tbody>\n",
       "    <tr>\n",
       "      <th>0</th>\n",
       "      <td>1</td>\n",
       "      <td>67.0</td>\n",
       "      <td>0</td>\n",
       "      <td>1</td>\n",
       "      <td>1</td>\n",
       "      <td>2</td>\n",
       "      <td>1</td>\n",
       "      <td>228.69</td>\n",
       "      <td>36.600000</td>\n",
       "      <td>1</td>\n",
       "      <td>1</td>\n",
       "      <td>1</td>\n",
       "    </tr>\n",
       "    <tr>\n",
       "      <th>1</th>\n",
       "      <td>0</td>\n",
       "      <td>61.0</td>\n",
       "      <td>0</td>\n",
       "      <td>0</td>\n",
       "      <td>1</td>\n",
       "      <td>3</td>\n",
       "      <td>0</td>\n",
       "      <td>202.21</td>\n",
       "      <td>30.571525</td>\n",
       "      <td>2</td>\n",
       "      <td>1</td>\n",
       "      <td>1</td>\n",
       "    </tr>\n",
       "    <tr>\n",
       "      <th>2</th>\n",
       "      <td>1</td>\n",
       "      <td>80.0</td>\n",
       "      <td>0</td>\n",
       "      <td>1</td>\n",
       "      <td>1</td>\n",
       "      <td>2</td>\n",
       "      <td>0</td>\n",
       "      <td>105.92</td>\n",
       "      <td>32.500000</td>\n",
       "      <td>2</td>\n",
       "      <td>1</td>\n",
       "      <td>1</td>\n",
       "    </tr>\n",
       "    <tr>\n",
       "      <th>3</th>\n",
       "      <td>0</td>\n",
       "      <td>49.0</td>\n",
       "      <td>0</td>\n",
       "      <td>0</td>\n",
       "      <td>1</td>\n",
       "      <td>2</td>\n",
       "      <td>1</td>\n",
       "      <td>171.23</td>\n",
       "      <td>34.400000</td>\n",
       "      <td>3</td>\n",
       "      <td>1</td>\n",
       "      <td>1</td>\n",
       "    </tr>\n",
       "    <tr>\n",
       "      <th>4</th>\n",
       "      <td>0</td>\n",
       "      <td>79.0</td>\n",
       "      <td>1</td>\n",
       "      <td>0</td>\n",
       "      <td>1</td>\n",
       "      <td>3</td>\n",
       "      <td>0</td>\n",
       "      <td>174.12</td>\n",
       "      <td>24.000000</td>\n",
       "      <td>2</td>\n",
       "      <td>1</td>\n",
       "      <td>1</td>\n",
       "    </tr>\n",
       "  </tbody>\n",
       "</table>\n",
       "</div>"
      ],
      "text/plain": [
       "   gender   age  hypertension  heart_disease  ever_married  work_type  \\\n",
       "0       1  67.0             0              1             1          2   \n",
       "1       0  61.0             0              0             1          3   \n",
       "2       1  80.0             0              1             1          2   \n",
       "3       0  49.0             0              0             1          2   \n",
       "4       0  79.0             1              0             1          3   \n",
       "\n",
       "   Residence_type  avg_glucose_level        bmi  smoking_status  stroke  \\\n",
       "0               1             228.69  36.600000               1       1   \n",
       "1               0             202.21  30.571525               2       1   \n",
       "2               0             105.92  32.500000               2       1   \n",
       "3               1             171.23  34.400000               3       1   \n",
       "4               0             174.12  24.000000               2       1   \n",
       "\n",
       "   cluster  \n",
       "0        1  \n",
       "1        1  \n",
       "2        1  \n",
       "3        1  \n",
       "4        1  "
      ]
     },
     "execution_count": 235,
     "metadata": {},
     "output_type": "execute_result"
    }
   ],
   "source": [
    "data.head()"
   ]
  },
  {
   "cell_type": "code",
   "execution_count": 236,
   "metadata": {},
   "outputs": [],
   "source": [
    "cluster_targetmean=[]\n",
    "for i in data['cluster'].value_counts().index.tolist():\n",
    "    cluster_targetmean.append(data[data['cluster']==i][target].mean())"
   ]
  },
  {
   "cell_type": "code",
   "execution_count": 237,
   "metadata": {},
   "outputs": [],
   "source": [
    "clusterlabel=data['cluster'].value_counts().index.tolist()\n",
    "clusterval=data['cluster'].value_counts().values.tolist()"
   ]
  },
  {
   "cell_type": "code",
   "execution_count": 238,
   "metadata": {},
   "outputs": [
    {
     "data": {
      "text/html": [
       "<div>\n",
       "<style scoped>\n",
       "    .dataframe tbody tr th:only-of-type {\n",
       "        vertical-align: middle;\n",
       "    }\n",
       "\n",
       "    .dataframe tbody tr th {\n",
       "        vertical-align: top;\n",
       "    }\n",
       "\n",
       "    .dataframe thead th {\n",
       "        text-align: right;\n",
       "    }\n",
       "</style>\n",
       "<table border=\"1\" class=\"dataframe\">\n",
       "  <thead>\n",
       "    <tr style=\"text-align: right;\">\n",
       "      <th></th>\n",
       "      <th>clusterlabel</th>\n",
       "      <th>label freq in data</th>\n",
       "      <th>cluster_targetmean</th>\n",
       "    </tr>\n",
       "  </thead>\n",
       "  <tbody>\n",
       "    <tr>\n",
       "      <th>0</th>\n",
       "      <td>2.0</td>\n",
       "      <td>2606.0</td>\n",
       "      <td>0.0</td>\n",
       "    </tr>\n",
       "    <tr>\n",
       "      <th>1</th>\n",
       "      <td>0.0</td>\n",
       "      <td>1645.0</td>\n",
       "      <td>0.0</td>\n",
       "    </tr>\n",
       "    <tr>\n",
       "      <th>2</th>\n",
       "      <td>3.0</td>\n",
       "      <td>381.0</td>\n",
       "      <td>0.0</td>\n",
       "    </tr>\n",
       "    <tr>\n",
       "      <th>3</th>\n",
       "      <td>1.0</td>\n",
       "      <td>249.0</td>\n",
       "      <td>1.0</td>\n",
       "    </tr>\n",
       "    <tr>\n",
       "      <th>4</th>\n",
       "      <td>4.0</td>\n",
       "      <td>229.0</td>\n",
       "      <td>0.0</td>\n",
       "    </tr>\n",
       "  </tbody>\n",
       "</table>\n",
       "</div>"
      ],
      "text/plain": [
       "   clusterlabel  label freq in data  cluster_targetmean\n",
       "0           2.0              2606.0                 0.0\n",
       "1           0.0              1645.0                 0.0\n",
       "2           3.0               381.0                 0.0\n",
       "3           1.0               249.0                 1.0\n",
       "4           4.0               229.0                 0.0"
      ]
     },
     "execution_count": 238,
     "metadata": {},
     "output_type": "execute_result"
    }
   ],
   "source": [
    "cluster_target=pd.DataFrame([clusterlabel,clusterval,cluster_targetmean],index=['clusterlabel','label freq in data','cluster_targetmean']).transpose().copy()\n",
    "cluster_target"
   ]
  },
  {
   "cell_type": "raw",
   "metadata": {},
   "source": [
    "cluster 1 mostly tends to stroke but others do not\n",
    "so we can tell to cluster 1 patients to take precaution as they are in danger zone"
   ]
  },
  {
   "cell_type": "code",
   "execution_count": 239,
   "metadata": {},
   "outputs": [],
   "source": [
    "data=(data[[z for z in data.columns.tolist() if z not in ['cluster']]]).copy()"
   ]
  },
  {
   "cell_type": "code",
   "execution_count": 240,
   "metadata": {},
   "outputs": [],
   "source": [
    "x = (data[[z for z in data.columns.tolist() if z not in [target]]]).copy()\n",
    "y = data[target].copy()\n",
    "x.shape, y.shape\n",
    "\n",
    "train_x,test_x,train_y,test_y = train_test_split(x,y,test_size=1/4,random_state= r).copy()\n",
    "train_x,val_x,train_y,val_y= train_test_split(train_x, train_y, test_size=1/3,random_state=r).copy()"
   ]
  },
  {
   "cell_type": "markdown",
   "metadata": {},
   "source": [
    "## feature binning"
   ]
  },
  {
   "cell_type": "markdown",
   "metadata": {},
   "source": [
    "## decision tree for continous columns"
   ]
  },
  {
   "cell_type": "code",
   "execution_count": 241,
   "metadata": {},
   "outputs": [
    {
     "data": {
      "text/plain": [
       "gender                 int64\n",
       "age                  float64\n",
       "hypertension           int64\n",
       "heart_disease          int64\n",
       "ever_married           int64\n",
       "work_type              int64\n",
       "Residence_type         int64\n",
       "avg_glucose_level    float64\n",
       "bmi                  float64\n",
       "smoking_status         int64\n",
       "stroke                 int64\n",
       "dtype: object"
      ]
     },
     "execution_count": 241,
     "metadata": {},
     "output_type": "execute_result"
    }
   ],
   "source": [
    "data.dtypes"
   ]
  },
  {
   "cell_type": "code",
   "execution_count": 242,
   "metadata": {},
   "outputs": [
    {
     "data": {
      "text/html": [
       "<div>\n",
       "<style scoped>\n",
       "    .dataframe tbody tr th:only-of-type {\n",
       "        vertical-align: middle;\n",
       "    }\n",
       "\n",
       "    .dataframe tbody tr th {\n",
       "        vertical-align: top;\n",
       "    }\n",
       "\n",
       "    .dataframe thead th {\n",
       "        text-align: right;\n",
       "    }\n",
       "</style>\n",
       "<table border=\"1\" class=\"dataframe\">\n",
       "  <thead>\n",
       "    <tr style=\"text-align: right;\">\n",
       "      <th></th>\n",
       "      <th>gender</th>\n",
       "      <th>age</th>\n",
       "      <th>hypertension</th>\n",
       "      <th>heart_disease</th>\n",
       "      <th>ever_married</th>\n",
       "      <th>work_type</th>\n",
       "      <th>Residence_type</th>\n",
       "      <th>avg_glucose_level</th>\n",
       "      <th>bmi</th>\n",
       "      <th>smoking_status</th>\n",
       "      <th>stroke</th>\n",
       "    </tr>\n",
       "  </thead>\n",
       "  <tbody>\n",
       "    <tr>\n",
       "      <th>0</th>\n",
       "      <td>1</td>\n",
       "      <td>67.0</td>\n",
       "      <td>0</td>\n",
       "      <td>1</td>\n",
       "      <td>1</td>\n",
       "      <td>2</td>\n",
       "      <td>1</td>\n",
       "      <td>228.69</td>\n",
       "      <td>36.600000</td>\n",
       "      <td>1</td>\n",
       "      <td>1</td>\n",
       "    </tr>\n",
       "    <tr>\n",
       "      <th>1</th>\n",
       "      <td>0</td>\n",
       "      <td>61.0</td>\n",
       "      <td>0</td>\n",
       "      <td>0</td>\n",
       "      <td>1</td>\n",
       "      <td>3</td>\n",
       "      <td>0</td>\n",
       "      <td>202.21</td>\n",
       "      <td>30.571525</td>\n",
       "      <td>2</td>\n",
       "      <td>1</td>\n",
       "    </tr>\n",
       "    <tr>\n",
       "      <th>2</th>\n",
       "      <td>1</td>\n",
       "      <td>80.0</td>\n",
       "      <td>0</td>\n",
       "      <td>1</td>\n",
       "      <td>1</td>\n",
       "      <td>2</td>\n",
       "      <td>0</td>\n",
       "      <td>105.92</td>\n",
       "      <td>32.500000</td>\n",
       "      <td>2</td>\n",
       "      <td>1</td>\n",
       "    </tr>\n",
       "    <tr>\n",
       "      <th>3</th>\n",
       "      <td>0</td>\n",
       "      <td>49.0</td>\n",
       "      <td>0</td>\n",
       "      <td>0</td>\n",
       "      <td>1</td>\n",
       "      <td>2</td>\n",
       "      <td>1</td>\n",
       "      <td>171.23</td>\n",
       "      <td>34.400000</td>\n",
       "      <td>3</td>\n",
       "      <td>1</td>\n",
       "    </tr>\n",
       "    <tr>\n",
       "      <th>4</th>\n",
       "      <td>0</td>\n",
       "      <td>79.0</td>\n",
       "      <td>1</td>\n",
       "      <td>0</td>\n",
       "      <td>1</td>\n",
       "      <td>3</td>\n",
       "      <td>0</td>\n",
       "      <td>174.12</td>\n",
       "      <td>24.000000</td>\n",
       "      <td>2</td>\n",
       "      <td>1</td>\n",
       "    </tr>\n",
       "  </tbody>\n",
       "</table>\n",
       "</div>"
      ],
      "text/plain": [
       "   gender   age  hypertension  heart_disease  ever_married  work_type  \\\n",
       "0       1  67.0             0              1             1          2   \n",
       "1       0  61.0             0              0             1          3   \n",
       "2       1  80.0             0              1             1          2   \n",
       "3       0  49.0             0              0             1          2   \n",
       "4       0  79.0             1              0             1          3   \n",
       "\n",
       "   Residence_type  avg_glucose_level        bmi  smoking_status  stroke  \n",
       "0               1             228.69  36.600000               1       1  \n",
       "1               0             202.21  30.571525               2       1  \n",
       "2               0             105.92  32.500000               2       1  \n",
       "3               1             171.23  34.400000               3       1  \n",
       "4               0             174.12  24.000000               2       1  "
      ]
     },
     "execution_count": 242,
     "metadata": {},
     "output_type": "execute_result"
    }
   ],
   "source": [
    "data.head()"
   ]
  },
  {
   "cell_type": "raw",
   "metadata": {},
   "source": [
    "contlist is a list of continous features \n",
    "continous features have more than 6 unique values or are of float datatype\n",
    "rest all are categorical features and they are in catlist"
   ]
  },
  {
   "cell_type": "code",
   "execution_count": 243,
   "metadata": {},
   "outputs": [],
   "source": [
    "contlist=[]\n",
    "for i in data[[x for x in data.columns.tolist() if x not in target]]:\n",
    " if ((type(data[i][5])==np.float64)|len(data[i].value_counts())>6):\n",
    "    contlist.append(i)"
   ]
  },
  {
   "cell_type": "code",
   "execution_count": 244,
   "metadata": {},
   "outputs": [
    {
     "data": {
      "text/plain": [
       "['age', 'avg_glucose_level', 'bmi']"
      ]
     },
     "execution_count": 244,
     "metadata": {},
     "output_type": "execute_result"
    }
   ],
   "source": [
    "contlist"
   ]
  },
  {
   "cell_type": "code",
   "execution_count": 245,
   "metadata": {},
   "outputs": [
    {
     "data": {
      "text/plain": [
       "['gender',\n",
       " 'hypertension',\n",
       " 'heart_disease',\n",
       " 'ever_married',\n",
       " 'work_type',\n",
       " 'Residence_type',\n",
       " 'smoking_status']"
      ]
     },
     "execution_count": 245,
     "metadata": {},
     "output_type": "execute_result"
    }
   ],
   "source": [
    "catlist=[t for t in x.columns.tolist() if t not in contlist]\n",
    "catlist"
   ]
  },
  {
   "cell_type": "code",
   "execution_count": 246,
   "metadata": {},
   "outputs": [],
   "source": [
    "from sklearn.tree import DecisionTreeClassifier as dtc,export_graphviz\n",
    "from sklearn.model_selection import GridSearchCV as gs,RandomizedSearchCV as rs\n",
    "from feature_engine.discretisation import DecisionTreeDiscretiser as dtd\n",
    "import graphviz"
   ]
  },
  {
   "cell_type": "code",
   "execution_count": 247,
   "metadata": {},
   "outputs": [],
   "source": [
    "depth=kval(15,1,15)\n",
    "decimal=kval(0.035,(0.035/4),4)\n",
    "subdecimal=kval(0.01,(0.01/4),4)"
   ]
  },
  {
   "cell_type": "code",
   "execution_count": 248,
   "metadata": {},
   "outputs": [],
   "source": [
    "dt=dtc(random_state=r)"
   ]
  },
  {
   "cell_type": "raw",
   "metadata": {},
   "source": [
    "creating trees for all continous features"
   ]
  },
  {
   "cell_type": "code",
   "execution_count": 249,
   "metadata": {},
   "outputs": [],
   "source": [
    "for k in contlist:\n",
    " val_x1=val_x[k].to_frame()\n",
    " train_x1=train_x[k].to_frame()  \n",
    "\n",
    " gsdict={'criterion':['gini','entropy'],\n",
    "  'max_depth':depth,\n",
    "  'min_samples_split':subdecimal,\n",
    "  'min_weight_fraction_leaf':subdecimal}\n",
    "\n",
    " gsbest=gsdict.copy()\n",
    "\n",
    " val_x1=val_x[k].to_frame().copy()\n",
    " train_x1=train_x[k].to_frame().copy()  \n",
    " \n",
    " for j in gsdict :\n",
    "  tree_para = {j:gsdict[j]}\n",
    "  dtmodel = rs(dt, tree_para)\n",
    "  dtmodel.fit(train_x1,train_y)\n",
    "  gsbest[j]=[dtmodel.best_estimator_.get_params()[j]]\n",
    "    \n",
    " gsbest_indi=gsbest.copy()\n",
    "    \n",
    " gsdict={'criterion':['gini','entropy'],\n",
    "  'max_depth':(gsbest['max_depth'][0],1,5),\n",
    "  'min_samples_split':(gsbest['min_samples_split'][0],gsbest['min_samples_split'][0]/20,4),\n",
    "  'min_weight_fraction_leaf':(gsbest['min_weight_fraction_leaf'][0],gsbest['min_weight_fraction_leaf'][0]/20,4)}\n",
    "\n",
    " for j in gsbest_indi:\n",
    "  gsbest_indi[j]=gsdict[j]\n",
    "  dtmodel = rs(dt, gsbest_indi)\n",
    "  dtmodel.fit(train_x1,train_y)\n",
    "  gsbest_indi[j]=gsbest[j]\n",
    "  gsbest[j]=[dtmodel.best_estimator_.get_params()[j]]\n",
    "\n",
    " dtdmodel=dtd(variables=k,\n",
    "    param_grid=gsbest,\n",
    "    regression =False,\n",
    "    random_state=r)\n",
    " dtdmodel.fit(train_x1,train_y)\n",
    " x[str(k)+\"-Tree\"]=dtdmodel.transform(pd.DataFrame(x[k])).copy()"
   ]
  },
  {
   "cell_type": "code",
   "execution_count": null,
   "metadata": {},
   "outputs": [],
   "source": []
  },
  {
   "cell_type": "code",
   "execution_count": 250,
   "metadata": {},
   "outputs": [
    {
     "data": {
      "text/html": [
       "<div>\n",
       "<style scoped>\n",
       "    .dataframe tbody tr th:only-of-type {\n",
       "        vertical-align: middle;\n",
       "    }\n",
       "\n",
       "    .dataframe tbody tr th {\n",
       "        vertical-align: top;\n",
       "    }\n",
       "\n",
       "    .dataframe thead th {\n",
       "        text-align: right;\n",
       "    }\n",
       "</style>\n",
       "<table border=\"1\" class=\"dataframe\">\n",
       "  <thead>\n",
       "    <tr style=\"text-align: right;\">\n",
       "      <th></th>\n",
       "      <th>gender</th>\n",
       "      <th>age</th>\n",
       "      <th>hypertension</th>\n",
       "      <th>heart_disease</th>\n",
       "      <th>ever_married</th>\n",
       "      <th>work_type</th>\n",
       "      <th>Residence_type</th>\n",
       "      <th>avg_glucose_level</th>\n",
       "      <th>bmi</th>\n",
       "      <th>smoking_status</th>\n",
       "      <th>age-Tree</th>\n",
       "      <th>avg_glucose_level-Tree</th>\n",
       "      <th>bmi-Tree</th>\n",
       "    </tr>\n",
       "  </thead>\n",
       "  <tbody>\n",
       "    <tr>\n",
       "      <th>0</th>\n",
       "      <td>1</td>\n",
       "      <td>67.0</td>\n",
       "      <td>0</td>\n",
       "      <td>1</td>\n",
       "      <td>1</td>\n",
       "      <td>2</td>\n",
       "      <td>1</td>\n",
       "      <td>228.69</td>\n",
       "      <td>36.600000</td>\n",
       "      <td>1</td>\n",
       "      <td>0.166667</td>\n",
       "      <td>0.145749</td>\n",
       "      <td>0.043137</td>\n",
       "    </tr>\n",
       "    <tr>\n",
       "      <th>1</th>\n",
       "      <td>0</td>\n",
       "      <td>61.0</td>\n",
       "      <td>0</td>\n",
       "      <td>0</td>\n",
       "      <td>1</td>\n",
       "      <td>3</td>\n",
       "      <td>0</td>\n",
       "      <td>202.21</td>\n",
       "      <td>30.571525</td>\n",
       "      <td>2</td>\n",
       "      <td>0.083333</td>\n",
       "      <td>0.145749</td>\n",
       "      <td>0.077174</td>\n",
       "    </tr>\n",
       "    <tr>\n",
       "      <th>2</th>\n",
       "      <td>1</td>\n",
       "      <td>80.0</td>\n",
       "      <td>0</td>\n",
       "      <td>1</td>\n",
       "      <td>1</td>\n",
       "      <td>2</td>\n",
       "      <td>0</td>\n",
       "      <td>105.92</td>\n",
       "      <td>32.500000</td>\n",
       "      <td>2</td>\n",
       "      <td>0.275862</td>\n",
       "      <td>0.029611</td>\n",
       "      <td>0.043137</td>\n",
       "    </tr>\n",
       "    <tr>\n",
       "      <th>3</th>\n",
       "      <td>0</td>\n",
       "      <td>49.0</td>\n",
       "      <td>0</td>\n",
       "      <td>0</td>\n",
       "      <td>1</td>\n",
       "      <td>2</td>\n",
       "      <td>1</td>\n",
       "      <td>171.23</td>\n",
       "      <td>34.400000</td>\n",
       "      <td>3</td>\n",
       "      <td>0.048780</td>\n",
       "      <td>0.000000</td>\n",
       "      <td>0.043137</td>\n",
       "    </tr>\n",
       "    <tr>\n",
       "      <th>4</th>\n",
       "      <td>0</td>\n",
       "      <td>79.0</td>\n",
       "      <td>1</td>\n",
       "      <td>0</td>\n",
       "      <td>1</td>\n",
       "      <td>3</td>\n",
       "      <td>0</td>\n",
       "      <td>174.12</td>\n",
       "      <td>24.000000</td>\n",
       "      <td>2</td>\n",
       "      <td>0.145833</td>\n",
       "      <td>0.000000</td>\n",
       "      <td>0.030111</td>\n",
       "    </tr>\n",
       "  </tbody>\n",
       "</table>\n",
       "</div>"
      ],
      "text/plain": [
       "   gender   age  hypertension  heart_disease  ever_married  work_type  \\\n",
       "0       1  67.0             0              1             1          2   \n",
       "1       0  61.0             0              0             1          3   \n",
       "2       1  80.0             0              1             1          2   \n",
       "3       0  49.0             0              0             1          2   \n",
       "4       0  79.0             1              0             1          3   \n",
       "\n",
       "   Residence_type  avg_glucose_level        bmi  smoking_status  age-Tree  \\\n",
       "0               1             228.69  36.600000               1  0.166667   \n",
       "1               0             202.21  30.571525               2  0.083333   \n",
       "2               0             105.92  32.500000               2  0.275862   \n",
       "3               1             171.23  34.400000               3  0.048780   \n",
       "4               0             174.12  24.000000               2  0.145833   \n",
       "\n",
       "   avg_glucose_level-Tree  bmi-Tree  \n",
       "0                0.145749  0.043137  \n",
       "1                0.145749  0.077174  \n",
       "2                0.029611  0.043137  \n",
       "3                0.000000  0.043137  \n",
       "4                0.000000  0.030111  "
      ]
     },
     "execution_count": 250,
     "metadata": {},
     "output_type": "execute_result"
    }
   ],
   "source": [
    "x.head()"
   ]
  },
  {
   "cell_type": "markdown",
   "metadata": {},
   "source": [
    "## categorical feature frequency creation"
   ]
  },
  {
   "cell_type": "code",
   "execution_count": 251,
   "metadata": {},
   "outputs": [
    {
     "data": {
      "text/plain": [
       "['gender',\n",
       " 'hypertension',\n",
       " 'heart_disease',\n",
       " 'ever_married',\n",
       " 'work_type',\n",
       " 'Residence_type',\n",
       " 'smoking_status']"
      ]
     },
     "execution_count": 251,
     "metadata": {},
     "output_type": "execute_result"
    }
   ],
   "source": [
    "catlist"
   ]
  },
  {
   "cell_type": "code",
   "execution_count": 252,
   "metadata": {},
   "outputs": [
    {
     "data": {
      "text/html": [
       "<div>\n",
       "<style scoped>\n",
       "    .dataframe tbody tr th:only-of-type {\n",
       "        vertical-align: middle;\n",
       "    }\n",
       "\n",
       "    .dataframe tbody tr th {\n",
       "        vertical-align: top;\n",
       "    }\n",
       "\n",
       "    .dataframe thead th {\n",
       "        text-align: right;\n",
       "    }\n",
       "</style>\n",
       "<table border=\"1\" class=\"dataframe\">\n",
       "  <thead>\n",
       "    <tr style=\"text-align: right;\">\n",
       "      <th></th>\n",
       "      <th>gender</th>\n",
       "      <th>age</th>\n",
       "      <th>hypertension</th>\n",
       "      <th>heart_disease</th>\n",
       "      <th>ever_married</th>\n",
       "      <th>work_type</th>\n",
       "      <th>Residence_type</th>\n",
       "      <th>avg_glucose_level</th>\n",
       "      <th>bmi</th>\n",
       "      <th>smoking_status</th>\n",
       "      <th>stroke</th>\n",
       "    </tr>\n",
       "  </thead>\n",
       "  <tbody>\n",
       "    <tr>\n",
       "      <th>0</th>\n",
       "      <td>1</td>\n",
       "      <td>67.0</td>\n",
       "      <td>0</td>\n",
       "      <td>1</td>\n",
       "      <td>1</td>\n",
       "      <td>2</td>\n",
       "      <td>1</td>\n",
       "      <td>228.69</td>\n",
       "      <td>36.600000</td>\n",
       "      <td>1</td>\n",
       "      <td>1</td>\n",
       "    </tr>\n",
       "    <tr>\n",
       "      <th>1</th>\n",
       "      <td>0</td>\n",
       "      <td>61.0</td>\n",
       "      <td>0</td>\n",
       "      <td>0</td>\n",
       "      <td>1</td>\n",
       "      <td>3</td>\n",
       "      <td>0</td>\n",
       "      <td>202.21</td>\n",
       "      <td>30.571525</td>\n",
       "      <td>2</td>\n",
       "      <td>1</td>\n",
       "    </tr>\n",
       "    <tr>\n",
       "      <th>2</th>\n",
       "      <td>1</td>\n",
       "      <td>80.0</td>\n",
       "      <td>0</td>\n",
       "      <td>1</td>\n",
       "      <td>1</td>\n",
       "      <td>2</td>\n",
       "      <td>0</td>\n",
       "      <td>105.92</td>\n",
       "      <td>32.500000</td>\n",
       "      <td>2</td>\n",
       "      <td>1</td>\n",
       "    </tr>\n",
       "    <tr>\n",
       "      <th>3</th>\n",
       "      <td>0</td>\n",
       "      <td>49.0</td>\n",
       "      <td>0</td>\n",
       "      <td>0</td>\n",
       "      <td>1</td>\n",
       "      <td>2</td>\n",
       "      <td>1</td>\n",
       "      <td>171.23</td>\n",
       "      <td>34.400000</td>\n",
       "      <td>3</td>\n",
       "      <td>1</td>\n",
       "    </tr>\n",
       "    <tr>\n",
       "      <th>4</th>\n",
       "      <td>0</td>\n",
       "      <td>79.0</td>\n",
       "      <td>1</td>\n",
       "      <td>0</td>\n",
       "      <td>1</td>\n",
       "      <td>3</td>\n",
       "      <td>0</td>\n",
       "      <td>174.12</td>\n",
       "      <td>24.000000</td>\n",
       "      <td>2</td>\n",
       "      <td>1</td>\n",
       "    </tr>\n",
       "  </tbody>\n",
       "</table>\n",
       "</div>"
      ],
      "text/plain": [
       "   gender   age  hypertension  heart_disease  ever_married  work_type  \\\n",
       "0       1  67.0             0              1             1          2   \n",
       "1       0  61.0             0              0             1          3   \n",
       "2       1  80.0             0              1             1          2   \n",
       "3       0  49.0             0              0             1          2   \n",
       "4       0  79.0             1              0             1          3   \n",
       "\n",
       "   Residence_type  avg_glucose_level        bmi  smoking_status  stroke  \n",
       "0               1             228.69  36.600000               1       1  \n",
       "1               0             202.21  30.571525               2       1  \n",
       "2               0             105.92  32.500000               2       1  \n",
       "3               1             171.23  34.400000               3       1  \n",
       "4               0             174.12  24.000000               2       1  "
      ]
     },
     "execution_count": 252,
     "metadata": {},
     "output_type": "execute_result"
    }
   ],
   "source": [
    "data.head()"
   ]
  },
  {
   "cell_type": "code",
   "execution_count": 253,
   "metadata": {},
   "outputs": [],
   "source": [
    "for i in catlist:\n",
    "    x[str(i)+\"_meantarget\"] =data[i].map(dict(data.groupby(i)[target].mean()))"
   ]
  },
  {
   "cell_type": "code",
   "execution_count": 254,
   "metadata": {},
   "outputs": [
    {
     "data": {
      "text/html": [
       "<div>\n",
       "<style scoped>\n",
       "    .dataframe tbody tr th:only-of-type {\n",
       "        vertical-align: middle;\n",
       "    }\n",
       "\n",
       "    .dataframe tbody tr th {\n",
       "        vertical-align: top;\n",
       "    }\n",
       "\n",
       "    .dataframe thead th {\n",
       "        text-align: right;\n",
       "    }\n",
       "</style>\n",
       "<table border=\"1\" class=\"dataframe\">\n",
       "  <thead>\n",
       "    <tr style=\"text-align: right;\">\n",
       "      <th></th>\n",
       "      <th>gender</th>\n",
       "      <th>age</th>\n",
       "      <th>hypertension</th>\n",
       "      <th>heart_disease</th>\n",
       "      <th>ever_married</th>\n",
       "      <th>work_type</th>\n",
       "      <th>Residence_type</th>\n",
       "      <th>avg_glucose_level</th>\n",
       "      <th>bmi</th>\n",
       "      <th>smoking_status</th>\n",
       "      <th>age-Tree</th>\n",
       "      <th>avg_glucose_level-Tree</th>\n",
       "      <th>bmi-Tree</th>\n",
       "      <th>gender_meantarget</th>\n",
       "      <th>hypertension_meantarget</th>\n",
       "      <th>heart_disease_meantarget</th>\n",
       "      <th>ever_married_meantarget</th>\n",
       "      <th>work_type_meantarget</th>\n",
       "      <th>Residence_type_meantarget</th>\n",
       "      <th>smoking_status_meantarget</th>\n",
       "    </tr>\n",
       "  </thead>\n",
       "  <tbody>\n",
       "    <tr>\n",
       "      <th>0</th>\n",
       "      <td>1</td>\n",
       "      <td>67.0</td>\n",
       "      <td>0</td>\n",
       "      <td>1</td>\n",
       "      <td>1</td>\n",
       "      <td>2</td>\n",
       "      <td>1</td>\n",
       "      <td>228.69</td>\n",
       "      <td>36.600000</td>\n",
       "      <td>1</td>\n",
       "      <td>0.166667</td>\n",
       "      <td>0.145749</td>\n",
       "      <td>0.043137</td>\n",
       "      <td>0.051064</td>\n",
       "      <td>0.039679</td>\n",
       "      <td>0.170290</td>\n",
       "      <td>0.065613</td>\n",
       "      <td>0.050940</td>\n",
       "      <td>0.052003</td>\n",
       "      <td>0.079096</td>\n",
       "    </tr>\n",
       "    <tr>\n",
       "      <th>1</th>\n",
       "      <td>0</td>\n",
       "      <td>61.0</td>\n",
       "      <td>0</td>\n",
       "      <td>0</td>\n",
       "      <td>1</td>\n",
       "      <td>3</td>\n",
       "      <td>0</td>\n",
       "      <td>202.21</td>\n",
       "      <td>30.571525</td>\n",
       "      <td>2</td>\n",
       "      <td>0.083333</td>\n",
       "      <td>0.145749</td>\n",
       "      <td>0.077174</td>\n",
       "      <td>0.047094</td>\n",
       "      <td>0.039679</td>\n",
       "      <td>0.041787</td>\n",
       "      <td>0.065613</td>\n",
       "      <td>0.079365</td>\n",
       "      <td>0.045346</td>\n",
       "      <td>0.047569</td>\n",
       "    </tr>\n",
       "    <tr>\n",
       "      <th>2</th>\n",
       "      <td>1</td>\n",
       "      <td>80.0</td>\n",
       "      <td>0</td>\n",
       "      <td>1</td>\n",
       "      <td>1</td>\n",
       "      <td>2</td>\n",
       "      <td>0</td>\n",
       "      <td>105.92</td>\n",
       "      <td>32.500000</td>\n",
       "      <td>2</td>\n",
       "      <td>0.275862</td>\n",
       "      <td>0.029611</td>\n",
       "      <td>0.043137</td>\n",
       "      <td>0.051064</td>\n",
       "      <td>0.039679</td>\n",
       "      <td>0.170290</td>\n",
       "      <td>0.065613</td>\n",
       "      <td>0.050940</td>\n",
       "      <td>0.045346</td>\n",
       "      <td>0.047569</td>\n",
       "    </tr>\n",
       "    <tr>\n",
       "      <th>3</th>\n",
       "      <td>0</td>\n",
       "      <td>49.0</td>\n",
       "      <td>0</td>\n",
       "      <td>0</td>\n",
       "      <td>1</td>\n",
       "      <td>2</td>\n",
       "      <td>1</td>\n",
       "      <td>171.23</td>\n",
       "      <td>34.400000</td>\n",
       "      <td>3</td>\n",
       "      <td>0.048780</td>\n",
       "      <td>0.000000</td>\n",
       "      <td>0.043137</td>\n",
       "      <td>0.047094</td>\n",
       "      <td>0.039679</td>\n",
       "      <td>0.041787</td>\n",
       "      <td>0.065613</td>\n",
       "      <td>0.050940</td>\n",
       "      <td>0.052003</td>\n",
       "      <td>0.053232</td>\n",
       "    </tr>\n",
       "    <tr>\n",
       "      <th>4</th>\n",
       "      <td>0</td>\n",
       "      <td>79.0</td>\n",
       "      <td>1</td>\n",
       "      <td>0</td>\n",
       "      <td>1</td>\n",
       "      <td>3</td>\n",
       "      <td>0</td>\n",
       "      <td>174.12</td>\n",
       "      <td>24.000000</td>\n",
       "      <td>2</td>\n",
       "      <td>0.145833</td>\n",
       "      <td>0.000000</td>\n",
       "      <td>0.030111</td>\n",
       "      <td>0.047094</td>\n",
       "      <td>0.132530</td>\n",
       "      <td>0.041787</td>\n",
       "      <td>0.065613</td>\n",
       "      <td>0.079365</td>\n",
       "      <td>0.045346</td>\n",
       "      <td>0.047569</td>\n",
       "    </tr>\n",
       "  </tbody>\n",
       "</table>\n",
       "</div>"
      ],
      "text/plain": [
       "   gender   age  hypertension  heart_disease  ever_married  work_type  \\\n",
       "0       1  67.0             0              1             1          2   \n",
       "1       0  61.0             0              0             1          3   \n",
       "2       1  80.0             0              1             1          2   \n",
       "3       0  49.0             0              0             1          2   \n",
       "4       0  79.0             1              0             1          3   \n",
       "\n",
       "   Residence_type  avg_glucose_level        bmi  smoking_status  age-Tree  \\\n",
       "0               1             228.69  36.600000               1  0.166667   \n",
       "1               0             202.21  30.571525               2  0.083333   \n",
       "2               0             105.92  32.500000               2  0.275862   \n",
       "3               1             171.23  34.400000               3  0.048780   \n",
       "4               0             174.12  24.000000               2  0.145833   \n",
       "\n",
       "   avg_glucose_level-Tree  bmi-Tree  gender_meantarget  \\\n",
       "0                0.145749  0.043137           0.051064   \n",
       "1                0.145749  0.077174           0.047094   \n",
       "2                0.029611  0.043137           0.051064   \n",
       "3                0.000000  0.043137           0.047094   \n",
       "4                0.000000  0.030111           0.047094   \n",
       "\n",
       "   hypertension_meantarget  heart_disease_meantarget  ever_married_meantarget  \\\n",
       "0                 0.039679                  0.170290                 0.065613   \n",
       "1                 0.039679                  0.041787                 0.065613   \n",
       "2                 0.039679                  0.170290                 0.065613   \n",
       "3                 0.039679                  0.041787                 0.065613   \n",
       "4                 0.132530                  0.041787                 0.065613   \n",
       "\n",
       "   work_type_meantarget  Residence_type_meantarget  smoking_status_meantarget  \n",
       "0              0.050940                   0.052003                   0.079096  \n",
       "1              0.079365                   0.045346                   0.047569  \n",
       "2              0.050940                   0.045346                   0.047569  \n",
       "3              0.050940                   0.052003                   0.053232  \n",
       "4              0.079365                   0.045346                   0.047569  "
      ]
     },
     "execution_count": 254,
     "metadata": {},
     "output_type": "execute_result"
    }
   ],
   "source": [
    "x.head()"
   ]
  },
  {
   "cell_type": "code",
   "execution_count": null,
   "metadata": {},
   "outputs": [],
   "source": []
  },
  {
   "cell_type": "code",
   "execution_count": 255,
   "metadata": {},
   "outputs": [],
   "source": [
    "train_x,test_x,train_y,test_y = train_test_split(x,y,test_size=1/4,random_state= r,stratify=y).copy()\n",
    "train_x,val_x,train_y,val_y= train_test_split(train_x, train_y, test_size=1/3,random_state=r,stratify=train_y).copy()"
   ]
  },
  {
   "cell_type": "code",
   "execution_count": 256,
   "metadata": {},
   "outputs": [],
   "source": [
    "finalcols=x.columns.tolist()"
   ]
  },
  {
   "cell_type": "markdown",
   "metadata": {},
   "source": [
    "## backward feature elimination"
   ]
  },
  {
   "cell_type": "markdown",
   "metadata": {},
   "source": [
    "1 column is removed whose removal causes least decrease in eval metric out of the present columns , this process continues till n columns are removed"
   ]
  },
  {
   "cell_type": "code",
   "execution_count": 257,
   "metadata": {},
   "outputs": [],
   "source": [
    "from mlxtend.feature_selection import SequentialFeatureSelector as sfs\n",
    "from sklearn.metrics import make_scorer\n",
    "def backfeat(nfeat):\n",
    " sfs1 = sfs(model, k_features=nfeat, forward=False)\n",
    " sfs0 = sfs1.fit(train_x, train_y)\n",
    " featlist = list(sfs0.k_feature_names_)\n",
    " featlist\n",
    " \n",
    " return featlist"
   ]
  },
  {
   "cell_type": "code",
   "execution_count": 258,
   "metadata": {},
   "outputs": [],
   "source": [
    "#LARGE EXECUTION TIME ESPECIALLY TO REDUCE TO SMALLER NO OF COLUMNS\n",
    "#increase step to to even execute it on next block \n",
    "backcollist,backfeatlist=[[],[]]\n",
    "step=1\n",
    "for i in range(4,(len(x.columns.tolist())),step):\n",
    "   backfeatlist.append(backfeat(i))\n",
    "   backcollist.append(i)"
   ]
  },
  {
   "cell_type": "code",
   "execution_count": 259,
   "metadata": {},
   "outputs": [
    {
     "data": {
      "text/plain": [
       "[['gender', 'age', 'hypertension', 'heart_disease'],\n",
       " ['gender', 'age', 'hypertension', 'heart_disease', 'work_type'],\n",
       " ['gender',\n",
       "  'age',\n",
       "  'hypertension',\n",
       "  'heart_disease',\n",
       "  'work_type',\n",
       "  'Residence_type'],\n",
       " ['gender',\n",
       "  'age',\n",
       "  'hypertension',\n",
       "  'heart_disease',\n",
       "  'work_type',\n",
       "  'Residence_type',\n",
       "  'avg_glucose_level'],\n",
       " ['gender',\n",
       "  'age',\n",
       "  'hypertension',\n",
       "  'heart_disease',\n",
       "  'work_type',\n",
       "  'Residence_type',\n",
       "  'avg_glucose_level',\n",
       "  'hypertension_meantarget'],\n",
       " ['gender',\n",
       "  'age',\n",
       "  'hypertension',\n",
       "  'heart_disease',\n",
       "  'work_type',\n",
       "  'Residence_type',\n",
       "  'avg_glucose_level',\n",
       "  'hypertension_meantarget',\n",
       "  'work_type_meantarget'],\n",
       " ['gender',\n",
       "  'age',\n",
       "  'hypertension',\n",
       "  'heart_disease',\n",
       "  'work_type',\n",
       "  'Residence_type',\n",
       "  'avg_glucose_level',\n",
       "  'bmi',\n",
       "  'hypertension_meantarget',\n",
       "  'work_type_meantarget'],\n",
       " ['gender',\n",
       "  'age',\n",
       "  'hypertension',\n",
       "  'heart_disease',\n",
       "  'work_type',\n",
       "  'Residence_type',\n",
       "  'avg_glucose_level',\n",
       "  'bmi',\n",
       "  'smoking_status',\n",
       "  'hypertension_meantarget',\n",
       "  'work_type_meantarget'],\n",
       " ['gender',\n",
       "  'age',\n",
       "  'hypertension',\n",
       "  'heart_disease',\n",
       "  'work_type',\n",
       "  'Residence_type',\n",
       "  'avg_glucose_level',\n",
       "  'bmi',\n",
       "  'smoking_status',\n",
       "  'gender_meantarget',\n",
       "  'hypertension_meantarget',\n",
       "  'work_type_meantarget'],\n",
       " ['gender',\n",
       "  'age',\n",
       "  'hypertension',\n",
       "  'heart_disease',\n",
       "  'work_type',\n",
       "  'Residence_type',\n",
       "  'avg_glucose_level',\n",
       "  'bmi',\n",
       "  'smoking_status',\n",
       "  'gender_meantarget',\n",
       "  'hypertension_meantarget',\n",
       "  'work_type_meantarget',\n",
       "  'Residence_type_meantarget'],\n",
       " ['gender',\n",
       "  'age',\n",
       "  'hypertension',\n",
       "  'heart_disease',\n",
       "  'work_type',\n",
       "  'Residence_type',\n",
       "  'avg_glucose_level',\n",
       "  'bmi',\n",
       "  'smoking_status',\n",
       "  'age-Tree',\n",
       "  'gender_meantarget',\n",
       "  'hypertension_meantarget',\n",
       "  'work_type_meantarget',\n",
       "  'Residence_type_meantarget'],\n",
       " ['gender',\n",
       "  'age',\n",
       "  'hypertension',\n",
       "  'heart_disease',\n",
       "  'work_type',\n",
       "  'Residence_type',\n",
       "  'avg_glucose_level',\n",
       "  'bmi',\n",
       "  'smoking_status',\n",
       "  'age-Tree',\n",
       "  'gender_meantarget',\n",
       "  'hypertension_meantarget',\n",
       "  'heart_disease_meantarget',\n",
       "  'work_type_meantarget',\n",
       "  'Residence_type_meantarget'],\n",
       " ['gender',\n",
       "  'age',\n",
       "  'hypertension',\n",
       "  'heart_disease',\n",
       "  'ever_married',\n",
       "  'work_type',\n",
       "  'Residence_type',\n",
       "  'avg_glucose_level',\n",
       "  'bmi',\n",
       "  'smoking_status',\n",
       "  'age-Tree',\n",
       "  'gender_meantarget',\n",
       "  'hypertension_meantarget',\n",
       "  'heart_disease_meantarget',\n",
       "  'work_type_meantarget',\n",
       "  'Residence_type_meantarget'],\n",
       " ['gender',\n",
       "  'age',\n",
       "  'hypertension',\n",
       "  'heart_disease',\n",
       "  'ever_married',\n",
       "  'work_type',\n",
       "  'Residence_type',\n",
       "  'avg_glucose_level',\n",
       "  'bmi',\n",
       "  'smoking_status',\n",
       "  'age-Tree',\n",
       "  'avg_glucose_level-Tree',\n",
       "  'gender_meantarget',\n",
       "  'hypertension_meantarget',\n",
       "  'heart_disease_meantarget',\n",
       "  'work_type_meantarget',\n",
       "  'Residence_type_meantarget'],\n",
       " ['gender',\n",
       "  'age',\n",
       "  'hypertension',\n",
       "  'heart_disease',\n",
       "  'ever_married',\n",
       "  'work_type',\n",
       "  'Residence_type',\n",
       "  'avg_glucose_level',\n",
       "  'bmi',\n",
       "  'smoking_status',\n",
       "  'age-Tree',\n",
       "  'avg_glucose_level-Tree',\n",
       "  'gender_meantarget',\n",
       "  'hypertension_meantarget',\n",
       "  'heart_disease_meantarget',\n",
       "  'work_type_meantarget',\n",
       "  'Residence_type_meantarget',\n",
       "  'smoking_status_meantarget'],\n",
       " ['gender',\n",
       "  'age',\n",
       "  'hypertension',\n",
       "  'heart_disease',\n",
       "  'ever_married',\n",
       "  'work_type',\n",
       "  'Residence_type',\n",
       "  'avg_glucose_level',\n",
       "  'bmi',\n",
       "  'smoking_status',\n",
       "  'age-Tree',\n",
       "  'avg_glucose_level-Tree',\n",
       "  'bmi-Tree',\n",
       "  'gender_meantarget',\n",
       "  'hypertension_meantarget',\n",
       "  'heart_disease_meantarget',\n",
       "  'work_type_meantarget',\n",
       "  'Residence_type_meantarget',\n",
       "  'smoking_status_meantarget']]"
      ]
     },
     "execution_count": 259,
     "metadata": {},
     "output_type": "execute_result"
    }
   ],
   "source": [
    "backfeatlist"
   ]
  },
  {
   "cell_type": "code",
   "execution_count": 260,
   "metadata": {},
   "outputs": [],
   "source": [
    " scorelist=[]\n",
    " topfeatlist=[]\n",
    " topfeatscorelist=[]\n",
    " score=0\n",
    " max_=0\n",
    " for j in backcollist:\n",
    "  x1=x[backfeatlist[backcollist.index(j)]].copy()\n",
    "  trainx,testx,trainy,testy = train_test_split(x1,y,test_size=1/4,random_state= r,stratify=y).copy()\n",
    "  trainx,valx,trainy,valy= train_test_split(trainx, trainy, test_size=1/3,random_state=r,stratify=trainy).copy()\n",
    "    \n",
    "  model.fit(trainx,trainy)\n",
    "  pred= model.predict_proba(valx).copy()\n",
    "  score=auc(valy,pred[:,1])\n",
    "  scorelist.append(score)\n",
    "  if(score>max_):\n",
    "    max_=score\n",
    "    topn_feat=j\n",
    " topfeatlist.append(topn_feat)\n",
    " topfeatscorelist.append(max_)  "
   ]
  },
  {
   "cell_type": "code",
   "execution_count": 261,
   "metadata": {},
   "outputs": [
    {
     "data": {
      "text/plain": [
       "[0.8423307512733447,\n",
       " 0.8443070882852292,\n",
       " 0.8415282788624787,\n",
       " 0.8385903013582343,\n",
       " 0.8385637733446519,\n",
       " 0.8382321731748728,\n",
       " 0.8399034380305603,\n",
       " 0.8294116086587436,\n",
       " 0.8378077249575552,\n",
       " 0.8370782045840408,\n",
       " 0.8317195458404074,\n",
       " 0.8352477716468591,\n",
       " 0.8304727292020373,\n",
       " 0.8351681876061121,\n",
       " 0.8348100594227503,\n",
       " 0.840964558573854]"
      ]
     },
     "execution_count": 261,
     "metadata": {},
     "output_type": "execute_result"
    }
   ],
   "source": [
    "scorelist"
   ]
  },
  {
   "cell_type": "code",
   "execution_count": 262,
   "metadata": {},
   "outputs": [],
   "source": [
    "#LARGE EXECUTION TIME ESPECIALLY TO REDUCE TO SMALLER NO OF COLUMNS\n",
    "backcollist,backfeatlist=[[],[]]\n",
    "if (topn_feat+step)>len(x.columns):\n",
    " upperlimit=len(x.columns)\n",
    "else:\n",
    " upperlimit=(topn_feat+step)\n",
    "for i in range((topn_feat-step+1),upperlimit):\n",
    "    backfeatlist.append(backfeat(i))\n",
    "    backcollist.append(i)"
   ]
  },
  {
   "cell_type": "code",
   "execution_count": 263,
   "metadata": {},
   "outputs": [],
   "source": [
    "\n",
    " topfeatlist=[]\n",
    " topfeatscorelist=[]\n",
    " score=0\n",
    " max_=0\n",
    " for j in backcollist:\n",
    "  x1=x[backfeatlist[backcollist.index(j)]].copy()\n",
    "  trainx,testx,trainy,testy = train_test_split(x1,y,test_size=1/4,random_state= r,stratify=y).copy()\n",
    "  trainx,valx,trainy,valy= train_test_split(trainx, trainy, test_size=1/3,random_state=r,stratify=trainy).copy()\n",
    " \n",
    "  model.fit(trainx,trainy)\n",
    "  pred= model.predict_proba(valx).copy()\n",
    "  score=auc(valy,pred[:,1])\n",
    "\n",
    "  if(score>max_):\n",
    "    max_=score\n",
    "    topn_feat_back=j\n",
    " topfeatlist.append(topn_feat_back)\n",
    " topfeatscorelist.append(max_)  "
   ]
  },
  {
   "cell_type": "code",
   "execution_count": 265,
   "metadata": {},
   "outputs": [
    {
     "data": {
      "text/plain": [
       "([5], [0.8443070882852292])"
      ]
     },
     "execution_count": 265,
     "metadata": {},
     "output_type": "execute_result"
    }
   ],
   "source": [
    "topfeatlist,topfeatscorelist"
   ]
  },
  {
   "cell_type": "code",
   "execution_count": 266,
   "metadata": {},
   "outputs": [
    {
     "data": {
      "text/plain": [
       "5"
      ]
     },
     "execution_count": 266,
     "metadata": {},
     "output_type": "execute_result"
    }
   ],
   "source": [
    "backfeatcol=(topfeatlist[0])\n",
    "backfeatcol"
   ]
  },
  {
   "cell_type": "code",
   "execution_count": 267,
   "metadata": {},
   "outputs": [
    {
     "data": {
      "text/plain": [
       "['gender', 'age', 'hypertension', 'heart_disease', 'work_type']"
      ]
     },
     "execution_count": 267,
     "metadata": {},
     "output_type": "execute_result"
    }
   ],
   "source": [
    "backfeatcols=backfeatlist[backcollist.index(topn_feat_back)]\n",
    "backfeatcols"
   ]
  },
  {
   "cell_type": "code",
   "execution_count": 268,
   "metadata": {},
   "outputs": [],
   "source": [
    "x=x[backfeatcols].copy()\n",
    "train_x,test_x,train_y,test_y = train_test_split(x,y,test_size=1/4,random_state= r,stratify=y).copy()\n",
    "train_x,val_x,train_y,val_y= train_test_split(train_x, train_y, test_size=1/3,random_state=r,stratify=train_y).copy()"
   ]
  },
  {
   "cell_type": "markdown",
   "metadata": {},
   "source": [
    "# test"
   ]
  },
  {
   "cell_type": "markdown",
   "metadata": {},
   "source": [
    "## with main columns with respect to each evaluation metric"
   ]
  },
  {
   "cell_type": "code",
   "execution_count": 269,
   "metadata": {},
   "outputs": [],
   "source": [
    " predicted_wrt_evaluationmetrics=[]\n",
    " model.fit(train_x,train_y)\n",
    " test_predict= model.predict_proba(test_x).copy()\n",
    " eval_score1=auc(test_y,test_predict[:,1])\n",
    " predicted_wrt_evaluationmetrics.append(test_predict[:,1])"
   ]
  },
  {
   "cell_type": "code",
   "execution_count": 270,
   "metadata": {},
   "outputs": [
    {
     "data": {
      "text/plain": [
       "0.8409579265704584"
      ]
     },
     "execution_count": 270,
     "metadata": {},
     "output_type": "execute_result"
    }
   ],
   "source": [
    "eval_score1"
   ]
  },
  {
   "cell_type": "code",
   "execution_count": 271,
   "metadata": {},
   "outputs": [
    {
     "data": {
      "text/plain": [
       "array([0.05878971, 0.01232124, 0.16055998, 0.05207465, 0.07403989,\n",
       "       0.03061624, 0.00544451, 0.01397726, 0.00456669, 0.00272958,\n",
       "       0.0558737 , 0.01343622, 0.01952264, 0.02358081, 0.0340648 ,\n",
       "       0.00456669, 0.21223458, 0.01474087, 0.05027586, 0.06581479,\n",
       "       0.0010745 , 0.06481936, 0.1468511 , 0.04392419, 0.00763973,\n",
       "       0.15603103, 0.03829898, 0.0060684 , 0.02664783, 0.01418722,\n",
       "       0.00879273, 0.00630724, 0.01474087, 0.0212999 , 0.08572288,\n",
       "       0.05761908, 0.00368882, 0.00805993, 0.04482982, 0.00113401,\n",
       "       0.21572347, 0.00432781, 0.00368882, 0.243657  , 0.0083765 ,\n",
       "       0.05222181, 0.09461786, 0.02083509, 0.01474087, 0.00070414,\n",
       "       0.17386478, 0.24975441, 0.01014169, 0.04546399, 0.021965  ,\n",
       "       0.03819685, 0.11818369, 0.17314046, 0.07524777, 0.0012179 ,\n",
       "       0.0235536 , 0.00080759, 0.0558737 , 0.01879283, 0.0832916 ,\n",
       "       0.12001839, 0.0015352 , 0.01573701, 0.00244811, 0.00865176,\n",
       "       0.08891238, 0.00227967, 0.15858711, 0.00750829, 0.00616754,\n",
       "       0.00164873, 0.03575228, 0.03825545, 0.10787573, 0.00565228,\n",
       "       0.03008359, 0.00277433, 0.00928663, 0.04387455, 0.22394365,\n",
       "       0.00105589, 0.04186775, 0.04101938, 0.03113953, 0.00065539,\n",
       "       0.04186775, 0.00133104, 0.04950301, 0.01814772, 0.00996763,\n",
       "       0.02395916, 0.00086736, 0.00070414, 0.01661444, 0.00996763])"
      ]
     },
     "execution_count": 271,
     "metadata": {},
     "output_type": "execute_result"
    }
   ],
   "source": [
    "test_predict[:,1][:100]"
   ]
  },
  {
   "cell_type": "code",
   "execution_count": 272,
   "metadata": {},
   "outputs": [
    {
     "data": {
      "text/plain": [
       "array([0, 0, 0, 0, 0, 0, 0, 0, 0, 0, 0, 0, 0, 0, 0, 0, 0, 0, 0, 0, 0, 0,\n",
       "       0, 0, 0, 0, 0, 0, 0, 0, 0, 0, 0, 0, 0, 0, 0, 0, 0, 0, 0, 0, 0, 1,\n",
       "       0, 0, 0, 0, 0, 0, 0, 0, 0, 0, 0, 0, 0, 0, 0, 0, 0, 0, 0, 0, 0, 0,\n",
       "       0, 0, 0, 0, 0, 0, 0, 0, 0, 0, 0, 0, 0, 0, 0, 0, 0, 0, 0, 0, 0, 0,\n",
       "       0, 0, 0, 0, 1, 0, 0, 0, 0, 0, 0, 0])"
      ]
     },
     "execution_count": 272,
     "metadata": {},
     "output_type": "execute_result"
    }
   ],
   "source": [
    "np.array(test_y)[:100]"
   ]
  },
  {
   "cell_type": "code",
   "execution_count": 273,
   "metadata": {},
   "outputs": [],
   "source": [
    "x[target]=data[target]"
   ]
  },
  {
   "cell_type": "code",
   "execution_count": 274,
   "metadata": {},
   "outputs": [
    {
     "data": {
      "text/html": [
       "<div>\n",
       "<style scoped>\n",
       "    .dataframe tbody tr th:only-of-type {\n",
       "        vertical-align: middle;\n",
       "    }\n",
       "\n",
       "    .dataframe tbody tr th {\n",
       "        vertical-align: top;\n",
       "    }\n",
       "\n",
       "    .dataframe thead th {\n",
       "        text-align: right;\n",
       "    }\n",
       "</style>\n",
       "<table border=\"1\" class=\"dataframe\">\n",
       "  <thead>\n",
       "    <tr style=\"text-align: right;\">\n",
       "      <th></th>\n",
       "      <th>gender</th>\n",
       "      <th>age</th>\n",
       "      <th>hypertension</th>\n",
       "      <th>heart_disease</th>\n",
       "      <th>work_type</th>\n",
       "      <th>stroke</th>\n",
       "    </tr>\n",
       "  </thead>\n",
       "  <tbody>\n",
       "    <tr>\n",
       "      <th>0</th>\n",
       "      <td>1</td>\n",
       "      <td>67.0</td>\n",
       "      <td>0</td>\n",
       "      <td>1</td>\n",
       "      <td>2</td>\n",
       "      <td>1</td>\n",
       "    </tr>\n",
       "    <tr>\n",
       "      <th>1</th>\n",
       "      <td>0</td>\n",
       "      <td>61.0</td>\n",
       "      <td>0</td>\n",
       "      <td>0</td>\n",
       "      <td>3</td>\n",
       "      <td>1</td>\n",
       "    </tr>\n",
       "    <tr>\n",
       "      <th>2</th>\n",
       "      <td>1</td>\n",
       "      <td>80.0</td>\n",
       "      <td>0</td>\n",
       "      <td>1</td>\n",
       "      <td>2</td>\n",
       "      <td>1</td>\n",
       "    </tr>\n",
       "    <tr>\n",
       "      <th>3</th>\n",
       "      <td>0</td>\n",
       "      <td>49.0</td>\n",
       "      <td>0</td>\n",
       "      <td>0</td>\n",
       "      <td>2</td>\n",
       "      <td>1</td>\n",
       "    </tr>\n",
       "    <tr>\n",
       "      <th>4</th>\n",
       "      <td>0</td>\n",
       "      <td>79.0</td>\n",
       "      <td>1</td>\n",
       "      <td>0</td>\n",
       "      <td>3</td>\n",
       "      <td>1</td>\n",
       "    </tr>\n",
       "  </tbody>\n",
       "</table>\n",
       "</div>"
      ],
      "text/plain": [
       "   gender   age  hypertension  heart_disease  work_type  stroke\n",
       "0       1  67.0             0              1          2       1\n",
       "1       0  61.0             0              0          3       1\n",
       "2       1  80.0             0              1          2       1\n",
       "3       0  49.0             0              0          2       1\n",
       "4       0  79.0             1              0          3       1"
      ]
     },
     "execution_count": 274,
     "metadata": {},
     "output_type": "execute_result"
    }
   ],
   "source": [
    "x.head()"
   ]
  },
  {
   "cell_type": "code",
   "execution_count": 275,
   "metadata": {},
   "outputs": [],
   "source": [
    "x.to_csv('COLUMN FILTERED[lmain].csv')"
   ]
  },
  {
   "cell_type": "code",
   "execution_count": null,
   "metadata": {},
   "outputs": [],
   "source": []
  }
 ],
 "metadata": {
  "colab": {
   "collapsed_sections": [],
   "name": "Logistic regression Notebook.ipynb",
   "provenance": [],
   "version": "0.3.2"
  },
  "kernelspec": {
   "display_name": "Python 3 (ipykernel)",
   "language": "python",
   "name": "python3"
  },
  "language_info": {
   "codemirror_mode": {
    "name": "ipython",
    "version": 3
   },
   "file_extension": ".py",
   "mimetype": "text/x-python",
   "name": "python",
   "nbconvert_exporter": "python",
   "pygments_lexer": "ipython3",
   "version": "3.8.5"
  }
 },
 "nbformat": 4,
 "nbformat_minor": 1
}
