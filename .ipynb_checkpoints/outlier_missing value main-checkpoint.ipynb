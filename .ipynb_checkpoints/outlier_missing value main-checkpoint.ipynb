{
 "cells": [
  {
   "cell_type": "code",
   "execution_count": 157,
   "id": "76ae2ca9",
   "metadata": {},
   "outputs": [],
   "source": [
    "#importing libraries \n",
    "import pandas as pd \n",
    "import numpy as np\n",
    "import matplotlib.pyplot as plt\n",
    "%matplotlib inline\n",
    "import sklearn\n",
    "import seaborn as sns\n",
    "import math\n",
    "import statsmodels.api as sm"
   ]
  },
  {
   "cell_type": "code",
   "execution_count": 158,
   "id": "7690a7e8",
   "metadata": {},
   "outputs": [],
   "source": [
    "from sklearn.metrics import f1_score as f1\n",
    "from sklearn.preprocessing import LabelEncoder\n",
    "from sklearn.preprocessing import MinMaxScaler\n",
    "from sklearn.linear_model import LogisticRegression as logreg\n",
    "from sklearn.linear_model import LinearRegression as linreg\n",
    "\n",
    "from sklearn.model_selection import train_test_split\n",
    "from sklearn.metrics import roc_auc_score as auc, accuracy_score as acc, confusion_matrix as cm \n",
    "from sklearn.metrics import precision_score as prec, recall_score as rec,average_precision_score as aps\n",
    "\n",
    "from pandas.core.common import SettingWithCopyWarning\n",
    "import warnings\n",
    "import warnings\n",
    "warnings.simplefilter(action='ignore', category=FutureWarning)\n",
    "warnings.simplefilter(action='ignore', category=UserWarning)\n",
    "warnings.simplefilter(action='ignore', category=RuntimeWarning)\n",
    "warnings.simplefilter(action='ignore', category=SettingWithCopyWarning)"
   ]
  },
  {
   "cell_type": "markdown",
   "id": "afbf3def",
   "metadata": {},
   "source": [
    "## random state"
   ]
  },
  {
   "cell_type": "code",
   "execution_count": 159,
   "id": "076846e0",
   "metadata": {},
   "outputs": [],
   "source": [
    "r=84"
   ]
  },
  {
   "cell_type": "code",
   "execution_count": 160,
   "id": "8ec35987",
   "metadata": {},
   "outputs": [
    {
     "data": {
      "text/html": [
       "<div>\n",
       "<style scoped>\n",
       "    .dataframe tbody tr th:only-of-type {\n",
       "        vertical-align: middle;\n",
       "    }\n",
       "\n",
       "    .dataframe tbody tr th {\n",
       "        vertical-align: top;\n",
       "    }\n",
       "\n",
       "    .dataframe thead th {\n",
       "        text-align: right;\n",
       "    }\n",
       "</style>\n",
       "<table border=\"1\" class=\"dataframe\">\n",
       "  <thead>\n",
       "    <tr style=\"text-align: right;\">\n",
       "      <th></th>\n",
       "      <th>Unnamed: 0</th>\n",
       "      <th>ID</th>\n",
       "      <th>Gender</th>\n",
       "      <th>Age</th>\n",
       "      <th>Region_Code</th>\n",
       "      <th>Occupation</th>\n",
       "      <th>Channel_Code</th>\n",
       "      <th>Vintage</th>\n",
       "      <th>Credit_Product</th>\n",
       "      <th>Avg_Account_Balance</th>\n",
       "      <th>Is_Active</th>\n",
       "      <th>Is_Lead</th>\n",
       "    </tr>\n",
       "  </thead>\n",
       "  <tbody>\n",
       "    <tr>\n",
       "      <th>0</th>\n",
       "      <td>0</td>\n",
       "      <td>NNVBBKZB</td>\n",
       "      <td>Female</td>\n",
       "      <td>73</td>\n",
       "      <td>RG268</td>\n",
       "      <td>Other</td>\n",
       "      <td>X3</td>\n",
       "      <td>43</td>\n",
       "      <td>No</td>\n",
       "      <td>1045696</td>\n",
       "      <td>No</td>\n",
       "      <td>0</td>\n",
       "    </tr>\n",
       "    <tr>\n",
       "      <th>1</th>\n",
       "      <td>1</td>\n",
       "      <td>IDD62UNG</td>\n",
       "      <td>Female</td>\n",
       "      <td>30</td>\n",
       "      <td>RG277</td>\n",
       "      <td>Salaried</td>\n",
       "      <td>X1</td>\n",
       "      <td>32</td>\n",
       "      <td>No</td>\n",
       "      <td>581988</td>\n",
       "      <td>No</td>\n",
       "      <td>0</td>\n",
       "    </tr>\n",
       "    <tr>\n",
       "      <th>2</th>\n",
       "      <td>2</td>\n",
       "      <td>HD3DSEMC</td>\n",
       "      <td>Female</td>\n",
       "      <td>56</td>\n",
       "      <td>RG268</td>\n",
       "      <td>Self_Employed</td>\n",
       "      <td>X3</td>\n",
       "      <td>26</td>\n",
       "      <td>No</td>\n",
       "      <td>1484315</td>\n",
       "      <td>Yes</td>\n",
       "      <td>0</td>\n",
       "    </tr>\n",
       "    <tr>\n",
       "      <th>3</th>\n",
       "      <td>3</td>\n",
       "      <td>BF3NC7KV</td>\n",
       "      <td>Male</td>\n",
       "      <td>34</td>\n",
       "      <td>RG270</td>\n",
       "      <td>Salaried</td>\n",
       "      <td>X1</td>\n",
       "      <td>19</td>\n",
       "      <td>No</td>\n",
       "      <td>470454</td>\n",
       "      <td>No</td>\n",
       "      <td>0</td>\n",
       "    </tr>\n",
       "    <tr>\n",
       "      <th>4</th>\n",
       "      <td>4</td>\n",
       "      <td>TEASRWXV</td>\n",
       "      <td>Female</td>\n",
       "      <td>30</td>\n",
       "      <td>RG282</td>\n",
       "      <td>Salaried</td>\n",
       "      <td>X1</td>\n",
       "      <td>33</td>\n",
       "      <td>No</td>\n",
       "      <td>886787</td>\n",
       "      <td>No</td>\n",
       "      <td>0</td>\n",
       "    </tr>\n",
       "  </tbody>\n",
       "</table>\n",
       "</div>"
      ],
      "text/plain": [
       "   Unnamed: 0        ID  Gender  Age Region_Code     Occupation Channel_Code  \\\n",
       "0           0  NNVBBKZB  Female   73       RG268          Other           X3   \n",
       "1           1  IDD62UNG  Female   30       RG277       Salaried           X1   \n",
       "2           2  HD3DSEMC  Female   56       RG268  Self_Employed           X3   \n",
       "3           3  BF3NC7KV    Male   34       RG270       Salaried           X1   \n",
       "4           4  TEASRWXV  Female   30       RG282       Salaried           X1   \n",
       "\n",
       "   Vintage Credit_Product  Avg_Account_Balance Is_Active  Is_Lead  \n",
       "0       43             No              1045696        No        0  \n",
       "1       32             No               581988        No        0  \n",
       "2       26             No              1484315       Yes        0  \n",
       "3       19             No               470454        No        0  \n",
       "4       33             No               886787        No        0  "
      ]
     },
     "execution_count": 160,
     "metadata": {},
     "output_type": "execute_result"
    }
   ],
   "source": [
    "data = pd.read_csv('csv1.csv')\n",
    "data.head()"
   ]
  },
  {
   "cell_type": "code",
   "execution_count": 161,
   "id": "e5b1160e",
   "metadata": {},
   "outputs": [],
   "source": [
    "target='Is_Lead'         \n",
    "model= logreg()\n",
    "lr=linreg()\n",
    "scaler = MinMaxScaler()"
   ]
  },
  {
   "cell_type": "markdown",
   "id": "e822084a",
   "metadata": {},
   "source": [
    "## preprocessing"
   ]
  },
  {
   "cell_type": "code",
   "execution_count": 162,
   "id": "54011f34",
   "metadata": {},
   "outputs": [],
   "source": [
    "data=data[[z for z in data.columns.tolist() if z not in ['Unnamed: 0']]].copy()"
   ]
  },
  {
   "cell_type": "code",
   "execution_count": 163,
   "id": "cbcc8b51",
   "metadata": {},
   "outputs": [],
   "source": [
    "data=data[[z for z in data.columns.tolist() if z not in ['ID']]].copy()"
   ]
  },
  {
   "cell_type": "code",
   "execution_count": 164,
   "id": "d8cb9668",
   "metadata": {},
   "outputs": [],
   "source": [
    "labelencode=['Gender','Region_Code','Occupation','Channel_Code','Credit_Product','Is_Active']\n",
    "\n",
    "for i in labelencode:\n",
    " le = LabelEncoder()\n",
    " le.fit(data[i])\n",
    " data[i]=le.transform(data[i])"
   ]
  },
  {
   "cell_type": "code",
   "execution_count": 165,
   "id": "6e4834d9",
   "metadata": {},
   "outputs": [
    {
     "data": {
      "text/html": [
       "<div>\n",
       "<style scoped>\n",
       "    .dataframe tbody tr th:only-of-type {\n",
       "        vertical-align: middle;\n",
       "    }\n",
       "\n",
       "    .dataframe tbody tr th {\n",
       "        vertical-align: top;\n",
       "    }\n",
       "\n",
       "    .dataframe thead th {\n",
       "        text-align: right;\n",
       "    }\n",
       "</style>\n",
       "<table border=\"1\" class=\"dataframe\">\n",
       "  <thead>\n",
       "    <tr style=\"text-align: right;\">\n",
       "      <th></th>\n",
       "      <th>Gender</th>\n",
       "      <th>Age</th>\n",
       "      <th>Region_Code</th>\n",
       "      <th>Occupation</th>\n",
       "      <th>Channel_Code</th>\n",
       "      <th>Vintage</th>\n",
       "      <th>Credit_Product</th>\n",
       "      <th>Avg_Account_Balance</th>\n",
       "      <th>Is_Active</th>\n",
       "      <th>Is_Lead</th>\n",
       "    </tr>\n",
       "  </thead>\n",
       "  <tbody>\n",
       "    <tr>\n",
       "      <th>0</th>\n",
       "      <td>0</td>\n",
       "      <td>73</td>\n",
       "      <td>18</td>\n",
       "      <td>1</td>\n",
       "      <td>2</td>\n",
       "      <td>43</td>\n",
       "      <td>0</td>\n",
       "      <td>1045696</td>\n",
       "      <td>0</td>\n",
       "      <td>0</td>\n",
       "    </tr>\n",
       "    <tr>\n",
       "      <th>1</th>\n",
       "      <td>0</td>\n",
       "      <td>30</td>\n",
       "      <td>27</td>\n",
       "      <td>2</td>\n",
       "      <td>0</td>\n",
       "      <td>32</td>\n",
       "      <td>0</td>\n",
       "      <td>581988</td>\n",
       "      <td>0</td>\n",
       "      <td>0</td>\n",
       "    </tr>\n",
       "    <tr>\n",
       "      <th>2</th>\n",
       "      <td>0</td>\n",
       "      <td>56</td>\n",
       "      <td>18</td>\n",
       "      <td>3</td>\n",
       "      <td>2</td>\n",
       "      <td>26</td>\n",
       "      <td>0</td>\n",
       "      <td>1484315</td>\n",
       "      <td>1</td>\n",
       "      <td>0</td>\n",
       "    </tr>\n",
       "    <tr>\n",
       "      <th>3</th>\n",
       "      <td>1</td>\n",
       "      <td>34</td>\n",
       "      <td>20</td>\n",
       "      <td>2</td>\n",
       "      <td>0</td>\n",
       "      <td>19</td>\n",
       "      <td>0</td>\n",
       "      <td>470454</td>\n",
       "      <td>0</td>\n",
       "      <td>0</td>\n",
       "    </tr>\n",
       "    <tr>\n",
       "      <th>4</th>\n",
       "      <td>0</td>\n",
       "      <td>30</td>\n",
       "      <td>32</td>\n",
       "      <td>2</td>\n",
       "      <td>0</td>\n",
       "      <td>33</td>\n",
       "      <td>0</td>\n",
       "      <td>886787</td>\n",
       "      <td>0</td>\n",
       "      <td>0</td>\n",
       "    </tr>\n",
       "  </tbody>\n",
       "</table>\n",
       "</div>"
      ],
      "text/plain": [
       "   Gender  Age  Region_Code  Occupation  Channel_Code  Vintage  \\\n",
       "0       0   73           18           1             2       43   \n",
       "1       0   30           27           2             0       32   \n",
       "2       0   56           18           3             2       26   \n",
       "3       1   34           20           2             0       19   \n",
       "4       0   30           32           2             0       33   \n",
       "\n",
       "   Credit_Product  Avg_Account_Balance  Is_Active  Is_Lead  \n",
       "0               0              1045696          0        0  \n",
       "1               0               581988          0        0  \n",
       "2               0              1484315          1        0  \n",
       "3               0               470454          0        0  \n",
       "4               0               886787          0        0  "
      ]
     },
     "execution_count": 165,
     "metadata": {},
     "output_type": "execute_result"
    }
   ],
   "source": [
    "data.head()"
   ]
  },
  {
   "cell_type": "code",
   "execution_count": 166,
   "id": "7688c258",
   "metadata": {},
   "outputs": [],
   "source": [
    "data=(data[[z for z in data.columns.tolist() if z not in ['Unnamed: 0']]]).copy()"
   ]
  },
  {
   "cell_type": "markdown",
   "id": "652d7acd",
   "metadata": {},
   "source": [
    "## missing values"
   ]
  },
  {
   "cell_type": "code",
   "execution_count": 167,
   "id": "abf061b3",
   "metadata": {},
   "outputs": [],
   "source": [
    "kval_n=2"
   ]
  },
  {
   "cell_type": "code",
   "execution_count": 168,
   "id": "aab46a41",
   "metadata": {},
   "outputs": [],
   "source": [
    "def kval(main,step,n=kval_n):\n",
    "\n",
    " klist=[]\n",
    " if (step==0):\n",
    "    step=0.0001\n",
    " i=main-step*n\n",
    " if (main>=0):\n",
    "  while (i<=main+step*n):\n",
    "    \n",
    "    klist.append(i)\n",
    "    i=i+step\n",
    "  return klist\n",
    " else:\n",
    "  while (i>=main+step*n):\n",
    "    \n",
    "    klist.append(i)\n",
    "    i=i+step\n",
    "  return klist\n",
    "  "
   ]
  },
  {
   "cell_type": "markdown",
   "id": "66c65b16",
   "metadata": {},
   "source": [
    "best way to do missing value imputation is threshholding and creating an ml model where we have to predict missing value so we have to create n models if m columns have missing values and m-t columns are dropped as their missing values cross the threshhold.t-n missing values are imputed using mean mode etc.n missing values are computed by models.the threshhold for deciding t from n can be randomly selected"
   ]
  },
  {
   "cell_type": "code",
   "execution_count": 169,
   "id": "f7a866d0",
   "metadata": {
    "scrolled": true
   },
   "outputs": [
    {
     "data": {
      "text/plain": [
       "Gender                 0\n",
       "Age                    0\n",
       "Region_Code            0\n",
       "Occupation             0\n",
       "Channel_Code           0\n",
       "Vintage                0\n",
       "Credit_Product         0\n",
       "Avg_Account_Balance    0\n",
       "Is_Active              0\n",
       "Is_Lead                0\n",
       "dtype: int64"
      ]
     },
     "execution_count": 169,
     "metadata": {},
     "output_type": "execute_result"
    }
   ],
   "source": [
    "data.isnull().sum()"
   ]
  },
  {
   "cell_type": "code",
   "execution_count": 170,
   "id": "e73360e8",
   "metadata": {},
   "outputs": [],
   "source": [
    "intlist=data.dtypes[data.dtypes=='int64'].index.tolist()\n",
    "floatlist=data.dtypes[data.dtypes=='float64'].index.tolist()"
   ]
  },
  {
   "cell_type": "code",
   "execution_count": null,
   "id": "4d51c09f",
   "metadata": {},
   "outputs": [],
   "source": [
    "flist,ilist=[[],[]]\n",
    "for i in range(len(intlist)):\n",
    "    if len(datastore[intlist[i]].value_counts())>13:\n",
    "        flist.append(intlist[i])\n",
    "    else :\n",
    "        ilist.append(intlist[i])\n",
    "floatlist.extend(flist)\n",
    "intlist=ilist"
   ]
  },
  {
   "cell_type": "markdown",
   "id": "f818ddc9",
   "metadata": {},
   "source": [
    "### pls check wether missing values of all columns of intlist are to be imputed using classification and all other columns by regression"
   ]
  },
  {
   "cell_type": "markdown",
   "id": "1898e8d3",
   "metadata": {},
   "source": [
    "objcol is intlist. . .....it is actually assumed to be the columns where classification model is to be applied to impute the missing values.similarly all other columns are considered to have regression model to be applied to impute missing values"
   ]
  },
  {
   "cell_type": "code",
   "execution_count": 171,
   "id": "0197f63e",
   "metadata": {},
   "outputs": [],
   "source": [
    "objcol=intlist\n",
    "model_criteria=math.ceil(data.shape[0]/1500)\n",
    "model_criteria\n",
    "\n",
    "model_index=[i for i, j in enumerate(data.isnull().sum().values) if j >model_criteria] \n",
    "nonmodel_index=[i for i, j in enumerate(data.isnull().sum().values) if (j <= model_criteria)&(j>0)]\n",
    "for i in nonmodel_index:\n",
    " mean=np.array(data[data[i].isnull()==False][i]).mean()\n",
    " data[i]=(data[i].fillna(mean)).copy()"
   ]
  },
  {
   "cell_type": "code",
   "execution_count": 172,
   "id": "08971e0e",
   "metadata": {},
   "outputs": [],
   "source": [
    "d=data.copy()"
   ]
  },
  {
   "cell_type": "code",
   "execution_count": 173,
   "id": "17086232",
   "metadata": {},
   "outputs": [],
   "source": [
    "missing_index1=[i for i, j in enumerate(d.isnull().sum().values) if j > 0]\n",
    "missingcol1=[d.isnull().sum().index.tolist()[z] for z in missing_index1]"
   ]
  },
  {
   "cell_type": "code",
   "execution_count": 174,
   "id": "c2efac8b",
   "metadata": {},
   "outputs": [],
   "source": [
    "c=0\n",
    "testdata_index=[]\n",
    "traindata_index=[]\n",
    "for i in [data.isnull().sum().index.tolist()[z] for z in model_index]:\n",
    "   testdata_index.append([])\n",
    "   traindata_index.append([])\n",
    "   target1=i\n",
    "   missing_index=[i for i, j in enumerate(d.isnull().sum().values) if j > 0]\n",
    "   missingcol=[d.isnull().sum().index.tolist()[z] for z in missing_index]\n",
    "   d0=d[[z for z in d if z not in [t for t in missingcol if t not in target1]]].copy()\n",
    "   testdata=d0[pd.isnull(d0[target1])==True].copy()\n",
    "   testdata_index[c]=testdata.index.tolist()\n",
    "   testx = testdata[[z for z in testdata.columns.tolist() if z not in [target1]]].copy()\n",
    "   testy = testdata[target1].copy()\n",
    "   traindata=d0[pd.isnull(d0[target1])==False].copy()\n",
    "   traindata_index[c]=traindata.index.tolist()\n",
    "   trainx = traindata[[z for z in traindata.columns.tolist() if z not in [target1]]].copy()\n",
    "\n",
    "   cols=trainx.columns.tolist()\n",
    "   trainx = pd.DataFrame(scaler.fit_transform(trainx),columns=cols).copy()\n",
    "   testx = pd.DataFrame(scaler.fit_transform(testx),columns=cols).copy()\n",
    "   valx = pd.DataFrame(scaler.fit_transform(valx),columns=cols).copy()\n",
    "    \n",
    "   trainy = traindata[target1].copy()\n",
    "   c=c+1\n",
    "   if (target1 in objcol):\n",
    "    model=logreg\n",
    "    model.fit(trainx,trainy)\n",
    "    d.loc[d[d[target1].isnull()].index.tolist(),[target1]]=model.predict(testx).copy()\n",
    "   else:\n",
    "    model=lr(normalize = True)\n",
    "    model.fit(trainx,trainy)\n",
    "    d.loc[d[d[target1].isnull()].index.tolist(),[target1]]=model.predict(testx).copy()"
   ]
  },
  {
   "cell_type": "code",
   "execution_count": 175,
   "id": "e8741cea",
   "metadata": {},
   "outputs": [],
   "source": [
    "data=d.copy()"
   ]
  },
  {
   "cell_type": "markdown",
   "id": "a078e5db",
   "metadata": {},
   "source": [
    "## outliers"
   ]
  },
  {
   "cell_type": "code",
   "execution_count": 176,
   "id": "201c2866",
   "metadata": {},
   "outputs": [],
   "source": [
    "data_outlier=data.copy()"
   ]
  },
  {
   "cell_type": "code",
   "execution_count": 177,
   "id": "9fffbe7e",
   "metadata": {},
   "outputs": [],
   "source": [
    "data_outlier_target=data.copy()"
   ]
  },
  {
   "cell_type": "code",
   "execution_count": 178,
   "id": "edf737fc",
   "metadata": {
    "scrolled": true
   },
   "outputs": [
    {
     "data": {
      "text/html": [
       "<div>\n",
       "<style scoped>\n",
       "    .dataframe tbody tr th:only-of-type {\n",
       "        vertical-align: middle;\n",
       "    }\n",
       "\n",
       "    .dataframe tbody tr th {\n",
       "        vertical-align: top;\n",
       "    }\n",
       "\n",
       "    .dataframe thead th {\n",
       "        text-align: right;\n",
       "    }\n",
       "</style>\n",
       "<table border=\"1\" class=\"dataframe\">\n",
       "  <thead>\n",
       "    <tr style=\"text-align: right;\">\n",
       "      <th></th>\n",
       "      <th>Gender</th>\n",
       "      <th>Age</th>\n",
       "      <th>Region_Code</th>\n",
       "      <th>Occupation</th>\n",
       "      <th>Channel_Code</th>\n",
       "      <th>Vintage</th>\n",
       "      <th>Credit_Product</th>\n",
       "      <th>Avg_Account_Balance</th>\n",
       "      <th>Is_Active</th>\n",
       "      <th>Is_Lead</th>\n",
       "    </tr>\n",
       "  </thead>\n",
       "  <tbody>\n",
       "    <tr>\n",
       "      <th>0</th>\n",
       "      <td>0</td>\n",
       "      <td>73</td>\n",
       "      <td>18</td>\n",
       "      <td>1</td>\n",
       "      <td>2</td>\n",
       "      <td>43</td>\n",
       "      <td>0</td>\n",
       "      <td>1045696</td>\n",
       "      <td>0</td>\n",
       "      <td>0</td>\n",
       "    </tr>\n",
       "    <tr>\n",
       "      <th>1</th>\n",
       "      <td>0</td>\n",
       "      <td>30</td>\n",
       "      <td>27</td>\n",
       "      <td>2</td>\n",
       "      <td>0</td>\n",
       "      <td>32</td>\n",
       "      <td>0</td>\n",
       "      <td>581988</td>\n",
       "      <td>0</td>\n",
       "      <td>0</td>\n",
       "    </tr>\n",
       "    <tr>\n",
       "      <th>2</th>\n",
       "      <td>0</td>\n",
       "      <td>56</td>\n",
       "      <td>18</td>\n",
       "      <td>3</td>\n",
       "      <td>2</td>\n",
       "      <td>26</td>\n",
       "      <td>0</td>\n",
       "      <td>1484315</td>\n",
       "      <td>1</td>\n",
       "      <td>0</td>\n",
       "    </tr>\n",
       "    <tr>\n",
       "      <th>3</th>\n",
       "      <td>1</td>\n",
       "      <td>34</td>\n",
       "      <td>20</td>\n",
       "      <td>2</td>\n",
       "      <td>0</td>\n",
       "      <td>19</td>\n",
       "      <td>0</td>\n",
       "      <td>470454</td>\n",
       "      <td>0</td>\n",
       "      <td>0</td>\n",
       "    </tr>\n",
       "    <tr>\n",
       "      <th>4</th>\n",
       "      <td>0</td>\n",
       "      <td>30</td>\n",
       "      <td>32</td>\n",
       "      <td>2</td>\n",
       "      <td>0</td>\n",
       "      <td>33</td>\n",
       "      <td>0</td>\n",
       "      <td>886787</td>\n",
       "      <td>0</td>\n",
       "      <td>0</td>\n",
       "    </tr>\n",
       "  </tbody>\n",
       "</table>\n",
       "</div>"
      ],
      "text/plain": [
       "   Gender  Age  Region_Code  Occupation  Channel_Code  Vintage  \\\n",
       "0       0   73           18           1             2       43   \n",
       "1       0   30           27           2             0       32   \n",
       "2       0   56           18           3             2       26   \n",
       "3       1   34           20           2             0       19   \n",
       "4       0   30           32           2             0       33   \n",
       "\n",
       "   Credit_Product  Avg_Account_Balance  Is_Active  Is_Lead  \n",
       "0               0              1045696          0        0  \n",
       "1               0               581988          0        0  \n",
       "2               0              1484315          1        0  \n",
       "3               0               470454          0        0  \n",
       "4               0               886787          0        0  "
      ]
     },
     "execution_count": 178,
     "metadata": {},
     "output_type": "execute_result"
    }
   ],
   "source": [
    "data.head()"
   ]
  },
  {
   "cell_type": "code",
   "execution_count": 179,
   "id": "142e1d0f",
   "metadata": {},
   "outputs": [
    {
     "data": {
      "text/plain": [
       "0.8784049052691942"
      ]
     },
     "execution_count": 179,
     "metadata": {},
     "output_type": "execute_result"
    }
   ],
   "source": [
    "#seperating independent and dependent variables\n",
    "x = (data[[z for z in data.columns.tolist() if z not in [target]]]).copy()\n",
    "y =data[target].copy()\n",
    "\n",
    "train_x,test_x,train_y,test_y = train_test_split(x,y,test_size=1/4,random_state= r,stratify=y).copy()\n",
    "train_x,val_x,train_y,val_y= train_test_split(train_x, train_y, test_size=1/3,random_state=r,stratify=train_y).copy()\n",
    "\n",
    "cols=train_x.columns.tolist()\n",
    "train_x = pd.DataFrame(scaler.fit_transform(train_x),columns=cols).copy()\n",
    "test_x = pd.DataFrame(scaler.fit_transform(test_x),columns=cols).copy()\n",
    "val_x = pd.DataFrame(scaler.fit_transform(val_x),columns=cols).copy()\n",
    "\n",
    "model.fit(train_x,train_y)\n",
    "pred=model.predict_proba(val_x)\n",
    "auc(val_y,pred[:,1])"
   ]
  },
  {
   "cell_type": "code",
   "execution_count": null,
   "id": "b98b51a5",
   "metadata": {},
   "outputs": [],
   "source": []
  },
  {
   "cell_type": "code",
   "execution_count": null,
   "id": "d024b971",
   "metadata": {},
   "outputs": [],
   "source": [
    "specify noncat"
   ]
  },
  {
   "cell_type": "code",
   "execution_count": null,
   "id": "7fc5c0d6",
   "metadata": {},
   "outputs": [],
   "source": [
    "intlist=x.dtypes[x.dtypes=='int64'].index.tolist()\n",
    "floatlist=x.dtypes[x.dtypes=='float64'].index.tolist()\n",
    "catlist=x.dtypes[x.dtypes=='category'].index.tolist()"
   ]
  },
  {
   "cell_type": "raw",
   "id": "1a1df0fc",
   "metadata": {},
   "source": [
    "all int columns which are not catlist columns and whose unique values are greater than 20 (in this case) will be considered as noncat column."
   ]
  },
  {
   "cell_type": "code",
   "execution_count": null,
   "id": "a35b64f0",
   "metadata": {},
   "outputs": [],
   "source": [
    "noncat=[]\n",
    "for i in intlist:\n",
    "    if (len(data[i].value_counts())>20):\n",
    "        noncat.append(i)"
   ]
  },
  {
   "cell_type": "code",
   "execution_count": null,
   "id": "e86b643a",
   "metadata": {},
   "outputs": [],
   "source": [
    "noncat.extend(floatlist)"
   ]
  },
  {
   "cell_type": "code",
   "execution_count": null,
   "id": "8ef57988",
   "metadata": {},
   "outputs": [],
   "source": [
    "noncat"
   ]
  },
  {
   "cell_type": "code",
   "execution_count": null,
   "id": "da196f8c",
   "metadata": {},
   "outputs": [],
   "source": []
  },
  {
   "cell_type": "code",
   "execution_count": 181,
   "id": "0580d96d",
   "metadata": {},
   "outputs": [],
   "source": [
    "outlier_list,outlierhigh,outlierlow=[[],[],[]]\n",
    "for i in noncat :\n",
    "    quant25 = data[i].quantile(0.25)\n",
    "    quant75 = data[i].quantile(0.75)\n",
    "    \n",
    "    IQR = quant75 - quant25\n",
    "    med = data[i].median()\n",
    "    whis_low = quant25-(1.5*IQR)\n",
    "    whis_high = quant75+(1.5*IQR)\n",
    "    \n",
    "    outlier_high = len(data[i][data[i]>(whis_high)])\n",
    "    outlier_low = len(data[i][data[i]<(whis_low)])\n",
    "    outlier_list.append((outlier_high+outlier_low))\n",
    "    outlierhigh.append(outlier_high)\n",
    "    outlierlow.append(outlier_low)\n",
    "      \n",
    "outlier_desc=pd.DataFrame([noncat,outlier_list,outlierhigh,outlierlow],index=['columns','No of outliers','outlier high','outlier low'],).transpose()\n",
    "outlier_desc.sort_values(['No of outliers'], inplace=True ,ascending=False)\n",
    "outlier_desc.reset_index(level=None, drop=True, inplace=True, col_level=0, col_fill='')"
   ]
  },
  {
   "cell_type": "code",
   "execution_count": 182,
   "id": "efe0a228",
   "metadata": {},
   "outputs": [
    {
     "data": {
      "text/html": [
       "<div>\n",
       "<style scoped>\n",
       "    .dataframe tbody tr th:only-of-type {\n",
       "        vertical-align: middle;\n",
       "    }\n",
       "\n",
       "    .dataframe tbody tr th {\n",
       "        vertical-align: top;\n",
       "    }\n",
       "\n",
       "    .dataframe thead th {\n",
       "        text-align: right;\n",
       "    }\n",
       "</style>\n",
       "<table border=\"1\" class=\"dataframe\">\n",
       "  <thead>\n",
       "    <tr style=\"text-align: right;\">\n",
       "      <th></th>\n",
       "      <th>columns</th>\n",
       "      <th>No of outliers</th>\n",
       "      <th>outlier high</th>\n",
       "      <th>outlier low</th>\n",
       "    </tr>\n",
       "  </thead>\n",
       "  <tbody>\n",
       "    <tr>\n",
       "      <th>0</th>\n",
       "      <td>Avg_Account_Balance</td>\n",
       "      <td>104</td>\n",
       "      <td>104</td>\n",
       "      <td>0</td>\n",
       "    </tr>\n",
       "    <tr>\n",
       "      <th>1</th>\n",
       "      <td>Gender</td>\n",
       "      <td>0</td>\n",
       "      <td>0</td>\n",
       "      <td>0</td>\n",
       "    </tr>\n",
       "    <tr>\n",
       "      <th>2</th>\n",
       "      <td>Age</td>\n",
       "      <td>0</td>\n",
       "      <td>0</td>\n",
       "      <td>0</td>\n",
       "    </tr>\n",
       "    <tr>\n",
       "      <th>3</th>\n",
       "      <td>Region_Code</td>\n",
       "      <td>0</td>\n",
       "      <td>0</td>\n",
       "      <td>0</td>\n",
       "    </tr>\n",
       "    <tr>\n",
       "      <th>4</th>\n",
       "      <td>Occupation</td>\n",
       "      <td>0</td>\n",
       "      <td>0</td>\n",
       "      <td>0</td>\n",
       "    </tr>\n",
       "    <tr>\n",
       "      <th>5</th>\n",
       "      <td>Channel_Code</td>\n",
       "      <td>0</td>\n",
       "      <td>0</td>\n",
       "      <td>0</td>\n",
       "    </tr>\n",
       "    <tr>\n",
       "      <th>6</th>\n",
       "      <td>Vintage</td>\n",
       "      <td>0</td>\n",
       "      <td>0</td>\n",
       "      <td>0</td>\n",
       "    </tr>\n",
       "    <tr>\n",
       "      <th>7</th>\n",
       "      <td>Credit_Product</td>\n",
       "      <td>0</td>\n",
       "      <td>0</td>\n",
       "      <td>0</td>\n",
       "    </tr>\n",
       "    <tr>\n",
       "      <th>8</th>\n",
       "      <td>Is_Active</td>\n",
       "      <td>0</td>\n",
       "      <td>0</td>\n",
       "      <td>0</td>\n",
       "    </tr>\n",
       "  </tbody>\n",
       "</table>\n",
       "</div>"
      ],
      "text/plain": [
       "               columns No of outliers outlier high outlier low\n",
       "0  Avg_Account_Balance            104          104           0\n",
       "1               Gender              0            0           0\n",
       "2                  Age              0            0           0\n",
       "3          Region_Code              0            0           0\n",
       "4           Occupation              0            0           0\n",
       "5         Channel_Code              0            0           0\n",
       "6              Vintage              0            0           0\n",
       "7       Credit_Product              0            0           0\n",
       "8            Is_Active              0            0           0"
      ]
     },
     "execution_count": 182,
     "metadata": {},
     "output_type": "execute_result"
    }
   ],
   "source": [
    "outlier_desc"
   ]
  },
  {
   "cell_type": "code",
   "execution_count": 183,
   "id": "39fb2fb9",
   "metadata": {},
   "outputs": [
    {
     "data": {
      "text/plain": [
       "0"
      ]
     },
     "execution_count": 183,
     "metadata": {},
     "output_type": "execute_result"
    }
   ],
   "source": [
    "#set minimum number of outliers wrt total no of values which is to be considered to not to set to whiskers\n",
    "outlier_min_whisker=0\n",
    "outlier_min_whisker"
   ]
  },
  {
   "cell_type": "code",
   "execution_count": 184,
   "id": "497fa868",
   "metadata": {},
   "outputs": [],
   "source": [
    "outlierlist=outlier_desc[outlier_desc['No of outliers'] > outlier_min_whisker]['columns'].tolist()"
   ]
  },
  {
   "cell_type": "code",
   "execution_count": 185,
   "id": "febcd4ff",
   "metadata": {},
   "outputs": [
    {
     "data": {
      "text/plain": [
       "['Avg_Account_Balance']"
      ]
     },
     "execution_count": 185,
     "metadata": {},
     "output_type": "execute_result"
    }
   ],
   "source": [
    "outlierlist"
   ]
  },
  {
   "cell_type": "code",
   "execution_count": 186,
   "id": "acfd9aaa",
   "metadata": {},
   "outputs": [],
   "source": [
    "data=data_outlier.copy()\n",
    "evallist=[]\n",
    "for k in outlierlist:\n",
    " data=data_outlier.copy()\n",
    " for i in data[[z for z in noncat if z not in k]]:\n",
    "     quant25 = data[i].quantile(0.25)\n",
    "     quant75 = data[i].quantile(0.75)\n",
    "     IQR = quant75 - quant25\n",
    "     med = data[i].median()\n",
    "     whis_low = quant25-(1.5*IQR)\n",
    "     whis_high = quant75+(1.5*IQR)\n",
    " \n",
    "     data[i][data[i]>whis_high] = whis_high+1\n",
    "     data[i][data[i]<whis_low] = whis_low-1\n",
    "\n",
    " #seperating independent and dependent variables\n",
    " x = (data[[z for z in data.columns.tolist() if z not in [target]]]).copy()\n",
    " y =data[target].copy() \n",
    "\n",
    " train_x,test_x,train_y,test_y = train_test_split(x,y,test_size=1/4,random_state= r,stratify=y).copy()\n",
    " train_x,val_x,train_y,val_y= train_test_split(train_x, train_y, test_size=1/3,random_state=r,stratify=train_y).copy()\n",
    "\n",
    " cols=train_x.columns.tolist()\n",
    " train_x = pd.DataFrame(scaler.fit_transform(train_x),columns=cols).copy()\n",
    " test_x = pd.DataFrame(scaler.fit_transform(test_x),columns=cols).copy()\n",
    " val_x = pd.DataFrame(scaler.fit_transform(val_x),columns=cols).copy()\n",
    "\n",
    " model.fit(train_x,train_y)\n",
    " pred=model.predict_proba(val_x)\n",
    " evallist.append(auc(val_y,pred[:,1]))"
   ]
  },
  {
   "cell_type": "code",
   "execution_count": 187,
   "id": "a6cad19a",
   "metadata": {},
   "outputs": [],
   "source": [
    "data=data_outlier_target.copy()\n",
    "evallist_target=[]\n",
    "for k in outlierlist:\n",
    " data=data_outlier_target.copy()\n",
    " for i in data[[z for z in noncat if z not in k]]:\n",
    "     quant25 = data[i].quantile(0.25)\n",
    "     quant75 = data[i].quantile(0.75)\n",
    "     IQR = quant75 - quant25\n",
    "     med = data[i].median()\n",
    "     whis_low = quant25-(1.5*IQR)\n",
    "     whis_high = quant75+(1.5*IQR)\n",
    " \n",
    "     data[i][data[i]>whis_high] = whis_high+1\n",
    "     data[i][data[i]<whis_low] = whis_low-1\n",
    "\n",
    " #seperating independent and dependent variables\n",
    " x = data[[z for z in data.columns.tolist() if z not in [target]]].copy()\n",
    " y = data[target].copy()\n",
    " x.shape, y.shape\n",
    "\n",
    " train_x,test_x,train_y,test_y = train_test_split(x,y,test_size=1/4,random_state= r,stratify=y).copy()\n",
    " train_x,val_x,train_y,val_y= train_test_split(train_x, train_y, test_size=1/3,random_state=r,stratify=train_y).copy()\n",
    "\n",
    " cols=train_x.columns.tolist()\n",
    " train_x = pd.DataFrame(scaler.fit_transform(train_x),columns=cols).copy()\n",
    " test_x = pd.DataFrame(scaler.fit_transform(test_x),columns=cols).copy()\n",
    " val_x = pd.DataFrame(scaler.fit_transform(val_x),columns=cols).copy()\n",
    "    \n",
    " model.fit(train_x,train_y)\n",
    " pred=model.predict_proba(val_x)\n",
    " evallist_target.append(auc(val_y,pred[:,1]))"
   ]
  },
  {
   "cell_type": "code",
   "execution_count": 188,
   "id": "99370a2c",
   "metadata": {},
   "outputs": [
    {
     "data": {
      "text/plain": [
       "[0.8784049052691942]"
      ]
     },
     "execution_count": 188,
     "metadata": {},
     "output_type": "execute_result"
    }
   ],
   "source": [
    " evallist"
   ]
  },
  {
   "cell_type": "code",
   "execution_count": 189,
   "id": "04cb2314",
   "metadata": {},
   "outputs": [
    {
     "data": {
      "text/plain": [
       "[0.8784049052691942]"
      ]
     },
     "execution_count": 189,
     "metadata": {},
     "output_type": "execute_result"
    }
   ],
   "source": [
    " evallist_target"
   ]
  },
  {
   "cell_type": "code",
   "execution_count": 190,
   "id": "c6b5d8ae",
   "metadata": {},
   "outputs": [],
   "source": [
    "data=data_outlier_target.copy()\n",
    "for i in data[[z for z in noncat if z not in k]]:\n",
    "     quant25 = data[i].quantile(0.25)\n",
    "     quant75 = data[i].quantile(0.75)\n",
    "     IQR = quant75 - quant25\n",
    "     med = data[i].median()\n",
    "     whis_low = quant25-(1.5*IQR)\n",
    "     whis_high = quant75+(1.5*IQR)\n",
    " \n",
    "     data[i][data[i]>whis_high] = whis_high+1\n",
    "     data[i][data[i]<whis_low] = whis_low-1\n",
    "#seperating independent and dependent variables\n",
    "x = data[[z for z in data.columns.tolist() if z not in [target]]].copy()\n",
    "y = data[target].copy()\n",
    "x.shape, y.shape\n",
    "\n",
    "train_x,test_x,train_y,test_y = train_test_split(x,y,test_size=1/4,random_state= r,stratify=y).copy()\n",
    "train_x,val_x,train_y,val_y= train_test_split(train_x, train_y, test_size=1/3,random_state=r,stratify=train_y).copy()\n",
    "\n",
    "cols=train_x.columns.tolist()\n",
    "train_x = pd.DataFrame(scaler.fit_transform(train_x),columns=cols).copy()\n",
    "test_x = pd.DataFrame(scaler.fit_transform(test_x),columns=cols).copy()\n",
    "val_x = pd.DataFrame(scaler.fit_transform(val_x),columns=cols).copy()\n",
    "\n",
    "model.fit(train_x,train_y)\n",
    "pred=model.predict_proba(val_x)\n",
    "eval_target=auc(val_y,pred[:,1])"
   ]
  },
  {
   "cell_type": "code",
   "execution_count": 191,
   "id": "cf7f00c1",
   "metadata": {},
   "outputs": [
    {
     "data": {
      "text/plain": [
       "0.8784049052691942"
      ]
     },
     "execution_count": 191,
     "metadata": {},
     "output_type": "execute_result"
    }
   ],
   "source": [
    "eval_target"
   ]
  },
  {
   "cell_type": "code",
   "execution_count": 192,
   "id": "50fc90a0",
   "metadata": {},
   "outputs": [],
   "source": [
    "data=data_outlier.copy()\n",
    "for i in data[[z for z in noncat if z not in k]]:\n",
    "     quant25 = data[i].quantile(0.25)\n",
    "     quant75 = data[i].quantile(0.75)\n",
    "     IQR = quant75 - quant25\n",
    "     med = data[i].median()\n",
    "     whis_low = quant25-(1.5*IQR)\n",
    "     whis_high = quant75+(1.5*IQR)\n",
    " \n",
    "     data[i][data[i]>whis_high] = whis_high+1\n",
    "     data[i][data[i]<whis_low] = whis_low-1\n",
    "#seperating independent and dependent variables\n",
    "x = data[[z for z in data.columns.tolist() if z not in [target]]].copy()\n",
    "y = data[target].copy()\n",
    "x.shape, y.shape\n",
    "\n",
    "train_x,test_x,train_y,test_y = train_test_split(x,y,test_size=1/4,random_state= r,stratify=y).copy()\n",
    "train_x,val_x,train_y,val_y= train_test_split(train_x, train_y, test_size=1/3,random_state=r,stratify=train_y).copy()\n",
    "\n",
    "cols=train_x.columns.tolist()\n",
    "train_x = pd.DataFrame(scaler.fit_transform(train_x),columns=cols).copy()\n",
    "test_x = pd.DataFrame(scaler.fit_transform(test_x),columns=cols).copy()\n",
    "val_x = pd.DataFrame(scaler.fit_transform(val_x),columns=cols).copy()\n",
    "\n",
    "\n",
    "model.fit(train_x,train_y)\n",
    "pred=model.predict_proba(val_x)\n",
    "eval=auc(val_y,pred[:,1])"
   ]
  },
  {
   "cell_type": "code",
   "execution_count": 193,
   "id": "b812d913",
   "metadata": {},
   "outputs": [
    {
     "data": {
      "text/plain": [
       "0.8784049052691942"
      ]
     },
     "execution_count": 193,
     "metadata": {},
     "output_type": "execute_result"
    }
   ],
   "source": [
    "eval"
   ]
  },
  {
   "cell_type": "code",
   "execution_count": 194,
   "id": "9a7fa176",
   "metadata": {},
   "outputs": [
    {
     "name": "stdout",
     "output_type": "stream",
     "text": [
      "the outliers from the target column will not be removed\n",
      "the outliers from  []  will not be removed to minimize eval metric\n"
     ]
    }
   ],
   "source": [
    "if (eval<eval_target):\n",
    "    data=data_outlier_target.copy()\n",
    "    evalvalist=[z for z in evallist_target if z>eval_target]\n",
    "    outlierlist_index=[i for i, e in enumerate(evallist_target) if e in evalvalist]\n",
    "    outliercol=[outlierlist[z] for z in outlierlist_index]\n",
    "    print(\"the outliers from the target column will be removed\")\n",
    "else:\n",
    "    data=data_outlier.copy()\n",
    "    evalvalist=[z for z in evallist if z>eval]\n",
    "    outlierlist_index=[i for i, e in enumerate(evallist) if e in evalvalist]\n",
    "    outliercol=[outlierlist[z] for z in outlierlist_index]\n",
    "    print(\"the outliers from the target column will not be removed\")\n",
    "print(\"the outliers from \" ,outliercol, \" will not be removed to minimize eval metric\")\n",
    "    "
   ]
  },
  {
   "cell_type": "markdown",
   "id": "cf913acf",
   "metadata": {},
   "source": [
    "please note if multiple columns have outliers which should not be removed to minimize eval metric then process might be complex slightly"
   ]
  },
  {
   "cell_type": "code",
   "execution_count": 195,
   "id": "c235d03a",
   "metadata": {},
   "outputs": [],
   "source": [
    "kp=[0.05,0.01,0.005]\n",
    "kn=[-0.05,-0.01,-0.005]"
   ]
  },
  {
   "cell_type": "code",
   "execution_count": 196,
   "id": "5fd129ce",
   "metadata": {},
   "outputs": [],
   "source": [
    "datak=data.copy()"
   ]
  },
  {
   "cell_type": "code",
   "execution_count": 197,
   "id": "50bb83dc",
   "metadata": {},
   "outputs": [],
   "source": [
    "k=[-0.0005,0,0.0005]\n",
    "evallistk=[]\n",
    "for j in k:\n",
    " data=datak.copy()\n",
    " for i in [h for h in outlierlist if h not in outliercol]:\n",
    "     quant25 = data[i].quantile(0.25)\n",
    "     quant75 = data[i].quantile(0.75)\n",
    "     IQR = quant75 - quant25\n",
    "     med = data[i].median()\n",
    "     whis_low = quant25-(1.5*IQR)\n",
    "     whis_high = quant75+(1.5*IQR)\n",
    "     range=np.array(data[i]).max()-np.array(data[i]).min()\n",
    "     \n",
    "     data[i][data[i]>whis_high] = whis_high+1-j*range\n",
    "     data[i][data[i]<whis_low] = whis_low-1+j*range\n",
    " #seperating independent and dependent variables\n",
    " x = data[[z for z in data.columns.tolist() if z not in [target]]].copy()\n",
    " y = data[target].copy()\n",
    " x.shape, y.shape\n",
    "    \n",
    " train_x,test_x,train_y,test_y = train_test_split(x,y,test_size=1/4,random_state= r,stratify=y).copy()\n",
    " train_x,val_x,train_y,val_y= train_test_split(train_x, train_y, test_size=1/3,random_state=r,stratify=train_y).copy()\n",
    "\n",
    " cols=train_x.columns.tolist()\n",
    " train_x = pd.DataFrame(scaler.fit_transform(train_x),columns=cols).copy()\n",
    " test_x = pd.DataFrame(scaler.fit_transform(test_x),columns=cols).copy()\n",
    " val_x = pd.DataFrame(scaler.fit_transform(val_x),columns=cols).copy()\n",
    "\n",
    " model.fit(train_x,train_y)\n",
    " pred=model.predict_proba(val_x)\n",
    " evallistk.append(auc(val_y, pred[:,1]))"
   ]
  },
  {
   "cell_type": "code",
   "execution_count": 198,
   "id": "0432c7f5",
   "metadata": {},
   "outputs": [
    {
     "data": {
      "text/plain": [
       "[0.8790665872648271, 0.8790445311983061, 0.8790445311983061]"
      ]
     },
     "execution_count": 198,
     "metadata": {},
     "output_type": "execute_result"
    }
   ],
   "source": [
    "evallistk"
   ]
  },
  {
   "cell_type": "code",
   "execution_count": 199,
   "id": "db848cdc",
   "metadata": {},
   "outputs": [],
   "source": [
    "if (evallistk[2]==np.array(evallistk).max()):\n",
    "    k=kp\n",
    "elif (evallistk[0]==np.array(evallistk).max()):\n",
    "    k=kn\n",
    "else:\n",
    "    k=[0]"
   ]
  },
  {
   "cell_type": "markdown",
   "id": "e3a1a49a",
   "metadata": {},
   "source": [
    "### next 2 cells are for repititive whisker treatment of nontarget outlier columns"
   ]
  },
  {
   "cell_type": "code",
   "execution_count": 220,
   "id": "af2b92b0",
   "metadata": {},
   "outputs": [],
   "source": [
    "evallistk=[]\n",
    "for j in k:\n",
    " data=datak.copy()\n",
    " for i in [h for h in outlierlist if h not in outliercol]:\n",
    "     quant25 = data[i].quantile(0.25)\n",
    "     quant75 = data[i].quantile(0.75)\n",
    "     IQR = quant75 - quant25\n",
    "     med = data[i].median()\n",
    "     whis_low = quant25-(1.5*IQR)\n",
    "     whis_high = quant75+(1.5*IQR)\n",
    "     range=np.array(data[i]).max()-np.array(data[i]).min()\n",
    "     \n",
    "     data[i][data[i]>whis_high] = whis_high+1-j*range\n",
    "     data[i][data[i]<whis_low] = whis_low-1+j*range\n",
    " #seperating independent and dependent variables\n",
    " x = data[[z for z in data.columns.tolist() if z not in [target]]].copy()\n",
    " y = data[target].copy()\n",
    " x.shape, y.shape\n",
    " train_x,test_x,train_y,test_y = train_test_split(x,y,test_size=1/4,random_state= r,stratify=y).copy()\n",
    " train_x,val_x,train_y,val_y= train_test_split(train_x, train_y, test_size=1/3,random_state=r,stratify=train_y).copy()\n",
    "\n",
    " cols=train_x.columns.tolist()\n",
    " train_x = pd.DataFrame(scaler.fit_transform(train_x),columns=cols).copy()\n",
    " test_x = pd.DataFrame(scaler.fit_transform(test_x),columns=cols).copy()\n",
    " val_x = pd.DataFrame(scaler.fit_transform(val_x),columns=cols).copy()\n",
    "\n",
    " model.fit(train_x,train_y)\n",
    " pred=model.predict_proba(val_x)\n",
    " evallistk.append(auc(val_y, pred[:,1]))"
   ]
  },
  {
   "cell_type": "code",
   "execution_count": 221,
   "id": "3a2053db",
   "metadata": {},
   "outputs": [
    {
     "data": {
      "text/plain": [
       "[0.8790886433313483,\n",
       " 0.8790886433313483,\n",
       " 0.8790886433313483,\n",
       " 0.8790886433313483,\n",
       " 0.8790665872648271]"
      ]
     },
     "execution_count": 221,
     "metadata": {},
     "output_type": "execute_result"
    }
   ],
   "source": [
    " evallistk"
   ]
  },
  {
   "cell_type": "markdown",
   "id": "68d255dc",
   "metadata": {},
   "source": [
    "#### step ke value pe dhyan do"
   ]
  },
  {
   "cell_type": "code",
   "execution_count": 222,
   "id": "8e6650a5",
   "metadata": {},
   "outputs": [],
   "source": [
    "kmain=k[evallistk.index(np.array(evallistk).max())]\n",
    "\n",
    "step=kmain/(kval_n*20)\n",
    "\n",
    "k=[z for z in kval(kmain,step,kval_n)]"
   ]
  },
  {
   "cell_type": "code",
   "execution_count": 223,
   "id": "716d993d",
   "metadata": {},
   "outputs": [
    {
     "data": {
      "text/plain": [
       "[-0.0009137812500000002,\n",
       " -0.0009378281250000002,\n",
       " -0.0009618750000000002,\n",
       " -0.0009859218750000003,\n",
       " -0.0010099687500000002]"
      ]
     },
     "execution_count": 223,
     "metadata": {},
     "output_type": "execute_result"
    }
   ],
   "source": [
    "k"
   ]
  },
  {
   "cell_type": "markdown",
   "id": "f3f774bb",
   "metadata": {},
   "source": [
    "keep on reducing rmse value by decreasing step whenever necassary"
   ]
  },
  {
   "cell_type": "code",
   "execution_count": 224,
   "id": "39b3cb99",
   "metadata": {},
   "outputs": [
    {
     "data": {
      "text/plain": [
       "0.8790886433313483"
      ]
     },
     "execution_count": 224,
     "metadata": {},
     "output_type": "execute_result"
    }
   ],
   "source": [
    " j= k[evallistk.index(np.array(evallistk).max())]\n",
    " data=datak.copy()\n",
    " for i in [h for h in outlierlist if h not in outliercol]:\n",
    "     quant25 = data[i].quantile(0.25)\n",
    "     quant75 = data[i].quantile(0.75)\n",
    "     IQR = quant75 - quant25\n",
    "     med = data[i].median()\n",
    "     whis_low = quant25-(1.5*IQR)\n",
    "     whis_high = quant75+(1.5*IQR)\n",
    "     range=np.array(data[i]).max()-np.array(data[i]).min()\n",
    "     \n",
    "     data[i][data[i]>whis_high] = whis_high+1-j*range\n",
    "     data[i][data[i]<whis_low] = whis_low-1+j*range\n",
    " #seperating independent and dependent variables\n",
    " x = data[[z for z in data.columns.tolist() if z not in [target]]].copy()\n",
    " y = data[target].copy()\n",
    " x.shape, y.shape\n",
    " train_x,test_x,train_y,test_y = train_test_split(x,y,test_size=1/4,random_state= r,stratify=y).copy()\n",
    " train_x,val_x,train_y,val_y= train_test_split(train_x, train_y, test_size=1/3,random_state=r,stratify=train_y).copy()\n",
    "\n",
    " cols=train_x.columns.tolist()\n",
    " train_x = pd.DataFrame(scaler.fit_transform(train_x),columns=cols).copy()\n",
    " test_x = pd.DataFrame(scaler.fit_transform(test_x),columns=cols).copy()\n",
    " val_x = pd.DataFrame(scaler.fit_transform(val_x),columns=cols).copy()\n",
    "\n",
    " model.fit(train_x,train_y)\n",
    " pred=model.predict_proba(val_x)\n",
    " auc(val_y, pred[:,1])"
   ]
  },
  {
   "cell_type": "code",
   "execution_count": 225,
   "id": "79f4dae9",
   "metadata": {},
   "outputs": [
    {
     "data": {
      "text/plain": [
       "-0.0009137812500000002"
      ]
     },
     "execution_count": 225,
     "metadata": {},
     "output_type": "execute_result"
    }
   ],
   "source": [
    "j"
   ]
  },
  {
   "cell_type": "code",
   "execution_count": 226,
   "id": "41d903a9",
   "metadata": {},
   "outputs": [
    {
     "data": {
      "text/html": [
       "<div>\n",
       "<style scoped>\n",
       "    .dataframe tbody tr th:only-of-type {\n",
       "        vertical-align: middle;\n",
       "    }\n",
       "\n",
       "    .dataframe tbody tr th {\n",
       "        vertical-align: top;\n",
       "    }\n",
       "\n",
       "    .dataframe thead th {\n",
       "        text-align: right;\n",
       "    }\n",
       "</style>\n",
       "<table border=\"1\" class=\"dataframe\">\n",
       "  <thead>\n",
       "    <tr style=\"text-align: right;\">\n",
       "      <th></th>\n",
       "      <th>Gender</th>\n",
       "      <th>Age</th>\n",
       "      <th>Region_Code</th>\n",
       "      <th>Occupation</th>\n",
       "      <th>Channel_Code</th>\n",
       "      <th>Vintage</th>\n",
       "      <th>Credit_Product</th>\n",
       "      <th>Avg_Account_Balance</th>\n",
       "      <th>Is_Active</th>\n",
       "      <th>Is_Lead</th>\n",
       "    </tr>\n",
       "  </thead>\n",
       "  <tbody>\n",
       "    <tr>\n",
       "      <th>0</th>\n",
       "      <td>0</td>\n",
       "      <td>73</td>\n",
       "      <td>18</td>\n",
       "      <td>1</td>\n",
       "      <td>2</td>\n",
       "      <td>43</td>\n",
       "      <td>0</td>\n",
       "      <td>1045696.0</td>\n",
       "      <td>0</td>\n",
       "      <td>0</td>\n",
       "    </tr>\n",
       "    <tr>\n",
       "      <th>1</th>\n",
       "      <td>0</td>\n",
       "      <td>30</td>\n",
       "      <td>27</td>\n",
       "      <td>2</td>\n",
       "      <td>0</td>\n",
       "      <td>32</td>\n",
       "      <td>0</td>\n",
       "      <td>581988.0</td>\n",
       "      <td>0</td>\n",
       "      <td>0</td>\n",
       "    </tr>\n",
       "    <tr>\n",
       "      <th>2</th>\n",
       "      <td>0</td>\n",
       "      <td>56</td>\n",
       "      <td>18</td>\n",
       "      <td>3</td>\n",
       "      <td>2</td>\n",
       "      <td>26</td>\n",
       "      <td>0</td>\n",
       "      <td>1484315.0</td>\n",
       "      <td>1</td>\n",
       "      <td>0</td>\n",
       "    </tr>\n",
       "    <tr>\n",
       "      <th>3</th>\n",
       "      <td>1</td>\n",
       "      <td>34</td>\n",
       "      <td>20</td>\n",
       "      <td>2</td>\n",
       "      <td>0</td>\n",
       "      <td>19</td>\n",
       "      <td>0</td>\n",
       "      <td>470454.0</td>\n",
       "      <td>0</td>\n",
       "      <td>0</td>\n",
       "    </tr>\n",
       "    <tr>\n",
       "      <th>4</th>\n",
       "      <td>0</td>\n",
       "      <td>30</td>\n",
       "      <td>32</td>\n",
       "      <td>2</td>\n",
       "      <td>0</td>\n",
       "      <td>33</td>\n",
       "      <td>0</td>\n",
       "      <td>886787.0</td>\n",
       "      <td>0</td>\n",
       "      <td>0</td>\n",
       "    </tr>\n",
       "  </tbody>\n",
       "</table>\n",
       "</div>"
      ],
      "text/plain": [
       "   Gender  Age  Region_Code  Occupation  Channel_Code  Vintage  \\\n",
       "0       0   73           18           1             2       43   \n",
       "1       0   30           27           2             0       32   \n",
       "2       0   56           18           3             2       26   \n",
       "3       1   34           20           2             0       19   \n",
       "4       0   30           32           2             0       33   \n",
       "\n",
       "   Credit_Product  Avg_Account_Balance  Is_Active  Is_Lead  \n",
       "0               0            1045696.0          0        0  \n",
       "1               0             581988.0          0        0  \n",
       "2               0            1484315.0          1        0  \n",
       "3               0             470454.0          0        0  \n",
       "4               0             886787.0          0        0  "
      ]
     },
     "execution_count": 226,
     "metadata": {},
     "output_type": "execute_result"
    }
   ],
   "source": [
    "data.head()"
   ]
  },
  {
   "cell_type": "code",
   "execution_count": 227,
   "id": "95d3b94e",
   "metadata": {},
   "outputs": [],
   "source": [
    "data.to_csv('FILTERED[csv].csv',index=False)"
   ]
  },
  {
   "cell_type": "markdown",
   "id": "fbfcec02",
   "metadata": {},
   "source": [
    "#### after running all cells from outlier heading to here go back to outlier heading and again run the cells to gain improvement in rmse as target column will have treated columns to estimate whiskers and non target column will have doubly treated target column to estimate whiskers"
   ]
  },
  {
   "cell_type": "markdown",
   "id": "671a015b",
   "metadata": {},
   "source": [
    "ideally u can keep doing this process till in non target region, the rmse does not change at all almost ......for example in some cases even decimal figures VARY ONLY SLIGHTLY"
   ]
  },
  {
   "cell_type": "markdown",
   "id": "2e5d8389",
   "metadata": {},
   "source": [
    "ideally u can keep doing this process till in non target region the ideal whisker is 0 i.e. slightly above 0 (0.005) or below 0( -0.005) the rmse does not change much"
   ]
  },
  {
   "cell_type": "markdown",
   "id": "ee76418c",
   "metadata": {},
   "source": [
    "if target column has a huge number of outliers rmse might have massive scope of reduction by repititive process"
   ]
  },
  {
   "cell_type": "markdown",
   "id": "98357893",
   "metadata": {},
   "source": [
    "if target column has negligible outliers then rmse might have little scope of reduction by repitive process"
   ]
  }
 ],
 "metadata": {
  "kernelspec": {
   "display_name": "Python 3 (ipykernel)",
   "language": "python",
   "name": "python3"
  },
  "language_info": {
   "codemirror_mode": {
    "name": "ipython",
    "version": 3
   },
   "file_extension": ".py",
   "mimetype": "text/x-python",
   "name": "python",
   "nbconvert_exporter": "python",
   "pygments_lexer": "ipython3",
   "version": "3.8.5"
  }
 },
 "nbformat": 4,
 "nbformat_minor": 5
}
